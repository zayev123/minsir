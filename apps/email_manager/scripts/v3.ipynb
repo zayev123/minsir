{
 "cells": [
  {
   "cell_type": "code",
   "execution_count": 1,
   "metadata": {},
   "outputs": [
    {
     "name": "stderr",
     "output_type": "stream",
     "text": [
      "/Users/mirbilal/Desktop/minsir/minsirenv/lib/python3.12/site-packages/threadpoolctl.py:1214: RuntimeWarning: \n",
      "Found Intel OpenMP ('libiomp') and LLVM OpenMP ('libomp') loaded at\n",
      "the same time. Both libraries are known to be incompatible and this\n",
      "can cause random crashes or deadlocks on Linux when loaded in the\n",
      "same Python program.\n",
      "Using threadpoolctl may cause crashes or deadlocks. For more\n",
      "information and possible workarounds, please see\n",
      "    https://github.com/joblib/threadpoolctl/blob/master/multiple_openmp.md\n",
      "\n",
      "  warnings.warn(msg, RuntimeWarning)\n"
     ]
    }
   ],
   "source": [
    "import sys\n",
    "import django\n",
    "import os\n",
    "file_dir = \"/Users/mirbilal/Desktop/minsir/\"\n",
    "if file_dir not in sys.path:\n",
    "    sys.path.insert(0, file_dir)\n",
    "\n",
    "os.environ[\"DJANGO_SETTINGS_MODULE\"] = \"minsirx.settings\"\n",
    "os.environ[\"DJANGO_ALLOW_ASYNC_UNSAFE\"] = \"true\" \n",
    "django.setup()\n",
    "from apps.email_manager.service_layer.insurance_erp_llm import InsuranceERPLLM"
   ]
  },
  {
   "cell_type": "code",
   "execution_count": 2,
   "metadata": {},
   "outputs": [
    {
     "name": "stderr",
     "output_type": "stream",
     "text": [
      "/Users/mirbilal/Desktop/minsir/minsirenv/lib/python3.12/site-packages/huggingface_hub/file_download.py:1132: FutureWarning: `resume_download` is deprecated and will be removed in version 1.0.0. Downloads always resume when possible. If you want to force a new download, use `force_download=True`.\n",
      "  warnings.warn(\n",
      "/Users/mirbilal/Desktop/minsir/minsirenv/lib/python3.12/site-packages/langchain_core/_api/deprecation.py:139: LangChainDeprecationWarning: The class `ChatOpenAI` was deprecated in LangChain 0.0.10 and will be removed in 0.3.0. An updated version of the class exists in the langchain-openai package and should be used instead. To use it run `pip install -U langchain-openai` and import as `from langchain_openai import ChatOpenAI`.\n",
      "  warn_deprecated(\n",
      "/Users/mirbilal/Desktop/minsir/minsirenv/lib/python3.12/site-packages/langchain_core/_api/deprecation.py:139: LangChainDeprecationWarning: The method `BaseChatModel.__call__` was deprecated in langchain-core 0.1.7 and will be removed in 0.3.0. Use invoke instead.\n",
      "  warn_deprecated(\n",
      "huggingface/tokenizers: The current process just got forked, after parallelism has already been used. Disabling parallelism to avoid deadlocks...\n",
      "To disable this warning, you can either:\n",
      "\t- Avoid using `tokenizers` before the fork if possible\n",
      "\t- Explicitly set the environment variable TOKENIZERS_PARALLELISM=(true | false)\n"
     ]
    },
    {
     "name": "stdout",
     "output_type": "stream",
     "text": [
      "----\n",
      "{'net_premium': {'value': '=28,437', 'type': 'double'}, 'issue_date': {'value': '=2023-01-13', 'type': 'datetime'}, 'covernote_number': {'value': None, 'type': 'string'}, 'policy_number': {'value': '=PL-0821-202504-E12-000024', 'type': 'string'}, 'claim_number': {'value': None, 'type': 'string'}, 'customer_name': {'value': '=SIKA PAKISTAN (PVT) LIMITED', 'type': 'string'}, 'risk_type': {'value': '=Marine Insurance', 'type': 'string'}, 'event_type': {'value': 'policy_issued', 'type': 'string'}, 'sum_insured': {'value': '=790,499', 'type': 'double'}, 'premium_paid_amount': {'value': None, 'type': 'double'}, 'claim_intimation_amount': {'value': None, 'type': 'double'}, 'claim_paid_amount': {'value': None, 'type': 'double'}, 'premium_paid_date': {'value': None, 'type': 'datetime'}, 'claim_intimation_date': {'value': None, 'type': 'datetime'}, 'claim_paid_date': {'value': None, 'type': 'datetime'}}\n"
     ]
    }
   ],
   "source": [
    "insLLM = InsuranceERPLLM()\n",
    "insLLM.store_documents_in_vector_store([\"/Users/mirbilal/Desktop/minsir/media/email_attachments/PL-0123-202504-E12-000001_-_LAPTOPS_5PTg6tE.pdf\"])\n",
    "# insLLM.label_documents()\n",
    "insLLM.search_documents_vector_store()\n",
    "insLLM.query_from_final_results(insLLM.document_query_results)\n",
    "# insLLM.clean_query_results()\n",
    "print(\"----\")\n",
    "print(insLLM.queries_results)"
   ]
  },
  {
   "cell_type": "code",
   "execution_count": 4,
   "metadata": {},
   "outputs": [
    {
     "name": "stdout",
     "output_type": "stream",
     "text": [
      "{'net_premium': {'value': '404 Not Found', 'type': 'double'}, 'issue_date': {'value': datetime.datetime(2024, 2, 23, 0, 0), 'type': 'datetime'}, 'covernote_number': {'value': None, 'type': 'string'}, 'policy_number': {'value': 'PL-0223-202504-V01-000212', 'type': 'string'}, 'claim_number': {'value': None, 'type': 'string'}, 'customer_name': {'value': 'PLASCOM MOULDING SERVICES', 'type': 'string'}, 'risk_type': {'value': 'Auto Insurance', 'type': 'string'}, 'event_type': {'value': 'policy_issued', 'type': 'string'}, 'sum_insured': {'value': 2800000.0, 'type': 'double'}, 'premium_paid_amount': {'value': None, 'type': 'double'}, 'claim_intimation_amount': {'value': None, 'type': 'double'}, 'claim_paid_amount': {'value': None, 'type': 'double'}, 'premium_paid_date': {'value': None, 'type': 'datetime'}, 'claim_intimation_date': {'value': None, 'type': 'datetime'}, 'claim_paid_date': {'value': None, 'type': 'datetime'}}\n"
     ]
    }
   ],
   "source": [
    "from datetime import datetime\n",
    "import re\n",
    "\n",
    "\n",
    "for key, value_dict in insLLM.queries_results.items():\n",
    "    data_type = value_dict[\"type\"]\n",
    "    data_value = value_dict[\"value\"]\n",
    "    # value_dict[\"value\"] = None\n",
    "    # continue\n",
    "    if data_value is not None and type(data_value) is str and \"404 Not Found\" not in data_value:\n",
    "        # Clean the data value\n",
    "        data_values = data_value.split(\"=\")\n",
    "        cleaned_value = data_values[-1].strip().replace(\"'\", \"\")\n",
    "\n",
    "        # Convert the cleaned data value to the specified type\n",
    "        if data_type == \"double\":\n",
    "            try:\n",
    "                # Extract numbers from the string using regex\n",
    "                cleaned_value = re.sub(r'[^\\d.]', '', cleaned_value)\n",
    "                cleaned_value = float(cleaned_value)\n",
    "            except ValueError:\n",
    "                cleaned_value = None\n",
    "        elif data_type == \"datetime\":\n",
    "            try:\n",
    "                # Extract date in the format YYYY-MM-DD using regex\n",
    "                match = re.search(r'\\d{4}-\\d{2}-\\d{2}', cleaned_value)\n",
    "                if match:\n",
    "                    cleaned_value = datetime.strptime(match.group(), \"%Y-%m-%d\")\n",
    "                else:\n",
    "                    cleaned_value = None\n",
    "            except ValueError:\n",
    "                cleaned_value = None\n",
    "        elif data_type == \"string\":\n",
    "            cleaned_value = str(cleaned_value)\n",
    "        \n",
    "        # Update the value in the dictionary\n",
    "        value_dict[\"value\"] = cleaned_value\n",
    "\n",
    "print(insLLM.queries_results)"
   ]
  },
  {
   "cell_type": "code",
   "execution_count": 25,
   "metadata": {},
   "outputs": [],
   "source": [
    "insLLM.label_documents()"
   ]
  },
  {
   "cell_type": "code",
   "execution_count": 26,
   "metadata": {},
   "outputs": [
    {
     "name": "stdout",
     "output_type": "stream",
     "text": [
      "claim_intimated\n"
     ]
    }
   ],
   "source": [
    "print(insLLM.doc_label)"
   ]
  },
  {
   "cell_type": "code",
   "execution_count": 3,
   "metadata": {},
   "outputs": [],
   "source": [
    "dummy_convo = [\n",
    "    {\n",
    "        \"from\": \"john.doe@example.com\",\n",
    "        \"to\": [\"support@insurancecompany.com\"],\n",
    "        \"date\": \"June 15, 2023, 10:30 AM\",\n",
    "        \"subject\": \"Inquiry about Insurance Details\",\n",
    "        \"body\": \"\"\"\n",
    "Dear Support Team,\n",
    "\n",
    "I have a few queries regarding my insurance policy:\n",
    "1. What is the net premium amount?\n",
    "2. What is the starting date of the coverage period?\n",
    "3. What is the cover note number which starts with 'COV'?\n",
    "4. What is the policy number which starts with 'PL'?\n",
    "\n",
    "Thank you for your assistance.\n",
    "\n",
    "Best regards,\n",
    "John Doe\n",
    "\"\"\"\n",
    "    },\n",
    "    {\n",
    "        \"from\": \"support@insurancecompany.com\",\n",
    "        \"to\": [\"john.doe@example.com\"],\n",
    "        \"date\": \"June 15, 2023, 1:45 PM\",\n",
    "        \"subject\": \"Re: Inquiry about Insurance Details\",\n",
    "        \"body\": \"\"\"\n",
    "Dear Mr. Doe,\n",
    "\n",
    "Thank you for reaching out to us. Please find the answers to your queries below:\n",
    "1. The net premium amount for your policy is $1,200.\n",
    "2. The starting date of the coverage period is January 1, 2023.\n",
    "3. The cover note number is COV123456.\n",
    "4. The policy number is PL987654.\n",
    "\n",
    "If you have any further questions, please do not hesitate to contact us.\n",
    "\n",
    "Best regards,\n",
    "Insurance Support Team\n",
    "\"\"\"\n",
    "    },\n",
    "    {\n",
    "        \"from\": \"john.doe@example.com\",\n",
    "        \"to\": [\"support@insurancecompany.com\"],\n",
    "        \"date\": \"June 16, 2023, 9:00 AM\",\n",
    "        \"subject\": \"Re: Inquiry about Insurance Details\",\n",
    "        \"body\": \"\"\"\n",
    "Dear Support Team,\n",
    "\n",
    "Thank you for the information. Could you please confirm if the cover note number COV123456 is correct? I have a document that mentions a different cover note number.\n",
    "\n",
    "Best regards,\n",
    "John Doe\n",
    "\"\"\"\n",
    "    },\n",
    "    {\n",
    "        \"from\": \"support@insurancecompany.com\",\n",
    "        \"to\": [\"john.doe@example.com\"],\n",
    "        \"date\": \"June 16, 2023, 11:15 AM\",\n",
    "        \"subject\": \"Re: Inquiry about Insurance Details\",\n",
    "        \"body\": \"\"\"\n",
    "Dear Mr. Doe,\n",
    "\n",
    "We apologize for any confusion. After rechecking our records, the correct cover note number is COV654321.\n",
    "\n",
    "Thank you for your patience.\n",
    "\n",
    "Best regards,\n",
    "Insurance Support Team\n",
    "\"\"\"\n",
    "    }\n",
    "]"
   ]
  },
  {
   "cell_type": "code",
   "execution_count": 4,
   "metadata": {},
   "outputs": [
    {
     "name": "stdout",
     "output_type": "stream",
     "text": [
      "{\n",
      "    \"net_premium\": {\n",
      "        \"Choice 1\": \"the policy number which starts with 'PL'?\\\\n\\\\nThank you for your assistance.\\\\n\\\\nBest regards,\\\\nJohn Doe\\\\n\\\"}, {'from': 'support@insurancecompany.com', 'to': ['john.doe@example.com'], 'date': 'June 15, 2023, 1:45 PM', 'subject': 'Re: Inquiry about Insurance Details', 'body': '\\\\nDear Mr. Doe,\\\\n\\\\nThank you for reaching out to us. Please find the answers to your queries below:\\\\n1. The net premium amount for your policy is $1,200.\\\\n2. The starting date of the coverage period is January 1, 2023.\\\\n3. The\",\n",
      "        \"Choice 2\": \"for your policy is $1,200.\\\\n2. The starting date of the coverage period is January 1, 2023.\\\\n3. The cover note number is COV123456.\\\\n4. The policy number is PL987654.\\\\n\\\\nIf you have any further questions, please do not hesitate to contact us.\\\\n\\\\nBest regards,\\\\nInsurance Support Team\\\\n'}, {'from': 'john.doe@example.com', 'to': ['support@insurancecompany.com'], 'date': 'June 16, 2023, 9:00 AM', 'subject': 'Re: Inquiry about Insurance Details', 'body': '\\\\nDear Support Team,\\\\n\\\\nThank you for the\",\n",
      "        \"Choice 3\": \"[{'from': 'john.doe@example.com', 'to': ['support@insurancecompany.com'], 'date': 'June 15, 2023, 10:30 AM', 'subject': 'Inquiry about Insurance Details', 'body': \\\"\\\\nDear Support Team,\\\\n\\\\nI have a few queries regarding my insurance policy:\\\\n1. What is the net premium amount?\\\\n2. What is the starting date of the coverage period?\\\\n3. What is the cover note number which starts with 'COV'?\\\\n4. What is the policy number which starts with 'PL'?\\\\n\\\\nThank you for your assistance.\\\\n\\\\nBest regards,\\\\nJohn\"\n",
      "    },\n",
      "    \"customer_name\": {\n",
      "        \"Choice 1\": \"the policy number which starts with 'PL'?\\\\n\\\\nThank you for your assistance.\\\\n\\\\nBest regards,\\\\nJohn Doe\\\\n\\\"}, {'from': 'support@insurancecompany.com', 'to': ['john.doe@example.com'], 'date': 'June 15, 2023, 1:45 PM', 'subject': 'Re: Inquiry about Insurance Details', 'body': '\\\\nDear Mr. Doe,\\\\n\\\\nThank you for reaching out to us. Please find the answers to your queries below:\\\\n1. The net premium amount for your policy is $1,200.\\\\n2. The starting date of the coverage period is January 1, 2023.\\\\n3. The\",\n",
      "        \"Choice 2\": \"for your policy is $1,200.\\\\n2. The starting date of the coverage period is January 1, 2023.\\\\n3. The cover note number is COV123456.\\\\n4. The policy number is PL987654.\\\\n\\\\nIf you have any further questions, please do not hesitate to contact us.\\\\n\\\\nBest regards,\\\\nInsurance Support Team\\\\n'}, {'from': 'john.doe@example.com', 'to': ['support@insurancecompany.com'], 'date': 'June 16, 2023, 9:00 AM', 'subject': 'Re: Inquiry about Insurance Details', 'body': '\\\\nDear Support Team,\\\\n\\\\nThank you for the\",\n",
      "        \"Choice 3\": \"'subject': 'Re: Inquiry about Insurance Details', 'body': '\\\\nDear Support Team,\\\\n\\\\nThank you for the information. Could you please confirm if the cover note number COV123456 is correct? I have a document that mentions a different cover note number.\\\\n\\\\nBest regards,\\\\nJohn Doe\\\\n'}, {'from': 'support@insurancecompany.com', 'to': ['john.doe@example.com'], 'date': 'June 16, 2023, 11:15 AM', 'subject': 'Re: Inquiry about Insurance Details', 'body': '\\\\nDear Mr. Doe,\\\\n\\\\nWe apologize for any confusion.\"\n",
      "    },\n",
      "    \"risk_type\": {\n",
      "        \"Choice 1\": \"for your policy is $1,200.\\\\n2. The starting date of the coverage period is January 1, 2023.\\\\n3. The cover note number is COV123456.\\\\n4. The policy number is PL987654.\\\\n\\\\nIf you have any further questions, please do not hesitate to contact us.\\\\n\\\\nBest regards,\\\\nInsurance Support Team\\\\n'}, {'from': 'john.doe@example.com', 'to': ['support@insurancecompany.com'], 'date': 'June 16, 2023, 9:00 AM', 'subject': 'Re: Inquiry about Insurance Details', 'body': '\\\\nDear Support Team,\\\\n\\\\nThank you for the\",\n",
      "        \"Choice 2\": \"'subject': 'Re: Inquiry about Insurance Details', 'body': '\\\\nDear Support Team,\\\\n\\\\nThank you for the information. Could you please confirm if the cover note number COV123456 is correct? I have a document that mentions a different cover note number.\\\\n\\\\nBest regards,\\\\nJohn Doe\\\\n'}, {'from': 'support@insurancecompany.com', 'to': ['john.doe@example.com'], 'date': 'June 16, 2023, 11:15 AM', 'subject': 'Re: Inquiry about Insurance Details', 'body': '\\\\nDear Mr. Doe,\\\\n\\\\nWe apologize for any confusion.\",\n",
      "        \"Choice 3\": \"the policy number which starts with 'PL'?\\\\n\\\\nThank you for your assistance.\\\\n\\\\nBest regards,\\\\nJohn Doe\\\\n\\\"}, {'from': 'support@insurancecompany.com', 'to': ['john.doe@example.com'], 'date': 'June 15, 2023, 1:45 PM', 'subject': 'Re: Inquiry about Insurance Details', 'body': '\\\\nDear Mr. Doe,\\\\n\\\\nThank you for reaching out to us. Please find the answers to your queries below:\\\\n1. The net premium amount for your policy is $1,200.\\\\n2. The starting date of the coverage period is January 1, 2023.\\\\n3. The\"\n",
      "    },\n",
      "    \"event_type\": {\n",
      "        \"Choice 1\": \"'subject': 'Re: Inquiry about Insurance Details', 'body': '\\\\nDear Support Team,\\\\n\\\\nThank you for the information. Could you please confirm if the cover note number COV123456 is correct? I have a document that mentions a different cover note number.\\\\n\\\\nBest regards,\\\\nJohn Doe\\\\n'}, {'from': 'support@insurancecompany.com', 'to': ['john.doe@example.com'], 'date': 'June 16, 2023, 11:15 AM', 'subject': 'Re: Inquiry about Insurance Details', 'body': '\\\\nDear Mr. Doe,\\\\n\\\\nWe apologize for any confusion.\",\n",
      "        \"Choice 2\": \"[{'from': 'john.doe@example.com', 'to': ['support@insurancecompany.com'], 'date': 'June 15, 2023, 10:30 AM', 'subject': 'Inquiry about Insurance Details', 'body': \\\"\\\\nDear Support Team,\\\\n\\\\nI have a few queries regarding my insurance policy:\\\\n1. What is the net premium amount?\\\\n2. What is the starting date of the coverage period?\\\\n3. What is the cover note number which starts with 'COV'?\\\\n4. What is the policy number which starts with 'PL'?\\\\n\\\\nThank you for your assistance.\\\\n\\\\nBest regards,\\\\nJohn\",\n",
      "        \"Choice 3\": \"'Re: Inquiry about Insurance Details', 'body': '\\\\nDear Mr. Doe,\\\\n\\\\nWe apologize for any confusion. After rechecking our records, the correct cover note number is COV654321.\\\\n\\\\nThank you for your patience.\\\\n\\\\nBest regards,\\\\nInsurance Support Team\\\\n'}]\"\n",
      "    },\n",
      "    \"sum_insured\": {\n",
      "        \"Choice 1\": \"for your policy is $1,200.\\\\n2. The starting date of the coverage period is January 1, 2023.\\\\n3. The cover note number is COV123456.\\\\n4. The policy number is PL987654.\\\\n\\\\nIf you have any further questions, please do not hesitate to contact us.\\\\n\\\\nBest regards,\\\\nInsurance Support Team\\\\n'}, {'from': 'john.doe@example.com', 'to': ['support@insurancecompany.com'], 'date': 'June 16, 2023, 9:00 AM', 'subject': 'Re: Inquiry about Insurance Details', 'body': '\\\\nDear Support Team,\\\\n\\\\nThank you for the\",\n",
      "        \"Choice 2\": \"the policy number which starts with 'PL'?\\\\n\\\\nThank you for your assistance.\\\\n\\\\nBest regards,\\\\nJohn Doe\\\\n\\\"}, {'from': 'support@insurancecompany.com', 'to': ['john.doe@example.com'], 'date': 'June 15, 2023, 1:45 PM', 'subject': 'Re: Inquiry about Insurance Details', 'body': '\\\\nDear Mr. Doe,\\\\n\\\\nThank you for reaching out to us. Please find the answers to your queries below:\\\\n1. The net premium amount for your policy is $1,200.\\\\n2. The starting date of the coverage period is January 1, 2023.\\\\n3. The\",\n",
      "        \"Choice 3\": \"'Re: Inquiry about Insurance Details', 'body': '\\\\nDear Mr. Doe,\\\\n\\\\nWe apologize for any confusion. After rechecking our records, the correct cover note number is COV654321.\\\\n\\\\nThank you for your patience.\\\\n\\\\nBest regards,\\\\nInsurance Support Team\\\\n'}]\"\n",
      "    },\n",
      "    \"premium_paid_amount\": {\n",
      "        \"Choice 1\": \"for your policy is $1,200.\\\\n2. The starting date of the coverage period is January 1, 2023.\\\\n3. The cover note number is COV123456.\\\\n4. The policy number is PL987654.\\\\n\\\\nIf you have any further questions, please do not hesitate to contact us.\\\\n\\\\nBest regards,\\\\nInsurance Support Team\\\\n'}, {'from': 'john.doe@example.com', 'to': ['support@insurancecompany.com'], 'date': 'June 16, 2023, 9:00 AM', 'subject': 'Re: Inquiry about Insurance Details', 'body': '\\\\nDear Support Team,\\\\n\\\\nThank you for the\",\n",
      "        \"Choice 2\": \"the policy number which starts with 'PL'?\\\\n\\\\nThank you for your assistance.\\\\n\\\\nBest regards,\\\\nJohn Doe\\\\n\\\"}, {'from': 'support@insurancecompany.com', 'to': ['john.doe@example.com'], 'date': 'June 15, 2023, 1:45 PM', 'subject': 'Re: Inquiry about Insurance Details', 'body': '\\\\nDear Mr. Doe,\\\\n\\\\nThank you for reaching out to us. Please find the answers to your queries below:\\\\n1. The net premium amount for your policy is $1,200.\\\\n2. The starting date of the coverage period is January 1, 2023.\\\\n3. The\",\n",
      "        \"Choice 3\": \"[{'from': 'john.doe@example.com', 'to': ['support@insurancecompany.com'], 'date': 'June 15, 2023, 10:30 AM', 'subject': 'Inquiry about Insurance Details', 'body': \\\"\\\\nDear Support Team,\\\\n\\\\nI have a few queries regarding my insurance policy:\\\\n1. What is the net premium amount?\\\\n2. What is the starting date of the coverage period?\\\\n3. What is the cover note number which starts with 'COV'?\\\\n4. What is the policy number which starts with 'PL'?\\\\n\\\\nThank you for your assistance.\\\\n\\\\nBest regards,\\\\nJohn\"\n",
      "    },\n",
      "    \"claim_intimation_amount\": {\n",
      "        \"Choice 1\": \"the policy number which starts with 'PL'?\\\\n\\\\nThank you for your assistance.\\\\n\\\\nBest regards,\\\\nJohn Doe\\\\n\\\"}, {'from': 'support@insurancecompany.com', 'to': ['john.doe@example.com'], 'date': 'June 15, 2023, 1:45 PM', 'subject': 'Re: Inquiry about Insurance Details', 'body': '\\\\nDear Mr. Doe,\\\\n\\\\nThank you for reaching out to us. Please find the answers to your queries below:\\\\n1. The net premium amount for your policy is $1,200.\\\\n2. The starting date of the coverage period is January 1, 2023.\\\\n3. The\",\n",
      "        \"Choice 2\": \"for your policy is $1,200.\\\\n2. The starting date of the coverage period is January 1, 2023.\\\\n3. The cover note number is COV123456.\\\\n4. The policy number is PL987654.\\\\n\\\\nIf you have any further questions, please do not hesitate to contact us.\\\\n\\\\nBest regards,\\\\nInsurance Support Team\\\\n'}, {'from': 'john.doe@example.com', 'to': ['support@insurancecompany.com'], 'date': 'June 16, 2023, 9:00 AM', 'subject': 'Re: Inquiry about Insurance Details', 'body': '\\\\nDear Support Team,\\\\n\\\\nThank you for the\",\n",
      "        \"Choice 3\": \"'subject': 'Re: Inquiry about Insurance Details', 'body': '\\\\nDear Support Team,\\\\n\\\\nThank you for the information. Could you please confirm if the cover note number COV123456 is correct? I have a document that mentions a different cover note number.\\\\n\\\\nBest regards,\\\\nJohn Doe\\\\n'}, {'from': 'support@insurancecompany.com', 'to': ['john.doe@example.com'], 'date': 'June 16, 2023, 11:15 AM', 'subject': 'Re: Inquiry about Insurance Details', 'body': '\\\\nDear Mr. Doe,\\\\n\\\\nWe apologize for any confusion.\"\n",
      "    },\n",
      "    \"claim_paid_amount\": {\n",
      "        \"Choice 1\": \"for your policy is $1,200.\\\\n2. The starting date of the coverage period is January 1, 2023.\\\\n3. The cover note number is COV123456.\\\\n4. The policy number is PL987654.\\\\n\\\\nIf you have any further questions, please do not hesitate to contact us.\\\\n\\\\nBest regards,\\\\nInsurance Support Team\\\\n'}, {'from': 'john.doe@example.com', 'to': ['support@insurancecompany.com'], 'date': 'June 16, 2023, 9:00 AM', 'subject': 'Re: Inquiry about Insurance Details', 'body': '\\\\nDear Support Team,\\\\n\\\\nThank you for the\",\n",
      "        \"Choice 2\": \"the policy number which starts with 'PL'?\\\\n\\\\nThank you for your assistance.\\\\n\\\\nBest regards,\\\\nJohn Doe\\\\n\\\"}, {'from': 'support@insurancecompany.com', 'to': ['john.doe@example.com'], 'date': 'June 15, 2023, 1:45 PM', 'subject': 'Re: Inquiry about Insurance Details', 'body': '\\\\nDear Mr. Doe,\\\\n\\\\nThank you for reaching out to us. Please find the answers to your queries below:\\\\n1. The net premium amount for your policy is $1,200.\\\\n2. The starting date of the coverage period is January 1, 2023.\\\\n3. The\",\n",
      "        \"Choice 3\": \"'subject': 'Re: Inquiry about Insurance Details', 'body': '\\\\nDear Support Team,\\\\n\\\\nThank you for the information. Could you please confirm if the cover note number COV123456 is correct? I have a document that mentions a different cover note number.\\\\n\\\\nBest regards,\\\\nJohn Doe\\\\n'}, {'from': 'support@insurancecompany.com', 'to': ['john.doe@example.com'], 'date': 'June 16, 2023, 11:15 AM', 'subject': 'Re: Inquiry about Insurance Details', 'body': '\\\\nDear Mr. Doe,\\\\n\\\\nWe apologize for any confusion.\"\n",
      "    },\n",
      "    \"premium_paid_date\": {\n",
      "        \"Choice 1\": \"for your policy is $1,200.\\\\n2. The starting date of the coverage period is January 1, 2023.\\\\n3. The cover note number is COV123456.\\\\n4. The policy number is PL987654.\\\\n\\\\nIf you have any further questions, please do not hesitate to contact us.\\\\n\\\\nBest regards,\\\\nInsurance Support Team\\\\n'}, {'from': 'john.doe@example.com', 'to': ['support@insurancecompany.com'], 'date': 'June 16, 2023, 9:00 AM', 'subject': 'Re: Inquiry about Insurance Details', 'body': '\\\\nDear Support Team,\\\\n\\\\nThank you for the\",\n",
      "        \"Choice 2\": \"the policy number which starts with 'PL'?\\\\n\\\\nThank you for your assistance.\\\\n\\\\nBest regards,\\\\nJohn Doe\\\\n\\\"}, {'from': 'support@insurancecompany.com', 'to': ['john.doe@example.com'], 'date': 'June 15, 2023, 1:45 PM', 'subject': 'Re: Inquiry about Insurance Details', 'body': '\\\\nDear Mr. Doe,\\\\n\\\\nThank you for reaching out to us. Please find the answers to your queries below:\\\\n1. The net premium amount for your policy is $1,200.\\\\n2. The starting date of the coverage period is January 1, 2023.\\\\n3. The\",\n",
      "        \"Choice 3\": \"[{'from': 'john.doe@example.com', 'to': ['support@insurancecompany.com'], 'date': 'June 15, 2023, 10:30 AM', 'subject': 'Inquiry about Insurance Details', 'body': \\\"\\\\nDear Support Team,\\\\n\\\\nI have a few queries regarding my insurance policy:\\\\n1. What is the net premium amount?\\\\n2. What is the starting date of the coverage period?\\\\n3. What is the cover note number which starts with 'COV'?\\\\n4. What is the policy number which starts with 'PL'?\\\\n\\\\nThank you for your assistance.\\\\n\\\\nBest regards,\\\\nJohn\"\n",
      "    },\n",
      "    \"claim_intimation_date\": {\n",
      "        \"Choice 1\": \"the policy number which starts with 'PL'?\\\\n\\\\nThank you for your assistance.\\\\n\\\\nBest regards,\\\\nJohn Doe\\\\n\\\"}, {'from': 'support@insurancecompany.com', 'to': ['john.doe@example.com'], 'date': 'June 15, 2023, 1:45 PM', 'subject': 'Re: Inquiry about Insurance Details', 'body': '\\\\nDear Mr. Doe,\\\\n\\\\nThank you for reaching out to us. Please find the answers to your queries below:\\\\n1. The net premium amount for your policy is $1,200.\\\\n2. The starting date of the coverage period is January 1, 2023.\\\\n3. The\",\n",
      "        \"Choice 2\": \"'subject': 'Re: Inquiry about Insurance Details', 'body': '\\\\nDear Support Team,\\\\n\\\\nThank you for the information. Could you please confirm if the cover note number COV123456 is correct? I have a document that mentions a different cover note number.\\\\n\\\\nBest regards,\\\\nJohn Doe\\\\n'}, {'from': 'support@insurancecompany.com', 'to': ['john.doe@example.com'], 'date': 'June 16, 2023, 11:15 AM', 'subject': 'Re: Inquiry about Insurance Details', 'body': '\\\\nDear Mr. Doe,\\\\n\\\\nWe apologize for any confusion.\",\n",
      "        \"Choice 3\": \"for your policy is $1,200.\\\\n2. The starting date of the coverage period is January 1, 2023.\\\\n3. The cover note number is COV123456.\\\\n4. The policy number is PL987654.\\\\n\\\\nIf you have any further questions, please do not hesitate to contact us.\\\\n\\\\nBest regards,\\\\nInsurance Support Team\\\\n'}, {'from': 'john.doe@example.com', 'to': ['support@insurancecompany.com'], 'date': 'June 16, 2023, 9:00 AM', 'subject': 'Re: Inquiry about Insurance Details', 'body': '\\\\nDear Support Team,\\\\n\\\\nThank you for the\"\n",
      "    },\n",
      "    \"claim_paid_date\": {\n",
      "        \"Choice 1\": \"for your policy is $1,200.\\\\n2. The starting date of the coverage period is January 1, 2023.\\\\n3. The cover note number is COV123456.\\\\n4. The policy number is PL987654.\\\\n\\\\nIf you have any further questions, please do not hesitate to contact us.\\\\n\\\\nBest regards,\\\\nInsurance Support Team\\\\n'}, {'from': 'john.doe@example.com', 'to': ['support@insurancecompany.com'], 'date': 'June 16, 2023, 9:00 AM', 'subject': 'Re: Inquiry about Insurance Details', 'body': '\\\\nDear Support Team,\\\\n\\\\nThank you for the\",\n",
      "        \"Choice 2\": \"the policy number which starts with 'PL'?\\\\n\\\\nThank you for your assistance.\\\\n\\\\nBest regards,\\\\nJohn Doe\\\\n\\\"}, {'from': 'support@insurancecompany.com', 'to': ['john.doe@example.com'], 'date': 'June 15, 2023, 1:45 PM', 'subject': 'Re: Inquiry about Insurance Details', 'body': '\\\\nDear Mr. Doe,\\\\n\\\\nThank you for reaching out to us. Please find the answers to your queries below:\\\\n1. The net premium amount for your policy is $1,200.\\\\n2. The starting date of the coverage period is January 1, 2023.\\\\n3. The\",\n",
      "        \"Choice 3\": \"'subject': 'Re: Inquiry about Insurance Details', 'body': '\\\\nDear Support Team,\\\\n\\\\nThank you for the information. Could you please confirm if the cover note number COV123456 is correct? I have a document that mentions a different cover note number.\\\\n\\\\nBest regards,\\\\nJohn Doe\\\\n'}, {'from': 'support@insurancecompany.com', 'to': ['john.doe@example.com'], 'date': 'June 16, 2023, 11:15 AM', 'subject': 'Re: Inquiry about Insurance Details', 'body': '\\\\nDear Mr. Doe,\\\\n\\\\nWe apologize for any confusion.\"\n",
      "    }\n",
      "}\n",
      "Number of tokens: 2174\n"
     ]
    },
    {
     "name": "stderr",
     "output_type": "stream",
     "text": [
      "/Users/mirbilal/Desktop/minsir/minsirenv/lib/python3.12/site-packages/langchain_core/_api/deprecation.py:139: LangChainDeprecationWarning: The class `ChatOpenAI` was deprecated in LangChain 0.0.10 and will be removed in 0.3.0. An updated version of the class exists in the langchain-openai package and should be used instead. To use it run `pip install -U langchain-openai` and import as `from langchain_openai import ChatOpenAI`.\n",
      "  warn_deprecated(\n",
      "/Users/mirbilal/Desktop/minsir/minsirenv/lib/python3.12/site-packages/langchain_core/_api/deprecation.py:139: LangChainDeprecationWarning: The method `BaseChatModel.__call__` was deprecated in langchain-core 0.1.7 and will be removed in 0.3.0. Use invoke instead.\n",
      "  warn_deprecated(\n",
      "huggingface/tokenizers: The current process just got forked, after parallelism has already been used. Disabling parallelism to avoid deadlocks...\n",
      "To disable this warning, you can either:\n",
      "\t- Avoid using `tokenizers` before the fork if possible\n",
      "\t- Explicitly set the environment variable TOKENIZERS_PARALLELISM=(true | false)\n"
     ]
    },
    {
     "name": "stdout",
     "output_type": "stream",
     "text": [
      "=event type=policy_issued\n",
      "policy_issued\n",
      "-----\n",
      "net_premium =1,200\n",
      "-----\n",
      "customer_name =PL987654\n",
      "-----\n",
      "risk_type =Commercial Property Insurance\n",
      "-----\n",
      "sum_insured = $1,200\n",
      "-----\n"
     ]
    }
   ],
   "source": [
    "insLLM = InsuranceERPLLM()\n",
    "insLLM.store_convo_in_vector_store(f\"{dummy_convo}\")\n",
    "insLLM.search_convo_vector_store()\n",
    "insLLM.query_from_final_results(insLLM.convo_query_results)"
   ]
  },
  {
   "cell_type": "code",
   "execution_count": 58,
   "metadata": {},
   "outputs": [
    {
     "name": "stdout",
     "output_type": "stream",
     "text": [
      "(768,)\n"
     ]
    }
   ],
   "source": [
    "print(insLLM.get_vectors(insLLM.documents_vector_store)[0].shape)"
   ]
  }
 ],
 "metadata": {
  "kernelspec": {
   "display_name": "minsirenv",
   "language": "python",
   "name": "python3"
  },
  "language_info": {
   "codemirror_mode": {
    "name": "ipython",
    "version": 3
   },
   "file_extension": ".py",
   "mimetype": "text/x-python",
   "name": "python",
   "nbconvert_exporter": "python",
   "pygments_lexer": "ipython3",
   "version": "3.12.4"
  },
  "orig_nbformat": 4
 },
 "nbformat": 4,
 "nbformat_minor": 2
}
