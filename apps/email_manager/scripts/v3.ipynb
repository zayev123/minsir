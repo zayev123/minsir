{
 "cells": [
  {
   "cell_type": "code",
   "execution_count": 1,
   "metadata": {},
   "outputs": [],
   "source": [
    "import sys\n",
    "import django\n",
    "import os\n",
    "file_dir = \"/Users/mirbilal/Desktop/minsir/\"\n",
    "if file_dir not in sys.path:\n",
    "    sys.path.insert(0, file_dir)\n",
    "\n",
    "os.environ[\"DJANGO_SETTINGS_MODULE\"] = \"minsirx.settings\"\n",
    "os.environ[\"DJANGO_ALLOW_ASYNC_UNSAFE\"] = \"true\" \n",
    "django.setup()\n",
    "from apps.email_manager.service_layer.insurance_erp_llm import InsuranceERPLLM"
   ]
  },
  {
   "cell_type": "code",
   "execution_count": 2,
   "metadata": {},
   "outputs": [
    {
     "name": "stderr",
     "output_type": "stream",
     "text": [
      "/Users/mirbilal/Desktop/minsir/minsirenv/lib/python3.12/site-packages/sentence_transformers/cross_encoder/CrossEncoder.py:11: TqdmExperimentalWarning: Using `tqdm.autonotebook.tqdm` in notebook mode. Use `tqdm.tqdm` instead to force console mode (e.g. in jupyter console)\n",
      "  from tqdm.autonotebook import tqdm, trange\n",
      "/Users/mirbilal/Desktop/minsir/minsirenv/lib/python3.12/site-packages/threadpoolctl.py:1214: RuntimeWarning: \n",
      "Found Intel OpenMP ('libiomp') and LLVM OpenMP ('libomp') loaded at\n",
      "the same time. Both libraries are known to be incompatible and this\n",
      "can cause random crashes or deadlocks on Linux when loaded in the\n",
      "same Python program.\n",
      "Using threadpoolctl may cause crashes or deadlocks. For more\n",
      "information and possible workarounds, please see\n",
      "    https://github.com/joblib/threadpoolctl/blob/master/multiple_openmp.md\n",
      "\n",
      "  warnings.warn(msg, RuntimeWarning)\n",
      "/Users/mirbilal/Desktop/minsir/minsirenv/lib/python3.12/site-packages/huggingface_hub/file_download.py:1132: FutureWarning: `resume_download` is deprecated and will be removed in version 1.0.0. Downloads always resume when possible. If you want to force a new download, use `force_download=True`.\n",
      "  warnings.warn(\n"
     ]
    },
    {
     "name": "stdout",
     "output_type": "stream",
     "text": [
      "{\n",
      "    \"net_premium\": {\n",
      "        \"Choice 1\": \"NET PREMIUM            11,173\\n            18,621\\n            29,794\\n             1,490\\n            31,284\\n               313\\n             4,067\\n             2,235\\n            37,899.03\\n.05\\n5\\n1\\n13Rate\\nFLAVOUR LIME DURAROME\\nPROFORMA INVOICE No. 900703247 \\n(Sum insured = Invoice value + 49% Duties + 10% incidental charges)Interest         :\",\n",
      "        \"Choice 2\": \"Sum Insured / Total Declared Value         37,242,735:\\nIN TRANSIT BY :           Per lines and/or Steamers and/or Power Vessels as per Institute Classification Caluse (amended to            \\n                                     15 years), (other vessels held covered at a premium to be arranged) and/or conveyance by road and/or       \\n                                      rail and/or approved aircraft and/or parcel post.FCA BasisThis is not a valid Policy / Covernote and no Insurance Cover is given.\\nVOYAGE (Country) \\nFromIndonesia: PakistanToUSD                  83,820.00 +49.1% =USD                  124,975.62 @ 298.00Premium Computation\\nPremium Details Amount(Rs)\\nInstitute Cargo Clause (A)\\nInstitute War and Strike \\nClauses\\nGROSS PREMIUM\\nASC\\nSUB TOTAL\\nFIF\\nSales Tax On \\nServices/F.E.D.\\nSTAMP DUTY\\nNET PREMIUM            11,173\\n            18,621\\n            29,794\\n             1,490\\n            31,284\\n               313\\n             4,067\\n             2,235\\n            37,899.03\\n.05\\n5\\n1\",\n",
      "        \"Choice 3\": \"1221 / 1239 or 021-32416381 Call Center No. (021) 0800-00-242 Facsmile No. 021- 32461610  Email \\nmarine.ho@adamjeeinsurance.com\\nIn the interests of the insured and of the bank concerned it is suggested that a suitable clause be inserted in the letter of credit \\nrequesting shipments to be declared by the shippers as noted above.\\n(b) By the Insured: To the Head Office of the Company.\\nOn receipt of the above declaration from the insured the policy/certificate will be issued by the company and the premium paid as \\nstated thereon or as per debit note.\\nWhen business is tariffed the acceptance is subject to the following condition.\\n\\\"This contract is subject to such tariff rates and regulation as may be in force at the time the risks attach hereunder.\\nIMPORTANT: Please follow the directions as overleaf.As per institute of London  Under-writer's clause current on the date of sailing. Warranted that the interest insured\"\n",
      "    },\n",
      "    \"issue_date\": {\n",
      "        \"Choice 1\": \"Institute War Cancellation Clause (Cargo)\\nWarranted that this cover is null and void unless declaration of the shipment is lodged with the company prior to arrival of the \\nvessel at the port of destination and relative premium is paid.PERIOD: This acceptance is valid for shipment made from midnight 17/08/2023 until midnight  16/08/2024\\nunless previously exhausted by declaration.\\nOTHER CONDITION : As endorsed on reverse hereon.\\nDECLARATION : Notice of shipment falling within the scope of this cover are to be made as follows:\\n(a) By the shippers: Prior to shipment or as soon as possible thereafter to the undermentioned address.\\nADAMJEE INSURANCE COMPANY LIMITED\\n9th Floor, Adamjee House, I.I. Chundrigar Road, Karachi-74000, Pakistan P.O Box 4850  Tel No. 021-32412623 EXT: \\n1221 / 1239 or 021-32416381 Call Center No. (021) 0800-00-242 Facsmile No. 021- 32461610  Email \\nmarine.ho@adamjeeinsurance.com\",\n",
      "        \"Choice 2\": \"duty and other expenses at the time of claim\\nExcluding loss or damage to the subject matter insured resulting from any variation in temperature howsoever caused\\nSubject to Premium Payment as per rule 58 of insurance Rules 2017- SRO 89(I)/2017 issued by SECP.\\nWarranted that this insurance will not cover any shipment which is in breach of SRO 927(I)/2019 (with exception of therapeutic \\nproducts) issued by Government of Pakistan on 9th August, 2019\\nCargo ISM Endorsement & ISM Forwarding Charges Clause\\nInstitute Radioactive Contamination, Chemical, Biological, Biochemical and Electromagnetic Weapons Exclusion Clause \\nContracts (Rights of Third Parties) Act 1999 Clarification Clause (Cargo) \\nMarine Cyber Endorsement - LMA 5403\\nInstitute War Clauses (Cargo)\\nWar Risk Rate Adjustment Clause,\\nInstitute War Cancellation Clause (Cargo)\\nWarranted that this cover is null and void unless declaration of the shipment is lodged with the company prior to arrival of the\",\n",
      "        \"Choice 3\": \"IMPORTANT: Please follow the directions as overleaf.As per institute of London  Under-writer's clause current on the date of sailing. Warranted that the interest insured \\nunder the cover is shipped in containers on deck.Five Powers War Exclusion Clause (amended to include triggering of NATO Agreement) \\nRussia, Ukraine and Belarus Territory Exclusion Clause for War and SRCC (Strikes, Riot and Civil Commotion) \\nVessel Detainment Clause \\nSanction Limitation and Exclusion Clause (amended to include Switzerland)\"\n",
      "    },\n",
      "    \"covernote_number\": {\n",
      "        \"Choice 1\": \"1221 / 1239 or 021-32416381 Call Center No. (021) 0800-00-242 Facsmile No. 021- 32461610  Email \\nmarine.ho@adamjeeinsurance.com\\nIn the interests of the insured and of the bank concerned it is suggested that a suitable clause be inserted in the letter of credit \\nrequesting shipments to be declared by the shippers as noted above.\\n(b) By the Insured: To the Head Office of the Company.\\nOn receipt of the above declaration from the insured the policy/certificate will be issued by the company and the premium paid as \\nstated thereon or as per debit note.\\nWhen business is tariffed the acceptance is subject to the following condition.\\n\\\"This contract is subject to such tariff rates and regulation as may be in force at the time the risks attach hereunder.\\nIMPORTANT: Please follow the directions as overleaf.As per institute of London  Under-writer's clause current on the date of sailing. Warranted that the interest insured\",\n",
      "        \"Choice 2\": \"DRAFT MARINE COVER NOTE9th Floor, Adamjee House, I.I. Chundrigar Road, Karachi-74000, Pakistan P.O Box 4850  Tel No. 021-32412623 EXT: 1221 / 1239 or 021-\\n32416381 Call Center No. (021) 0800-00-242 Facsmile No. 021- 32461610  Email marine.ho@adamjeeinsurance.com\\nMarine Cargo By SeaADAMJEE INSURANCE COMPANY LIMITED\\nSea\\n17/08/2023 Issue Date Cover Note No. COV-0823-202504-M03-000124\\nFor and on behalf of\\nAdamjee Insurance Company\\nLimited\\nAuthorised InsurerPage 2 of 2\\nD R A F TSubject to Cargo Termination of Transit Clause (Terrorism)\\nInstitute Classification Clause\\nCarrier's Breach of Trust Exclusion Clause (Inland Transit)\\nCommunicable Disease Exclusion (Cargo)\\nWarranted that in case of loss or damage to the cargo, insured will provide documentary proof of paid custom duty, additional \\nduty and other expenses at the time of claim\\nExcluding loss or damage to the subject matter insured resulting from any variation in temperature howsoever caused\",\n",
      "        \"Choice 3\": \"Institute Strikes Clauses (Cargo)Subject to the clauses and conditions of the Company's Marine Cargo Policy form in use at the time of shipment or dispatch and to the clauses and\\nconditions of cover specified in the schedule hereto this cover note is effected for the period stated below to insure for the voyage and/or voyages \\nand/or transit and the interest specified herein shipped and/or despatched within the limits of the cover note either by or for account of the insured \\nnamed below in which the said insured has an insurable interest unless insured elsewhere prior to such interest being acquired or the insurance of \\nwhich is in the insured's hands or under the Insured's control as selling and/or purchasing Agents. This cover note does not cover the interest of \\nany other person or persons.\\nSum Insured / Total Declared Value         37,242,735:\\nIN TRANSIT BY :           Per lines and/or Steamers and/or Power Vessels as per Institute Classification Caluse (amended to\"\n",
      "    },\n",
      "    \"policy_number\": {\n",
      "        \"Choice 1\": \"1221 / 1239 or 021-32416381 Call Center No. (021) 0800-00-242 Facsmile No. 021- 32461610  Email \\nmarine.ho@adamjeeinsurance.com\\nIn the interests of the insured and of the bank concerned it is suggested that a suitable clause be inserted in the letter of credit \\nrequesting shipments to be declared by the shippers as noted above.\\n(b) By the Insured: To the Head Office of the Company.\\nOn receipt of the above declaration from the insured the policy/certificate will be issued by the company and the premium paid as \\nstated thereon or as per debit note.\\nWhen business is tariffed the acceptance is subject to the following condition.\\n\\\"This contract is subject to such tariff rates and regulation as may be in force at the time the risks attach hereunder.\\nIMPORTANT: Please follow the directions as overleaf.As per institute of London  Under-writer's clause current on the date of sailing. Warranted that the interest insured\",\n",
      "        \"Choice 2\": \"NET PREMIUM            11,173\\n            18,621\\n            29,794\\n             1,490\\n            31,284\\n               313\\n             4,067\\n             2,235\\n            37,899.03\\n.05\\n5\\n1\\n13Rate\\nFLAVOUR LIME DURAROME\\nPROFORMA INVOICE No. 900703247 \\n(Sum insured = Invoice value + 49% Duties + 10% incidental charges)Interest         :\",\n",
      "        \"Choice 3\": \"duty and other expenses at the time of claim\\nExcluding loss or damage to the subject matter insured resulting from any variation in temperature howsoever caused\\nSubject to Premium Payment as per rule 58 of insurance Rules 2017- SRO 89(I)/2017 issued by SECP.\\nWarranted that this insurance will not cover any shipment which is in breach of SRO 927(I)/2019 (with exception of therapeutic \\nproducts) issued by Government of Pakistan on 9th August, 2019\\nCargo ISM Endorsement & ISM Forwarding Charges Clause\\nInstitute Radioactive Contamination, Chemical, Biological, Biochemical and Electromagnetic Weapons Exclusion Clause \\nContracts (Rights of Third Parties) Act 1999 Clarification Clause (Cargo) \\nMarine Cyber Endorsement - LMA 5403\\nInstitute War Clauses (Cargo)\\nWar Risk Rate Adjustment Clause,\\nInstitute War Cancellation Clause (Cargo)\\nWarranted that this cover is null and void unless declaration of the shipment is lodged with the company prior to arrival of the\"\n",
      "    }\n",
      "}\n",
      "Number of tokens: 1371\n"
     ]
    },
    {
     "name": "stderr",
     "output_type": "stream",
     "text": [
      "/Users/mirbilal/Desktop/minsir/minsirenv/lib/python3.12/site-packages/langchain_core/_api/deprecation.py:139: LangChainDeprecationWarning: The class `ChatOpenAI` was deprecated in LangChain 0.0.10 and will be removed in 0.3.0. An updated version of the class exists in the langchain-openai package and should be used instead. To use it run `pip install -U langchain-openai` and import as `from langchain_openai import ChatOpenAI`.\n",
      "  warn_deprecated(\n",
      "/Users/mirbilal/Desktop/minsir/minsirenv/lib/python3.12/site-packages/langchain_core/_api/deprecation.py:139: LangChainDeprecationWarning: The method `BaseChatModel.__call__` was deprecated in langchain-core 0.1.7 and will be removed in 0.3.0. Use invoke instead.\n",
      "  warn_deprecated(\n",
      "huggingface/tokenizers: The current process just got forked, after parallelism has already been used. Disabling parallelism to avoid deadlocks...\n",
      "To disable this warning, you can either:\n",
      "\t- Avoid using `tokenizers` before the fork if possible\n",
      "\t- Explicitly set the environment variable TOKENIZERS_PARALLELISM=(true | false)\n"
     ]
    },
    {
     "name": "stdout",
     "output_type": "stream",
     "text": [
      "='37,899.03'\n",
      "-----\n",
      "=2023-08-17\n",
      "-----\n",
      "=COV-0823-202504-M03-000124\n",
      "-----\n",
      "404 Not Found\n",
      "-----\n"
     ]
    }
   ],
   "source": [
    "insLLM = InsuranceERPLLM()\n",
    "insLLM.store_documents_in_vector_store([\"test_cover.pdf\"])\n",
    "insLLM.search_documents_vector_store()\n",
    "insLLM.query_from_final_results(insLLM.document_query_results)"
   ]
  },
  {
   "cell_type": "code",
   "execution_count": 4,
   "metadata": {},
   "outputs": [],
   "source": [
    "dummy_convo = [\n",
    "    {\n",
    "        \"from\": \"john.doe@example.com\",\n",
    "        \"to\": [\"support@insurancecompany.com\"],\n",
    "        \"date\": \"June 15, 2023, 10:30 AM\",\n",
    "        \"subject\": \"Inquiry about Insurance Details\",\n",
    "        \"body\": \"\"\"\n",
    "Dear Support Team,\n",
    "\n",
    "I have a few queries regarding my insurance policy:\n",
    "1. What is the net premium amount?\n",
    "2. What is the starting date of the coverage period?\n",
    "3. What is the cover note number which starts with 'COV'?\n",
    "4. What is the policy number which starts with 'PL'?\n",
    "\n",
    "Thank you for your assistance.\n",
    "\n",
    "Best regards,\n",
    "John Doe\n",
    "\"\"\"\n",
    "    },\n",
    "    {\n",
    "        \"from\": \"support@insurancecompany.com\",\n",
    "        \"to\": [\"john.doe@example.com\"],\n",
    "        \"date\": \"June 15, 2023, 1:45 PM\",\n",
    "        \"subject\": \"Re: Inquiry about Insurance Details\",\n",
    "        \"body\": \"\"\"\n",
    "Dear Mr. Doe,\n",
    "\n",
    "Thank you for reaching out to us. Please find the answers to your queries below:\n",
    "1. The net premium amount for your policy is $1,200.\n",
    "2. The starting date of the coverage period is January 1, 2023.\n",
    "3. The cover note number is COV123456.\n",
    "4. The policy number is PL987654.\n",
    "\n",
    "If you have any further questions, please do not hesitate to contact us.\n",
    "\n",
    "Best regards,\n",
    "Insurance Support Team\n",
    "\"\"\"\n",
    "    },\n",
    "    {\n",
    "        \"from\": \"john.doe@example.com\",\n",
    "        \"to\": [\"support@insurancecompany.com\"],\n",
    "        \"date\": \"June 16, 2023, 9:00 AM\",\n",
    "        \"subject\": \"Re: Inquiry about Insurance Details\",\n",
    "        \"body\": \"\"\"\n",
    "Dear Support Team,\n",
    "\n",
    "Thank you for the information. Could you please confirm if the cover note number COV123456 is correct? I have a document that mentions a different cover note number.\n",
    "\n",
    "Best regards,\n",
    "John Doe\n",
    "\"\"\"\n",
    "    },\n",
    "    {\n",
    "        \"from\": \"support@insurancecompany.com\",\n",
    "        \"to\": [\"john.doe@example.com\"],\n",
    "        \"date\": \"June 16, 2023, 11:15 AM\",\n",
    "        \"subject\": \"Re: Inquiry about Insurance Details\",\n",
    "        \"body\": \"\"\"\n",
    "Dear Mr. Doe,\n",
    "\n",
    "We apologize for any confusion. After rechecking our records, the correct cover note number is COV654321.\n",
    "\n",
    "Thank you for your patience.\n",
    "\n",
    "Best regards,\n",
    "Insurance Support Team\n",
    "\"\"\"\n",
    "    }\n",
    "]"
   ]
  },
  {
   "cell_type": "code",
   "execution_count": 5,
   "metadata": {},
   "outputs": [
    {
     "name": "stderr",
     "output_type": "stream",
     "text": [
      "/Users/mirbilal/Desktop/minsir/minsirenv/lib/python3.12/site-packages/huggingface_hub/file_download.py:1132: FutureWarning: `resume_download` is deprecated and will be removed in version 1.0.0. Downloads always resume when possible. If you want to force a new download, use `force_download=True`.\n",
      "  warnings.warn(\n"
     ]
    },
    {
     "name": "stdout",
     "output_type": "stream",
     "text": [
      "{\n",
      "    \"net_premium\": {\n",
      "        \"Choice 1\": \"the policy number which starts with 'PL'?\\\\n\\\\nThank you for your assistance.\\\\n\\\\nBest regards,\\\\nJohn Doe\\\\n\\\"}, {'from': 'support@insurancecompany.com', 'to': ['john.doe@example.com'], 'date': 'June 15, 2023, 1:45 PM', 'subject': 'Re: Inquiry about Insurance Details', 'body': '\\\\nDear Mr. Doe,\\\\n\\\\nThank you for reaching out to us. Please find the answers to your queries below:\\\\n1. The net premium amount for your policy is $1,200.\\\\n2. The starting date of the coverage period is January 1, 2023.\\\\n3. The\",\n",
      "        \"Choice 2\": \"for your policy is $1,200.\\\\n2. The starting date of the coverage period is January 1, 2023.\\\\n3. The cover note number is COV123456.\\\\n4. The policy number is PL987654.\\\\n\\\\nIf you have any further questions, please do not hesitate to contact us.\\\\n\\\\nBest regards,\\\\nInsurance Support Team\\\\n'}, {'from': 'john.doe@example.com', 'to': ['support@insurancecompany.com'], 'date': 'June 16, 2023, 9:00 AM', 'subject': 'Re: Inquiry about Insurance Details', 'body': '\\\\nDear Support Team,\\\\n\\\\nThank you for the\",\n",
      "        \"Choice 3\": \"[{'from': 'john.doe@example.com', 'to': ['support@insurancecompany.com'], 'date': 'June 15, 2023, 10:30 AM', 'subject': 'Inquiry about Insurance Details', 'body': \\\"\\\\nDear Support Team,\\\\n\\\\nI have a few queries regarding my insurance policy:\\\\n1. What is the net premium amount?\\\\n2. What is the starting date of the coverage period?\\\\n3. What is the cover note number which starts with 'COV'?\\\\n4. What is the policy number which starts with 'PL'?\\\\n\\\\nThank you for your assistance.\\\\n\\\\nBest regards,\\\\nJohn\"\n",
      "    },\n",
      "    \"issue_date\": {\n",
      "        \"Choice 1\": \"for your policy is $1,200.\\\\n2. The starting date of the coverage period is January 1, 2023.\\\\n3. The cover note number is COV123456.\\\\n4. The policy number is PL987654.\\\\n\\\\nIf you have any further questions, please do not hesitate to contact us.\\\\n\\\\nBest regards,\\\\nInsurance Support Team\\\\n'}, {'from': 'john.doe@example.com', 'to': ['support@insurancecompany.com'], 'date': 'June 16, 2023, 9:00 AM', 'subject': 'Re: Inquiry about Insurance Details', 'body': '\\\\nDear Support Team,\\\\n\\\\nThank you for the\",\n",
      "        \"Choice 2\": \"the policy number which starts with 'PL'?\\\\n\\\\nThank you for your assistance.\\\\n\\\\nBest regards,\\\\nJohn Doe\\\\n\\\"}, {'from': 'support@insurancecompany.com', 'to': ['john.doe@example.com'], 'date': 'June 15, 2023, 1:45 PM', 'subject': 'Re: Inquiry about Insurance Details', 'body': '\\\\nDear Mr. Doe,\\\\n\\\\nThank you for reaching out to us. Please find the answers to your queries below:\\\\n1. The net premium amount for your policy is $1,200.\\\\n2. The starting date of the coverage period is January 1, 2023.\\\\n3. The\",\n",
      "        \"Choice 3\": \"[{'from': 'john.doe@example.com', 'to': ['support@insurancecompany.com'], 'date': 'June 15, 2023, 10:30 AM', 'subject': 'Inquiry about Insurance Details', 'body': \\\"\\\\nDear Support Team,\\\\n\\\\nI have a few queries regarding my insurance policy:\\\\n1. What is the net premium amount?\\\\n2. What is the starting date of the coverage period?\\\\n3. What is the cover note number which starts with 'COV'?\\\\n4. What is the policy number which starts with 'PL'?\\\\n\\\\nThank you for your assistance.\\\\n\\\\nBest regards,\\\\nJohn\"\n",
      "    },\n",
      "    \"covernote_number\": {\n",
      "        \"Choice 1\": \"'subject': 'Re: Inquiry about Insurance Details', 'body': '\\\\nDear Support Team,\\\\n\\\\nThank you for the information. Could you please confirm if the cover note number COV123456 is correct? I have a document that mentions a different cover note number.\\\\n\\\\nBest regards,\\\\nJohn Doe\\\\n'}, {'from': 'support@insurancecompany.com', 'to': ['john.doe@example.com'], 'date': 'June 16, 2023, 11:15 AM', 'subject': 'Re: Inquiry about Insurance Details', 'body': '\\\\nDear Mr. Doe,\\\\n\\\\nWe apologize for any confusion.\",\n",
      "        \"Choice 2\": \"'Re: Inquiry about Insurance Details', 'body': '\\\\nDear Mr. Doe,\\\\n\\\\nWe apologize for any confusion. After rechecking our records, the correct cover note number is COV654321.\\\\n\\\\nThank you for your patience.\\\\n\\\\nBest regards,\\\\nInsurance Support Team\\\\n'}]\",\n",
      "        \"Choice 3\": \"for your policy is $1,200.\\\\n2. The starting date of the coverage period is January 1, 2023.\\\\n3. The cover note number is COV123456.\\\\n4. The policy number is PL987654.\\\\n\\\\nIf you have any further questions, please do not hesitate to contact us.\\\\n\\\\nBest regards,\\\\nInsurance Support Team\\\\n'}, {'from': 'john.doe@example.com', 'to': ['support@insurancecompany.com'], 'date': 'June 16, 2023, 9:00 AM', 'subject': 'Re: Inquiry about Insurance Details', 'body': '\\\\nDear Support Team,\\\\n\\\\nThank you for the\"\n",
      "    },\n",
      "    \"policy_number\": {\n",
      "        \"Choice 1\": \"the policy number which starts with 'PL'?\\\\n\\\\nThank you for your assistance.\\\\n\\\\nBest regards,\\\\nJohn Doe\\\\n\\\"}, {'from': 'support@insurancecompany.com', 'to': ['john.doe@example.com'], 'date': 'June 15, 2023, 1:45 PM', 'subject': 'Re: Inquiry about Insurance Details', 'body': '\\\\nDear Mr. Doe,\\\\n\\\\nThank you for reaching out to us. Please find the answers to your queries below:\\\\n1. The net premium amount for your policy is $1,200.\\\\n2. The starting date of the coverage period is January 1, 2023.\\\\n3. The\",\n",
      "        \"Choice 2\": \"for your policy is $1,200.\\\\n2. The starting date of the coverage period is January 1, 2023.\\\\n3. The cover note number is COV123456.\\\\n4. The policy number is PL987654.\\\\n\\\\nIf you have any further questions, please do not hesitate to contact us.\\\\n\\\\nBest regards,\\\\nInsurance Support Team\\\\n'}, {'from': 'john.doe@example.com', 'to': ['support@insurancecompany.com'], 'date': 'June 16, 2023, 9:00 AM', 'subject': 'Re: Inquiry about Insurance Details', 'body': '\\\\nDear Support Team,\\\\n\\\\nThank you for the\",\n",
      "        \"Choice 3\": \"[{'from': 'john.doe@example.com', 'to': ['support@insurancecompany.com'], 'date': 'June 15, 2023, 10:30 AM', 'subject': 'Inquiry about Insurance Details', 'body': \\\"\\\\nDear Support Team,\\\\n\\\\nI have a few queries regarding my insurance policy:\\\\n1. What is the net premium amount?\\\\n2. What is the starting date of the coverage period?\\\\n3. What is the cover note number which starts with 'COV'?\\\\n4. What is the policy number which starts with 'PL'?\\\\n\\\\nThank you for your assistance.\\\\n\\\\nBest regards,\\\\nJohn\"\n",
      "    }\n",
      "}\n",
      "Number of tokens: 784\n",
      "='$1,200'\n",
      "-----\n",
      "Answer: The starting date of the coverage period = 2023-01-01.\n",
      "-----\n",
      "=COV123456\n",
      "-----\n",
      "=PL987654\n",
      "-----\n"
     ]
    }
   ],
   "source": [
    "insLLM = InsuranceERPLLM()\n",
    "insLLM.store_convo_in_vector_store(f\"{dummy_convo}\")\n",
    "insLLM.search_convo_vector_store()\n",
    "insLLM.query_from_final_results(insLLM.convo_query_results)"
   ]
  },
  {
   "cell_type": "code",
   "execution_count": 58,
   "metadata": {},
   "outputs": [
    {
     "name": "stdout",
     "output_type": "stream",
     "text": [
      "(768,)\n"
     ]
    }
   ],
   "source": [
    "print(insLLM.get_vectors(insLLM.documents_vector_store)[0].shape)"
   ]
  }
 ],
 "metadata": {
  "kernelspec": {
   "display_name": "minsirenv",
   "language": "python",
   "name": "python3"
  },
  "language_info": {
   "codemirror_mode": {
    "name": "ipython",
    "version": 3
   },
   "file_extension": ".py",
   "mimetype": "text/x-python",
   "name": "python",
   "nbconvert_exporter": "python",
   "pygments_lexer": "ipython3",
   "version": "3.12.4"
  },
  "orig_nbformat": 4
 },
 "nbformat": 4,
 "nbformat_minor": 2
}
