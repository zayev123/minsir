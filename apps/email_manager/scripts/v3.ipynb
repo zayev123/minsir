{
 "cells": [
  {
   "cell_type": "code",
   "execution_count": 1,
   "metadata": {},
   "outputs": [],
   "source": [
    "import sys\n",
    "import django\n",
    "import os\n",
    "file_dir = \"/Users/mirbilal/Desktop/minsir/\"\n",
    "if file_dir not in sys.path:\n",
    "    sys.path.insert(0, file_dir)\n",
    "\n",
    "os.environ[\"DJANGO_SETTINGS_MODULE\"] = \"minsirx.settings\"\n",
    "os.environ[\"DJANGO_ALLOW_ASYNC_UNSAFE\"] = \"true\" \n",
    "django.setup()\n",
    "from apps.email_manager.service_layer.insurance_erp_llm import InsuranceERPLLM"
   ]
  },
  {
   "cell_type": "code",
   "execution_count": 3,
   "metadata": {},
   "outputs": [
    {
     "name": "stderr",
     "output_type": "stream",
     "text": [
      "/Users/mirbilal/Desktop/minsir/minsirenv/lib/python3.12/site-packages/huggingface_hub/file_download.py:1132: FutureWarning: `resume_download` is deprecated and will be removed in version 1.0.0. Downloads always resume when possible. If you want to force a new download, use `force_download=True`.\n",
      "  warnings.warn(\n"
     ]
    },
    {
     "name": "stdout",
     "output_type": "stream",
     "text": [
      "{\n",
      "    \"net_premium\": {\n",
      "        \"Choice 1\": \"THE POLICY ::1: Business Type\\nAmount in Words: AMERICAN DOLLARS One hundred fifty-nine thousand eight hundred eighty-five onlyExcess & Deductible1.  Bank Al-Habib Limited     A/C AL-MUQEET TEXTILE (PVT) LIMITED Insured :\\nPAKISTAN RUPEES Forty-four millions seven hundred thirty-five\\nthousand eight hundred twenty-three only              22,368\\n22,368\\n44,736\\n2,237\\n46,973\\n470\\n2,684\\n50,127:? Voyage No CB0000016139: Customer Code\",\n",
      "        \"Choice 2\": \"Proposal No. PR-0224-202504-M03-000152PROPOSAL FORMSharah-E-Faisal Branch  9th Floor, Adamjee House, I.I. Chundrigar Road, Karachi-74000, Pakistan P.O Box 4850\\nMarine Cargo By SeaADAMJEE INSURANCE COMPANY LIMITED\\nExport\\n19/02/2024 Issue Date\\nFor and on behalf of\\nAdamjee Insurance Company\\nLimited\\nAuthorised InsurerPage 1 of 2\\nD R A F TRisk Details\\nCountry To. Country From. Sailing Date Pakistan China\\n?\\nPremium Computation\\nAmount(Rs) Premium Details Amount(Rs)\\nMarine\\nWAR & SRCC\\nGROSS PREMIUM\\nASC\\nSUB TOTAL\\nFIF\\nSTAMP DUTY\\nNET PREMIUMSum Insured / Total Declared Value  44,735,823.00\\nForeign Currency Base: USD 145,350.00 +10%     =USD  159,885.00 @ 279.80?: Place Of Issue Sharah-E-Faisal Branch\\nAgent / Broker AG0000006222:\\nAMT-994-2024-02 Invoice No. : AHB-EXP-013337-\\n02022024: E Form / GD No.\\nCost Insurance and Freight\\nCIFINCOTERM : Destination Claim Payable at. :Address :OFF # 6, BEAUMONT PLAZA, PLOT # 6 CL-10 CIVIL LINES QUARTER KARACHI (NTN #\\n1858071-8)\\n.05\\n.05\\n5\\n1Rate\",\n",
      "        \"Choice 3\": \"Telephone: +65 6222 6022 Phone No.\\nFax: +65 6225 0428 Fax No.\\nEmail: info@wkwebster.com.sg Email\\nWebsite: http://www.wkwebster.com Web SitePAYABLE AT DESTINATION IN CURRENCY OF THE L/C, COVERING ALL RISKS AS PER ICC (A) AND WAR RISKS FROM LOADING\\nPORT TO DISCHARGE PORT, INDICATING THE NAME AND ADDRESS OF INSURANCE COMPANY'S SURVAY IN CHINA.\\nMarine Cyber Endorsement  LMA 5403\\nInstitute Radioactive Contamination, Chemicals, Biological, Biochemical and Electromagnetic Weapons Exclusion Clause.\\nCargo ISM Forwarding Charges Clause\\nCARGO ISM ENDORSEMENT\\nContracts (Rights of Third Parties) Act 1999 Clarification Clause (Cargo)\\nIMPORTANT: Please follow the directions as overleaf.As per institute of London  Under-writer's clause current on the date of sailing. Warranted that the interest insured under the cover is\\nshipped in containers on deck.Five Powers War Exclusion Clause (amended to include triggering of NATO Agreement)\\nSpecified Territory Exclusion Clause\\nVessel Detainment Clause\"\n",
      "    },\n",
      "    \"issue_date\": {\n",
      "        \"Choice 1\": \"THE POLICY ::1: Business Type\\nAmount in Words: AMERICAN DOLLARS One hundred fifty-nine thousand eight hundred eighty-five onlyExcess & Deductible1.  Bank Al-Habib Limited     A/C AL-MUQEET TEXTILE (PVT) LIMITED Insured :\\nPAKISTAN RUPEES Forty-four millions seven hundred thirty-five\\nthousand eight hundred twenty-three only              22,368\\n22,368\\n44,736\\n2,237\\n46,973\\n470\\n2,684\\n50,127:? Voyage No CB0000016139: Customer Code\",\n",
      "        \"Choice 2\": \"Telephone: +65 6222 6022 Phone No.\\nFax: +65 6225 0428 Fax No.\\nEmail: info@wkwebster.com.sg Email\\nWebsite: http://www.wkwebster.com Web SitePAYABLE AT DESTINATION IN CURRENCY OF THE L/C, COVERING ALL RISKS AS PER ICC (A) AND WAR RISKS FROM LOADING\\nPORT TO DISCHARGE PORT, INDICATING THE NAME AND ADDRESS OF INSURANCE COMPANY'S SURVAY IN CHINA.\\nMarine Cyber Endorsement  LMA 5403\\nInstitute Radioactive Contamination, Chemicals, Biological, Biochemical and Electromagnetic Weapons Exclusion Clause.\\nCargo ISM Forwarding Charges Clause\\nCARGO ISM ENDORSEMENT\\nContracts (Rights of Third Parties) Act 1999 Clarification Clause (Cargo)\\nIMPORTANT: Please follow the directions as overleaf.As per institute of London  Under-writer's clause current on the date of sailing. Warranted that the interest insured under the cover is\\nshipped in containers on deck.Five Powers War Exclusion Clause (amended to include triggering of NATO Agreement)\\nSpecified Territory Exclusion Clause\\nVessel Detainment Clause\",\n",
      "        \"Choice 3\": \"Covering All Risk From Karachi Port To Gaoming Warehouse China\\nExcluding losses resulting from moisture due to un-fitness of container &/or improper ventilation in container.\\nWarranted No claim for any loss or damage by a peril insured against or  otherwise which may have been sustained prior to attachment\\nof risk under the policy.\\nWarranted all six sides of the iron bound cotton bales must be protected by hessian cloth.\\nSubject to Premium Payment as per Rule - 58 of Insurance Rule 2017 - SRO 89(1)/2017 issued by SECP\\nWarranted that this insurance will not cover any shipment which is in breach of SRO 928(I)/2019 (with exception of therapeutic products)\\nissued by Government of Pakistan on 9th August, 2019\\nINSURANCE POLICY / CERTIFICATE IN 1 ORIGINAL AND 1 COPY FOR 110% INVOICE VALUE, BLANK ENDORSED SHOWING CLAIMS THE ATTACHED TERMS, CLAUSES,  CONDITIONS, ENDORSEMENTS, WARRANTIES AND EXCLUSIONS FORM PART OF\\nTHE POLICY ::1: Business Type\"\n",
      "    },\n",
      "    \"covernote_number\": {\n",
      "        \"Choice 1\": \"Telephone: +65 6222 6022 Phone No.\\nFax: +65 6225 0428 Fax No.\\nEmail: info@wkwebster.com.sg Email\\nWebsite: http://www.wkwebster.com Web SitePAYABLE AT DESTINATION IN CURRENCY OF THE L/C, COVERING ALL RISKS AS PER ICC (A) AND WAR RISKS FROM LOADING\\nPORT TO DISCHARGE PORT, INDICATING THE NAME AND ADDRESS OF INSURANCE COMPANY'S SURVAY IN CHINA.\\nMarine Cyber Endorsement  LMA 5403\\nInstitute Radioactive Contamination, Chemicals, Biological, Biochemical and Electromagnetic Weapons Exclusion Clause.\\nCargo ISM Forwarding Charges Clause\\nCARGO ISM ENDORSEMENT\\nContracts (Rights of Third Parties) Act 1999 Clarification Clause (Cargo)\\nIMPORTANT: Please follow the directions as overleaf.As per institute of London  Under-writer's clause current on the date of sailing. Warranted that the interest insured under the cover is\\nshipped in containers on deck.Five Powers War Exclusion Clause (amended to include triggering of NATO Agreement)\\nSpecified Territory Exclusion Clause\\nVessel Detainment Clause\",\n",
      "        \"Choice 2\": \"THE POLICY ::1: Business Type\\nAmount in Words: AMERICAN DOLLARS One hundred fifty-nine thousand eight hundred eighty-five onlyExcess & Deductible1.  Bank Al-Habib Limited     A/C AL-MUQEET TEXTILE (PVT) LIMITED Insured :\\nPAKISTAN RUPEES Forty-four millions seven hundred thirty-five\\nthousand eight hundred twenty-three only              22,368\\n22,368\\n44,736\\n2,237\\n46,973\\n470\\n2,684\\n50,127:? Voyage No CB0000016139: Customer Code\",\n",
      "        \"Choice 3\": \"1858071-8)\\n.05\\n.05\\n5\\n1Rate\\nClaim Settling Agent W.K. Webster - Singapore19-FEB-24\\nB/L No. Voyage From  & To Vessel Name Karachi Port, Pakistan -\\nGaoming Port, China:\\n::\\n::\\n:L / C No :HUB01IL000399800\\nSubject Matter Insured\\nQTY\\n100 PCT COTTON CARDED RING SPUN YARN NE 7/S SIRO BCI FOR WEAVING UNWAXED BRAND GOLDEN 8\\n63,750.00 KGS 2,550 BAGS LOADED IN 03 CONTAINERS OOLU-883338-2, FFAU-325637-0, FSCU-870919-9\\nDETAIL AS PER INVOICE NO. AMT-994-2024-02 DATED: 02.02.2024\\nPACKING: EACH BAG OF 25 KGS NET CONTAINING 8 CONESDetail\\nInstitute Cargo Clauses (A)\\nInstitute War Clauses (Cargo)\\nWar Risk Rate Adjustment Clause,\\nInstitute War Cancellation Clause (Cargo)\\nInstitute Strikes Clauses (Cargo)\\nInstitute Classification Clause\\nSubject to Cargo Termination of Transit Clause (Terrorism)\\nCARRIER'S BREACH OF TRUST EXCLUSION CLAUSE (INLAND TRANSIT)\\nCommunicable Disease Exclusion (Cargo)\\nCovering All Risk From Karachi Port To Gaoming Warehouse China\"\n",
      "    },\n",
      "    \"policy_number\": {\n",
      "        \"Choice 1\": \"THE POLICY ::1: Business Type\\nAmount in Words: AMERICAN DOLLARS One hundred fifty-nine thousand eight hundred eighty-five onlyExcess & Deductible1.  Bank Al-Habib Limited     A/C AL-MUQEET TEXTILE (PVT) LIMITED Insured :\\nPAKISTAN RUPEES Forty-four millions seven hundred thirty-five\\nthousand eight hundred twenty-three only              22,368\\n22,368\\n44,736\\n2,237\\n46,973\\n470\\n2,684\\n50,127:? Voyage No CB0000016139: Customer Code\",\n",
      "        \"Choice 2\": \"Telephone: +65 6222 6022 Phone No.\\nFax: +65 6225 0428 Fax No.\\nEmail: info@wkwebster.com.sg Email\\nWebsite: http://www.wkwebster.com Web SitePAYABLE AT DESTINATION IN CURRENCY OF THE L/C, COVERING ALL RISKS AS PER ICC (A) AND WAR RISKS FROM LOADING\\nPORT TO DISCHARGE PORT, INDICATING THE NAME AND ADDRESS OF INSURANCE COMPANY'S SURVAY IN CHINA.\\nMarine Cyber Endorsement  LMA 5403\\nInstitute Radioactive Contamination, Chemicals, Biological, Biochemical and Electromagnetic Weapons Exclusion Clause.\\nCargo ISM Forwarding Charges Clause\\nCARGO ISM ENDORSEMENT\\nContracts (Rights of Third Parties) Act 1999 Clarification Clause (Cargo)\\nIMPORTANT: Please follow the directions as overleaf.As per institute of London  Under-writer's clause current on the date of sailing. Warranted that the interest insured under the cover is\\nshipped in containers on deck.Five Powers War Exclusion Clause (amended to include triggering of NATO Agreement)\\nSpecified Territory Exclusion Clause\\nVessel Detainment Clause\",\n",
      "        \"Choice 3\": \"Proposal No. PR-0224-202504-M03-000152PROPOSAL FORMSharah-E-Faisal Branch  9th Floor, Adamjee House, I.I. Chundrigar Road, Karachi-74000, Pakistan P.O Box 4850\\nMarine Cargo By SeaADAMJEE INSURANCE COMPANY LIMITED\\nExport\\n19/02/2024 Issue Date\\nFor and on behalf of\\nAdamjee Insurance Company\\nLimited\\nAuthorised InsurerPage 2 of 2\\nD R A F TSURVEY AGENT\\nxuejun.peng@intertek.com Email+86 21 3872 0063 Fax No.+86 21 5899 6377 xt. 196 Phone No.Northside,2/F, Building T52-3,  ,No.1201, Gui\\nQiao Road, ,Jinqiao Development Area, ,Pudong\\nNew District,SHANGHAI 201206,P.R. China  AddressShanghai Orient Intertek Testing Services\\nCompany Ltd,as agents of W K Webster -\\nSingaporeCompanyCHINA SHANGHAI Name\\nCLAIM SETTLING AGENT\\nName W.K. Webster - Singapore\\nW K Webster (International) Pte Ltd. 5 Tampines Central\\n1,#03-02 Tampines Plaza,Singapore 529541Company\\nTelephone: +65 6222 6022 Phone No.\\nFax: +65 6225 0428 Fax No.\\nEmail: info@wkwebster.com.sg Email\"\n",
      "    }\n",
      "}\n",
      "Number of tokens: 1186\n",
      "404 Not Found\n",
      "-----\n",
      "=404 Not Found\n",
      "-----\n",
      "=HUB01IL000399800\n",
      "-----\n",
      "=404 Not Found\n",
      "-----\n"
     ]
    }
   ],
   "source": [
    "insLLM = InsuranceERPLLM()\n",
    "insLLM.store_documents_in_vector_store([\"/Users/mirbilal/Desktop/minsir/media/email_attachments/PR-0224-202504-M03-000152_btLlCci.pdf\"])\n",
    "insLLM.search_documents_vector_store()\n",
    "insLLM.query_from_final_results(insLLM.document_query_results)"
   ]
  },
  {
   "cell_type": "code",
   "execution_count": 4,
   "metadata": {},
   "outputs": [],
   "source": [
    "dummy_convo = [\n",
    "    {\n",
    "        \"from\": \"john.doe@example.com\",\n",
    "        \"to\": [\"support@insurancecompany.com\"],\n",
    "        \"date\": \"June 15, 2023, 10:30 AM\",\n",
    "        \"subject\": \"Inquiry about Insurance Details\",\n",
    "        \"body\": \"\"\"\n",
    "Dear Support Team,\n",
    "\n",
    "I have a few queries regarding my insurance policy:\n",
    "1. What is the net premium amount?\n",
    "2. What is the starting date of the coverage period?\n",
    "3. What is the cover note number which starts with 'COV'?\n",
    "4. What is the policy number which starts with 'PL'?\n",
    "\n",
    "Thank you for your assistance.\n",
    "\n",
    "Best regards,\n",
    "John Doe\n",
    "\"\"\"\n",
    "    },\n",
    "    {\n",
    "        \"from\": \"support@insurancecompany.com\",\n",
    "        \"to\": [\"john.doe@example.com\"],\n",
    "        \"date\": \"June 15, 2023, 1:45 PM\",\n",
    "        \"subject\": \"Re: Inquiry about Insurance Details\",\n",
    "        \"body\": \"\"\"\n",
    "Dear Mr. Doe,\n",
    "\n",
    "Thank you for reaching out to us. Please find the answers to your queries below:\n",
    "1. The net premium amount for your policy is $1,200.\n",
    "2. The starting date of the coverage period is January 1, 2023.\n",
    "3. The cover note number is COV123456.\n",
    "4. The policy number is PL987654.\n",
    "\n",
    "If you have any further questions, please do not hesitate to contact us.\n",
    "\n",
    "Best regards,\n",
    "Insurance Support Team\n",
    "\"\"\"\n",
    "    },\n",
    "    {\n",
    "        \"from\": \"john.doe@example.com\",\n",
    "        \"to\": [\"support@insurancecompany.com\"],\n",
    "        \"date\": \"June 16, 2023, 9:00 AM\",\n",
    "        \"subject\": \"Re: Inquiry about Insurance Details\",\n",
    "        \"body\": \"\"\"\n",
    "Dear Support Team,\n",
    "\n",
    "Thank you for the information. Could you please confirm if the cover note number COV123456 is correct? I have a document that mentions a different cover note number.\n",
    "\n",
    "Best regards,\n",
    "John Doe\n",
    "\"\"\"\n",
    "    },\n",
    "    {\n",
    "        \"from\": \"support@insurancecompany.com\",\n",
    "        \"to\": [\"john.doe@example.com\"],\n",
    "        \"date\": \"June 16, 2023, 11:15 AM\",\n",
    "        \"subject\": \"Re: Inquiry about Insurance Details\",\n",
    "        \"body\": \"\"\"\n",
    "Dear Mr. Doe,\n",
    "\n",
    "We apologize for any confusion. After rechecking our records, the correct cover note number is COV654321.\n",
    "\n",
    "Thank you for your patience.\n",
    "\n",
    "Best regards,\n",
    "Insurance Support Team\n",
    "\"\"\"\n",
    "    }\n",
    "]"
   ]
  },
  {
   "cell_type": "code",
   "execution_count": 5,
   "metadata": {},
   "outputs": [
    {
     "name": "stderr",
     "output_type": "stream",
     "text": [
      "/Users/mirbilal/Desktop/minsir/minsirenv/lib/python3.12/site-packages/huggingface_hub/file_download.py:1132: FutureWarning: `resume_download` is deprecated and will be removed in version 1.0.0. Downloads always resume when possible. If you want to force a new download, use `force_download=True`.\n",
      "  warnings.warn(\n"
     ]
    },
    {
     "name": "stdout",
     "output_type": "stream",
     "text": [
      "{\n",
      "    \"net_premium\": {\n",
      "        \"Choice 1\": \"the policy number which starts with 'PL'?\\\\n\\\\nThank you for your assistance.\\\\n\\\\nBest regards,\\\\nJohn Doe\\\\n\\\"}, {'from': 'support@insurancecompany.com', 'to': ['john.doe@example.com'], 'date': 'June 15, 2023, 1:45 PM', 'subject': 'Re: Inquiry about Insurance Details', 'body': '\\\\nDear Mr. Doe,\\\\n\\\\nThank you for reaching out to us. Please find the answers to your queries below:\\\\n1. The net premium amount for your policy is $1,200.\\\\n2. The starting date of the coverage period is January 1, 2023.\\\\n3. The\",\n",
      "        \"Choice 2\": \"for your policy is $1,200.\\\\n2. The starting date of the coverage period is January 1, 2023.\\\\n3. The cover note number is COV123456.\\\\n4. The policy number is PL987654.\\\\n\\\\nIf you have any further questions, please do not hesitate to contact us.\\\\n\\\\nBest regards,\\\\nInsurance Support Team\\\\n'}, {'from': 'john.doe@example.com', 'to': ['support@insurancecompany.com'], 'date': 'June 16, 2023, 9:00 AM', 'subject': 'Re: Inquiry about Insurance Details', 'body': '\\\\nDear Support Team,\\\\n\\\\nThank you for the\",\n",
      "        \"Choice 3\": \"[{'from': 'john.doe@example.com', 'to': ['support@insurancecompany.com'], 'date': 'June 15, 2023, 10:30 AM', 'subject': 'Inquiry about Insurance Details', 'body': \\\"\\\\nDear Support Team,\\\\n\\\\nI have a few queries regarding my insurance policy:\\\\n1. What is the net premium amount?\\\\n2. What is the starting date of the coverage period?\\\\n3. What is the cover note number which starts with 'COV'?\\\\n4. What is the policy number which starts with 'PL'?\\\\n\\\\nThank you for your assistance.\\\\n\\\\nBest regards,\\\\nJohn\"\n",
      "    },\n",
      "    \"issue_date\": {\n",
      "        \"Choice 1\": \"for your policy is $1,200.\\\\n2. The starting date of the coverage period is January 1, 2023.\\\\n3. The cover note number is COV123456.\\\\n4. The policy number is PL987654.\\\\n\\\\nIf you have any further questions, please do not hesitate to contact us.\\\\n\\\\nBest regards,\\\\nInsurance Support Team\\\\n'}, {'from': 'john.doe@example.com', 'to': ['support@insurancecompany.com'], 'date': 'June 16, 2023, 9:00 AM', 'subject': 'Re: Inquiry about Insurance Details', 'body': '\\\\nDear Support Team,\\\\n\\\\nThank you for the\",\n",
      "        \"Choice 2\": \"the policy number which starts with 'PL'?\\\\n\\\\nThank you for your assistance.\\\\n\\\\nBest regards,\\\\nJohn Doe\\\\n\\\"}, {'from': 'support@insurancecompany.com', 'to': ['john.doe@example.com'], 'date': 'June 15, 2023, 1:45 PM', 'subject': 'Re: Inquiry about Insurance Details', 'body': '\\\\nDear Mr. Doe,\\\\n\\\\nThank you for reaching out to us. Please find the answers to your queries below:\\\\n1. The net premium amount for your policy is $1,200.\\\\n2. The starting date of the coverage period is January 1, 2023.\\\\n3. The\",\n",
      "        \"Choice 3\": \"[{'from': 'john.doe@example.com', 'to': ['support@insurancecompany.com'], 'date': 'June 15, 2023, 10:30 AM', 'subject': 'Inquiry about Insurance Details', 'body': \\\"\\\\nDear Support Team,\\\\n\\\\nI have a few queries regarding my insurance policy:\\\\n1. What is the net premium amount?\\\\n2. What is the starting date of the coverage period?\\\\n3. What is the cover note number which starts with 'COV'?\\\\n4. What is the policy number which starts with 'PL'?\\\\n\\\\nThank you for your assistance.\\\\n\\\\nBest regards,\\\\nJohn\"\n",
      "    },\n",
      "    \"covernote_number\": {\n",
      "        \"Choice 1\": \"'subject': 'Re: Inquiry about Insurance Details', 'body': '\\\\nDear Support Team,\\\\n\\\\nThank you for the information. Could you please confirm if the cover note number COV123456 is correct? I have a document that mentions a different cover note number.\\\\n\\\\nBest regards,\\\\nJohn Doe\\\\n'}, {'from': 'support@insurancecompany.com', 'to': ['john.doe@example.com'], 'date': 'June 16, 2023, 11:15 AM', 'subject': 'Re: Inquiry about Insurance Details', 'body': '\\\\nDear Mr. Doe,\\\\n\\\\nWe apologize for any confusion.\",\n",
      "        \"Choice 2\": \"'Re: Inquiry about Insurance Details', 'body': '\\\\nDear Mr. Doe,\\\\n\\\\nWe apologize for any confusion. After rechecking our records, the correct cover note number is COV654321.\\\\n\\\\nThank you for your patience.\\\\n\\\\nBest regards,\\\\nInsurance Support Team\\\\n'}]\",\n",
      "        \"Choice 3\": \"for your policy is $1,200.\\\\n2. The starting date of the coverage period is January 1, 2023.\\\\n3. The cover note number is COV123456.\\\\n4. The policy number is PL987654.\\\\n\\\\nIf you have any further questions, please do not hesitate to contact us.\\\\n\\\\nBest regards,\\\\nInsurance Support Team\\\\n'}, {'from': 'john.doe@example.com', 'to': ['support@insurancecompany.com'], 'date': 'June 16, 2023, 9:00 AM', 'subject': 'Re: Inquiry about Insurance Details', 'body': '\\\\nDear Support Team,\\\\n\\\\nThank you for the\"\n",
      "    },\n",
      "    \"policy_number\": {\n",
      "        \"Choice 1\": \"the policy number which starts with 'PL'?\\\\n\\\\nThank you for your assistance.\\\\n\\\\nBest regards,\\\\nJohn Doe\\\\n\\\"}, {'from': 'support@insurancecompany.com', 'to': ['john.doe@example.com'], 'date': 'June 15, 2023, 1:45 PM', 'subject': 'Re: Inquiry about Insurance Details', 'body': '\\\\nDear Mr. Doe,\\\\n\\\\nThank you for reaching out to us. Please find the answers to your queries below:\\\\n1. The net premium amount for your policy is $1,200.\\\\n2. The starting date of the coverage period is January 1, 2023.\\\\n3. The\",\n",
      "        \"Choice 2\": \"for your policy is $1,200.\\\\n2. The starting date of the coverage period is January 1, 2023.\\\\n3. The cover note number is COV123456.\\\\n4. The policy number is PL987654.\\\\n\\\\nIf you have any further questions, please do not hesitate to contact us.\\\\n\\\\nBest regards,\\\\nInsurance Support Team\\\\n'}, {'from': 'john.doe@example.com', 'to': ['support@insurancecompany.com'], 'date': 'June 16, 2023, 9:00 AM', 'subject': 'Re: Inquiry about Insurance Details', 'body': '\\\\nDear Support Team,\\\\n\\\\nThank you for the\",\n",
      "        \"Choice 3\": \"[{'from': 'john.doe@example.com', 'to': ['support@insurancecompany.com'], 'date': 'June 15, 2023, 10:30 AM', 'subject': 'Inquiry about Insurance Details', 'body': \\\"\\\\nDear Support Team,\\\\n\\\\nI have a few queries regarding my insurance policy:\\\\n1. What is the net premium amount?\\\\n2. What is the starting date of the coverage period?\\\\n3. What is the cover note number which starts with 'COV'?\\\\n4. What is the policy number which starts with 'PL'?\\\\n\\\\nThank you for your assistance.\\\\n\\\\nBest regards,\\\\nJohn\"\n",
      "    }\n",
      "}\n",
      "Number of tokens: 784\n",
      "='$1,200'\n",
      "-----\n",
      "Answer: The starting date of the coverage period = 2023-01-01.\n",
      "-----\n",
      "=COV123456\n",
      "-----\n",
      "=PL987654\n",
      "-----\n"
     ]
    }
   ],
   "source": [
    "insLLM = InsuranceERPLLM()\n",
    "insLLM.store_convo_in_vector_store(f\"{dummy_convo}\")\n",
    "insLLM.search_convo_vector_store()\n",
    "insLLM.query_from_final_results(insLLM.convo_query_results)"
   ]
  },
  {
   "cell_type": "code",
   "execution_count": 58,
   "metadata": {},
   "outputs": [
    {
     "name": "stdout",
     "output_type": "stream",
     "text": [
      "(768,)\n"
     ]
    }
   ],
   "source": [
    "print(insLLM.get_vectors(insLLM.documents_vector_store)[0].shape)"
   ]
  }
 ],
 "metadata": {
  "kernelspec": {
   "display_name": "minsirenv",
   "language": "python",
   "name": "python3"
  },
  "language_info": {
   "codemirror_mode": {
    "name": "ipython",
    "version": 3
   },
   "file_extension": ".py",
   "mimetype": "text/x-python",
   "name": "python",
   "nbconvert_exporter": "python",
   "pygments_lexer": "ipython3",
   "version": "3.12.4"
  },
  "orig_nbformat": 4
 },
 "nbformat": 4,
 "nbformat_minor": 2
}
