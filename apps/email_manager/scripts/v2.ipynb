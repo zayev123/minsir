{
 "cells": [
  {
   "cell_type": "code",
   "execution_count": 1,
   "metadata": {},
   "outputs": [],
   "source": [
    "import sys\n",
    "import django\n",
    "import os\n",
    "file_dir = \"/Users/mirbilal/Desktop/minsir/\"\n",
    "if file_dir not in sys.path:\n",
    "    sys.path.insert(0, file_dir)\n",
    "\n",
    "os.environ[\"DJANGO_SETTINGS_MODULE\"] = \"minsirx.settings\"\n",
    "os.environ[\"DJANGO_ALLOW_ASYNC_UNSAFE\"] = \"true\" \n",
    "os.environ[\"OPENAI_API_KEY\"] = \"sk-proj-FZ2v2sIScsxguqHnuT4VT3BlbkFJEgAuDrqMx91v7PG2fhDu\"\n",
    "django.setup()\n",
    "from apps.email_manager.service_layer.email_linker import ConversationReader\n",
    "import json\n",
    "from datetime import datetime\n",
    "from apps.email_manager.service_layer.insurance_erp_llm import InsuranceERPLLM\n",
    "from apps.email_manager.models.email import EmailAttachment\n",
    "\n"
   ]
  },
  {
   "cell_type": "code",
   "execution_count": 2,
   "metadata": {},
   "outputs": [
    {
     "name": "stderr",
     "output_type": "stream",
     "text": [
      "/Users/mirbilal/Desktop/minsir/minsirenv/lib/python3.12/site-packages/django/db/models/fields/__init__.py:1659: RuntimeWarning: DateTimeField EmailData.date received a naive datetime (2024-02-10 00:00:00) while time zone support is active.\n",
      "  warnings.warn(\n",
      "/Users/mirbilal/Desktop/minsir/minsirenv/lib/python3.12/site-packages/django/db/models/fields/__init__.py:1659: RuntimeWarning: DateTimeField EmailData.date received a naive datetime (2024-02-20 00:00:00) while time zone support is active.\n",
      "  warnings.warn(\n"
     ]
    }
   ],
   "source": [
    "convo_reader = ConversationReader(\n",
    "    start_date=datetime(year=2024, month=2, day=10),\n",
    "    end_date=datetime(year=2024, month=2, day=20),\n",
    ")\n",
    "convo_reader.extract_conversation()\n"
   ]
  },
  {
   "cell_type": "code",
   "execution_count": 3,
   "metadata": {},
   "outputs": [
    {
     "name": "stderr",
     "output_type": "stream",
     "text": [
      "/Users/mirbilal/Desktop/minsir/minsirenv/lib/python3.12/site-packages/sentence_transformers/cross_encoder/CrossEncoder.py:11: TqdmExperimentalWarning: Using `tqdm.autonotebook.tqdm` in notebook mode. Use `tqdm.tqdm` instead to force console mode (e.g. in jupyter console)\n",
      "  from tqdm.autonotebook import tqdm, trange\n",
      "/Users/mirbilal/Desktop/minsir/minsirenv/lib/python3.12/site-packages/threadpoolctl.py:1214: RuntimeWarning: \n",
      "Found Intel OpenMP ('libiomp') and LLVM OpenMP ('libomp') loaded at\n",
      "the same time. Both libraries are known to be incompatible and this\n",
      "can cause random crashes or deadlocks on Linux when loaded in the\n",
      "same Python program.\n",
      "Using threadpoolctl may cause crashes or deadlocks. For more\n",
      "information and possible workarounds, please see\n",
      "    https://github.com/joblib/threadpoolctl/blob/master/multiple_openmp.md\n",
      "\n",
      "  warnings.warn(msg, RuntimeWarning)\n",
      "/Users/mirbilal/Desktop/minsir/minsirenv/lib/python3.12/site-packages/huggingface_hub/file_download.py:1132: FutureWarning: `resume_download` is deprecated and will be removed in version 1.0.0. Downloads always resume when possible. If you want to force a new download, use `force_download=True`.\n",
      "  warnings.warn(\n"
     ]
    },
    {
     "name": "stdout",
     "output_type": "stream",
     "text": [
      "{\n",
      "    \"net_premium\": {\n",
      "        \"Choice 1\": \"[{'from': 'afzal.qadir@adamjeeinsurance.com', 'to': ['mufzal.agha@adamjeeinsurance.com'], 'date': 'February 19, 2024, 6:33 AM', 'subject': 'ISSUE POLICY FOR EEI | M/S SIKA PAKISTAN (PVT.) LTD.', 'body': 'Dear Agha,\\\\n\\\\xa0\\\\nPlease issue policy for EEI as per payment instrument attached.\\\\n\\\\xa0\\\\n\\\\xa0 Afzal Qadir\\\\nTeam Member,\\\\nMiscellaneous Underwriting\\\\nP\\\\xa0\\\\n:\\\\n\\\\xa0\\\\xa0+92 21 32412623\\\\xa0\\\\n\\\\xa0Ext \\\\n1370 , \\\\nM\\\\xa0\\\\n: +92\",\n",
      "        \"Choice 2\": \"Underwriting\\\\nP\\\\xa0\\\\n:\\\\n\\\\xa0\\\\xa0+92 21 32412623\\\\xa0\\\\n\\\\xa0Ext \\\\n1370 , \\\\nM\\\\xa0\\\\n: +92 3350203993\\\\xa0\\\\xa0\\\\nE\\\\xa0\\\\n:\\\\xa0\\\\nafzal.qadir\\\\n@adamjeeinsurance.com\\\\nAdamjee Insurance Company Limited\\\\nAdamjee House Division, 5th Floor, \\\\nAdamjee House, I.I.Chundrigar Road, Karachi,\\\\n\\\\xa0\\\\xa0\\\\xa0\\\\xa0\\\\xa0\\\\xa0\\\\xa0\\\\xa0\\\\xa0\\\\xa0\\\\xa0\\\\xa0\\\\xa0\\\\xa0\\\\xa0\\\\xa0\\\\xa0\\\\xa0\\\\xa0\\\\xa0\\\\xa0\\\\xa0 Pakistan.\\\\xa0\\\\xa0\\\\xa0\\\\xa0 \\\\n\\\\xa0\\\\xa0\\\\xa0\\\\xa0\\\\xa0\\\\n\\\\xa0\\\\xa0\\\\xa0\\\\xa0\\\\xa0\\\\xa0\\\\n\\\\xa0\\\\xa0\\\\xa0\\\\xa0\\\\xa0\\\\n\\\\xa0\\\\xa0\\\\n\\\\xa0\\\\xa0\\\\nISO\",\n",
      "        \"Choice 3\": \"\\\\n\\\\xa0\\\\xa0\\\\xa0\\\\xa0\\\\xa0\\\\n\\\\xa0\\\\xa0\\\\xa0\\\\xa0\\\\xa0\\\\xa0\\\\n\\\\xa0\\\\xa0\\\\xa0\\\\xa0\\\\xa0\\\\n\\\\xa0\\\\xa0\\\\n\\\\xa0\\\\xa0\\\\nISO 9001:2015\\\\n\\\\xa0\\\\nCERTIFIED\\\\xa0\\\\xa0\\\\n|\\\\xa0\\\\xa0\\\\nAA+\\\\n\\\\xa0\\\\nPACRA\\\\n\\\\xa0\\\\n\\\\xa0\\\\n'}]\"\n",
      "    },\n",
      "    \"issue_date\": {\n",
      "        \"Choice 1\": \"[{'from': 'afzal.qadir@adamjeeinsurance.com', 'to': ['mufzal.agha@adamjeeinsurance.com'], 'date': 'February 19, 2024, 6:33 AM', 'subject': 'ISSUE POLICY FOR EEI | M/S SIKA PAKISTAN (PVT.) LTD.', 'body': 'Dear Agha,\\\\n\\\\xa0\\\\nPlease issue policy for EEI as per payment instrument attached.\\\\n\\\\xa0\\\\n\\\\xa0 Afzal Qadir\\\\nTeam Member,\\\\nMiscellaneous Underwriting\\\\nP\\\\xa0\\\\n:\\\\n\\\\xa0\\\\xa0+92 21 32412623\\\\xa0\\\\n\\\\xa0Ext \\\\n1370 , \\\\nM\\\\xa0\\\\n: +92\",\n",
      "        \"Choice 2\": \"Underwriting\\\\nP\\\\xa0\\\\n:\\\\n\\\\xa0\\\\xa0+92 21 32412623\\\\xa0\\\\n\\\\xa0Ext \\\\n1370 , \\\\nM\\\\xa0\\\\n: +92 3350203993\\\\xa0\\\\xa0\\\\nE\\\\xa0\\\\n:\\\\xa0\\\\nafzal.qadir\\\\n@adamjeeinsurance.com\\\\nAdamjee Insurance Company Limited\\\\nAdamjee House Division, 5th Floor, \\\\nAdamjee House, I.I.Chundrigar Road, Karachi,\\\\n\\\\xa0\\\\xa0\\\\xa0\\\\xa0\\\\xa0\\\\xa0\\\\xa0\\\\xa0\\\\xa0\\\\xa0\\\\xa0\\\\xa0\\\\xa0\\\\xa0\\\\xa0\\\\xa0\\\\xa0\\\\xa0\\\\xa0\\\\xa0\\\\xa0\\\\xa0 Pakistan.\\\\xa0\\\\xa0\\\\xa0\\\\xa0 \\\\n\\\\xa0\\\\xa0\\\\xa0\\\\xa0\\\\xa0\\\\n\\\\xa0\\\\xa0\\\\xa0\\\\xa0\\\\xa0\\\\xa0\\\\n\\\\xa0\\\\xa0\\\\xa0\\\\xa0\\\\xa0\\\\n\\\\xa0\\\\xa0\\\\n\\\\xa0\\\\xa0\\\\nISO\",\n",
      "        \"Choice 3\": \"\\\\n\\\\xa0\\\\xa0\\\\xa0\\\\xa0\\\\xa0\\\\n\\\\xa0\\\\xa0\\\\xa0\\\\xa0\\\\xa0\\\\xa0\\\\n\\\\xa0\\\\xa0\\\\xa0\\\\xa0\\\\xa0\\\\n\\\\xa0\\\\xa0\\\\n\\\\xa0\\\\xa0\\\\nISO 9001:2015\\\\n\\\\xa0\\\\nCERTIFIED\\\\xa0\\\\xa0\\\\n|\\\\xa0\\\\xa0\\\\nAA+\\\\n\\\\xa0\\\\nPACRA\\\\n\\\\xa0\\\\n\\\\xa0\\\\n'}]\"\n",
      "    },\n",
      "    \"covernote_number\": {\n",
      "        \"Choice 1\": \"[{'from': 'afzal.qadir@adamjeeinsurance.com', 'to': ['mufzal.agha@adamjeeinsurance.com'], 'date': 'February 19, 2024, 6:33 AM', 'subject': 'ISSUE POLICY FOR EEI | M/S SIKA PAKISTAN (PVT.) LTD.', 'body': 'Dear Agha,\\\\n\\\\xa0\\\\nPlease issue policy for EEI as per payment instrument attached.\\\\n\\\\xa0\\\\n\\\\xa0 Afzal Qadir\\\\nTeam Member,\\\\nMiscellaneous Underwriting\\\\nP\\\\xa0\\\\n:\\\\n\\\\xa0\\\\xa0+92 21 32412623\\\\xa0\\\\n\\\\xa0Ext \\\\n1370 , \\\\nM\\\\xa0\\\\n: +92\",\n",
      "        \"Choice 2\": \"Underwriting\\\\nP\\\\xa0\\\\n:\\\\n\\\\xa0\\\\xa0+92 21 32412623\\\\xa0\\\\n\\\\xa0Ext \\\\n1370 , \\\\nM\\\\xa0\\\\n: +92 3350203993\\\\xa0\\\\xa0\\\\nE\\\\xa0\\\\n:\\\\xa0\\\\nafzal.qadir\\\\n@adamjeeinsurance.com\\\\nAdamjee Insurance Company Limited\\\\nAdamjee House Division, 5th Floor, \\\\nAdamjee House, I.I.Chundrigar Road, Karachi,\\\\n\\\\xa0\\\\xa0\\\\xa0\\\\xa0\\\\xa0\\\\xa0\\\\xa0\\\\xa0\\\\xa0\\\\xa0\\\\xa0\\\\xa0\\\\xa0\\\\xa0\\\\xa0\\\\xa0\\\\xa0\\\\xa0\\\\xa0\\\\xa0\\\\xa0\\\\xa0 Pakistan.\\\\xa0\\\\xa0\\\\xa0\\\\xa0 \\\\n\\\\xa0\\\\xa0\\\\xa0\\\\xa0\\\\xa0\\\\n\\\\xa0\\\\xa0\\\\xa0\\\\xa0\\\\xa0\\\\xa0\\\\n\\\\xa0\\\\xa0\\\\xa0\\\\xa0\\\\xa0\\\\n\\\\xa0\\\\xa0\\\\n\\\\xa0\\\\xa0\\\\nISO\",\n",
      "        \"Choice 3\": \"\\\\n\\\\xa0\\\\xa0\\\\xa0\\\\xa0\\\\xa0\\\\n\\\\xa0\\\\xa0\\\\xa0\\\\xa0\\\\xa0\\\\xa0\\\\n\\\\xa0\\\\xa0\\\\xa0\\\\xa0\\\\xa0\\\\n\\\\xa0\\\\xa0\\\\n\\\\xa0\\\\xa0\\\\nISO 9001:2015\\\\n\\\\xa0\\\\nCERTIFIED\\\\xa0\\\\xa0\\\\n|\\\\xa0\\\\xa0\\\\nAA+\\\\n\\\\xa0\\\\nPACRA\\\\n\\\\xa0\\\\n\\\\xa0\\\\n'}]\"\n",
      "    },\n",
      "    \"policy_number\": {\n",
      "        \"Choice 1\": \"[{'from': 'afzal.qadir@adamjeeinsurance.com', 'to': ['mufzal.agha@adamjeeinsurance.com'], 'date': 'February 19, 2024, 6:33 AM', 'subject': 'ISSUE POLICY FOR EEI | M/S SIKA PAKISTAN (PVT.) LTD.', 'body': 'Dear Agha,\\\\n\\\\xa0\\\\nPlease issue policy for EEI as per payment instrument attached.\\\\n\\\\xa0\\\\n\\\\xa0 Afzal Qadir\\\\nTeam Member,\\\\nMiscellaneous Underwriting\\\\nP\\\\xa0\\\\n:\\\\n\\\\xa0\\\\xa0+92 21 32412623\\\\xa0\\\\n\\\\xa0Ext \\\\n1370 , \\\\nM\\\\xa0\\\\n: +92\",\n",
      "        \"Choice 2\": \"Underwriting\\\\nP\\\\xa0\\\\n:\\\\n\\\\xa0\\\\xa0+92 21 32412623\\\\xa0\\\\n\\\\xa0Ext \\\\n1370 , \\\\nM\\\\xa0\\\\n: +92 3350203993\\\\xa0\\\\xa0\\\\nE\\\\xa0\\\\n:\\\\xa0\\\\nafzal.qadir\\\\n@adamjeeinsurance.com\\\\nAdamjee Insurance Company Limited\\\\nAdamjee House Division, 5th Floor, \\\\nAdamjee House, I.I.Chundrigar Road, Karachi,\\\\n\\\\xa0\\\\xa0\\\\xa0\\\\xa0\\\\xa0\\\\xa0\\\\xa0\\\\xa0\\\\xa0\\\\xa0\\\\xa0\\\\xa0\\\\xa0\\\\xa0\\\\xa0\\\\xa0\\\\xa0\\\\xa0\\\\xa0\\\\xa0\\\\xa0\\\\xa0 Pakistan.\\\\xa0\\\\xa0\\\\xa0\\\\xa0 \\\\n\\\\xa0\\\\xa0\\\\xa0\\\\xa0\\\\xa0\\\\n\\\\xa0\\\\xa0\\\\xa0\\\\xa0\\\\xa0\\\\xa0\\\\n\\\\xa0\\\\xa0\\\\xa0\\\\xa0\\\\xa0\\\\n\\\\xa0\\\\xa0\\\\n\\\\xa0\\\\xa0\\\\nISO\",\n",
      "        \"Choice 3\": \"\\\\n\\\\xa0\\\\xa0\\\\xa0\\\\xa0\\\\xa0\\\\n\\\\xa0\\\\xa0\\\\xa0\\\\xa0\\\\xa0\\\\xa0\\\\n\\\\xa0\\\\xa0\\\\xa0\\\\xa0\\\\xa0\\\\n\\\\xa0\\\\xa0\\\\n\\\\xa0\\\\xa0\\\\nISO 9001:2015\\\\n\\\\xa0\\\\nCERTIFIED\\\\xa0\\\\xa0\\\\n|\\\\xa0\\\\xa0\\\\nAA+\\\\n\\\\xa0\\\\nPACRA\\\\n\\\\xa0\\\\n\\\\xa0\\\\n'}]\"\n",
      "    },\n",
      "    \"claim_number\": {\n",
      "        \"Choice 1\": \"[{'from': 'afzal.qadir@adamjeeinsurance.com', 'to': ['mufzal.agha@adamjeeinsurance.com'], 'date': 'February 19, 2024, 6:33 AM', 'subject': 'ISSUE POLICY FOR EEI | M/S SIKA PAKISTAN (PVT.) LTD.', 'body': 'Dear Agha,\\\\n\\\\xa0\\\\nPlease issue policy for EEI as per payment instrument attached.\\\\n\\\\xa0\\\\n\\\\xa0 Afzal Qadir\\\\nTeam Member,\\\\nMiscellaneous Underwriting\\\\nP\\\\xa0\\\\n:\\\\n\\\\xa0\\\\xa0+92 21 32412623\\\\xa0\\\\n\\\\xa0Ext \\\\n1370 , \\\\nM\\\\xa0\\\\n: +92\",\n",
      "        \"Choice 2\": \"Underwriting\\\\nP\\\\xa0\\\\n:\\\\n\\\\xa0\\\\xa0+92 21 32412623\\\\xa0\\\\n\\\\xa0Ext \\\\n1370 , \\\\nM\\\\xa0\\\\n: +92 3350203993\\\\xa0\\\\xa0\\\\nE\\\\xa0\\\\n:\\\\xa0\\\\nafzal.qadir\\\\n@adamjeeinsurance.com\\\\nAdamjee Insurance Company Limited\\\\nAdamjee House Division, 5th Floor, \\\\nAdamjee House, I.I.Chundrigar Road, Karachi,\\\\n\\\\xa0\\\\xa0\\\\xa0\\\\xa0\\\\xa0\\\\xa0\\\\xa0\\\\xa0\\\\xa0\\\\xa0\\\\xa0\\\\xa0\\\\xa0\\\\xa0\\\\xa0\\\\xa0\\\\xa0\\\\xa0\\\\xa0\\\\xa0\\\\xa0\\\\xa0 Pakistan.\\\\xa0\\\\xa0\\\\xa0\\\\xa0 \\\\n\\\\xa0\\\\xa0\\\\xa0\\\\xa0\\\\xa0\\\\n\\\\xa0\\\\xa0\\\\xa0\\\\xa0\\\\xa0\\\\xa0\\\\n\\\\xa0\\\\xa0\\\\xa0\\\\xa0\\\\xa0\\\\n\\\\xa0\\\\xa0\\\\n\\\\xa0\\\\xa0\\\\nISO\",\n",
      "        \"Choice 3\": \"\\\\n\\\\xa0\\\\xa0\\\\xa0\\\\xa0\\\\xa0\\\\n\\\\xa0\\\\xa0\\\\xa0\\\\xa0\\\\xa0\\\\xa0\\\\n\\\\xa0\\\\xa0\\\\xa0\\\\xa0\\\\xa0\\\\n\\\\xa0\\\\xa0\\\\n\\\\xa0\\\\xa0\\\\nISO 9001:2015\\\\n\\\\xa0\\\\nCERTIFIED\\\\xa0\\\\xa0\\\\n|\\\\xa0\\\\xa0\\\\nAA+\\\\n\\\\xa0\\\\nPACRA\\\\n\\\\xa0\\\\n\\\\xa0\\\\n'}]\"\n",
      "    },\n",
      "    \"customer_name\": {\n",
      "        \"Choice 1\": \"[{'from': 'afzal.qadir@adamjeeinsurance.com', 'to': ['mufzal.agha@adamjeeinsurance.com'], 'date': 'February 19, 2024, 6:33 AM', 'subject': 'ISSUE POLICY FOR EEI | M/S SIKA PAKISTAN (PVT.) LTD.', 'body': 'Dear Agha,\\\\n\\\\xa0\\\\nPlease issue policy for EEI as per payment instrument attached.\\\\n\\\\xa0\\\\n\\\\xa0 Afzal Qadir\\\\nTeam Member,\\\\nMiscellaneous Underwriting\\\\nP\\\\xa0\\\\n:\\\\n\\\\xa0\\\\xa0+92 21 32412623\\\\xa0\\\\n\\\\xa0Ext \\\\n1370 , \\\\nM\\\\xa0\\\\n: +92\",\n",
      "        \"Choice 2\": \"Underwriting\\\\nP\\\\xa0\\\\n:\\\\n\\\\xa0\\\\xa0+92 21 32412623\\\\xa0\\\\n\\\\xa0Ext \\\\n1370 , \\\\nM\\\\xa0\\\\n: +92 3350203993\\\\xa0\\\\xa0\\\\nE\\\\xa0\\\\n:\\\\xa0\\\\nafzal.qadir\\\\n@adamjeeinsurance.com\\\\nAdamjee Insurance Company Limited\\\\nAdamjee House Division, 5th Floor, \\\\nAdamjee House, I.I.Chundrigar Road, Karachi,\\\\n\\\\xa0\\\\xa0\\\\xa0\\\\xa0\\\\xa0\\\\xa0\\\\xa0\\\\xa0\\\\xa0\\\\xa0\\\\xa0\\\\xa0\\\\xa0\\\\xa0\\\\xa0\\\\xa0\\\\xa0\\\\xa0\\\\xa0\\\\xa0\\\\xa0\\\\xa0 Pakistan.\\\\xa0\\\\xa0\\\\xa0\\\\xa0 \\\\n\\\\xa0\\\\xa0\\\\xa0\\\\xa0\\\\xa0\\\\n\\\\xa0\\\\xa0\\\\xa0\\\\xa0\\\\xa0\\\\xa0\\\\n\\\\xa0\\\\xa0\\\\xa0\\\\xa0\\\\xa0\\\\n\\\\xa0\\\\xa0\\\\n\\\\xa0\\\\xa0\\\\nISO\",\n",
      "        \"Choice 3\": \"\\\\n\\\\xa0\\\\xa0\\\\xa0\\\\xa0\\\\xa0\\\\n\\\\xa0\\\\xa0\\\\xa0\\\\xa0\\\\xa0\\\\xa0\\\\n\\\\xa0\\\\xa0\\\\xa0\\\\xa0\\\\xa0\\\\n\\\\xa0\\\\xa0\\\\n\\\\xa0\\\\xa0\\\\nISO 9001:2015\\\\n\\\\xa0\\\\nCERTIFIED\\\\xa0\\\\xa0\\\\n|\\\\xa0\\\\xa0\\\\nAA+\\\\n\\\\xa0\\\\nPACRA\\\\n\\\\xa0\\\\n\\\\xa0\\\\n'}]\"\n",
      "    },\n",
      "    \"risk_type\": {\n",
      "        \"Choice 1\": \"[{'from': 'afzal.qadir@adamjeeinsurance.com', 'to': ['mufzal.agha@adamjeeinsurance.com'], 'date': 'February 19, 2024, 6:33 AM', 'subject': 'ISSUE POLICY FOR EEI | M/S SIKA PAKISTAN (PVT.) LTD.', 'body': 'Dear Agha,\\\\n\\\\xa0\\\\nPlease issue policy for EEI as per payment instrument attached.\\\\n\\\\xa0\\\\n\\\\xa0 Afzal Qadir\\\\nTeam Member,\\\\nMiscellaneous Underwriting\\\\nP\\\\xa0\\\\n:\\\\n\\\\xa0\\\\xa0+92 21 32412623\\\\xa0\\\\n\\\\xa0Ext \\\\n1370 , \\\\nM\\\\xa0\\\\n: +92\",\n",
      "        \"Choice 2\": \"Underwriting\\\\nP\\\\xa0\\\\n:\\\\n\\\\xa0\\\\xa0+92 21 32412623\\\\xa0\\\\n\\\\xa0Ext \\\\n1370 , \\\\nM\\\\xa0\\\\n: +92 3350203993\\\\xa0\\\\xa0\\\\nE\\\\xa0\\\\n:\\\\xa0\\\\nafzal.qadir\\\\n@adamjeeinsurance.com\\\\nAdamjee Insurance Company Limited\\\\nAdamjee House Division, 5th Floor, \\\\nAdamjee House, I.I.Chundrigar Road, Karachi,\\\\n\\\\xa0\\\\xa0\\\\xa0\\\\xa0\\\\xa0\\\\xa0\\\\xa0\\\\xa0\\\\xa0\\\\xa0\\\\xa0\\\\xa0\\\\xa0\\\\xa0\\\\xa0\\\\xa0\\\\xa0\\\\xa0\\\\xa0\\\\xa0\\\\xa0\\\\xa0 Pakistan.\\\\xa0\\\\xa0\\\\xa0\\\\xa0 \\\\n\\\\xa0\\\\xa0\\\\xa0\\\\xa0\\\\xa0\\\\n\\\\xa0\\\\xa0\\\\xa0\\\\xa0\\\\xa0\\\\xa0\\\\n\\\\xa0\\\\xa0\\\\xa0\\\\xa0\\\\xa0\\\\n\\\\xa0\\\\xa0\\\\n\\\\xa0\\\\xa0\\\\nISO\",\n",
      "        \"Choice 3\": \"\\\\n\\\\xa0\\\\xa0\\\\xa0\\\\xa0\\\\xa0\\\\n\\\\xa0\\\\xa0\\\\xa0\\\\xa0\\\\xa0\\\\xa0\\\\n\\\\xa0\\\\xa0\\\\xa0\\\\xa0\\\\xa0\\\\n\\\\xa0\\\\xa0\\\\n\\\\xa0\\\\xa0\\\\nISO 9001:2015\\\\n\\\\xa0\\\\nCERTIFIED\\\\xa0\\\\xa0\\\\n|\\\\xa0\\\\xa0\\\\nAA+\\\\n\\\\xa0\\\\nPACRA\\\\n\\\\xa0\\\\n\\\\xa0\\\\n'}]\"\n",
      "    },\n",
      "    \"event_type\": {\n",
      "        \"Choice 1\": \"[{'from': 'afzal.qadir@adamjeeinsurance.com', 'to': ['mufzal.agha@adamjeeinsurance.com'], 'date': 'February 19, 2024, 6:33 AM', 'subject': 'ISSUE POLICY FOR EEI | M/S SIKA PAKISTAN (PVT.) LTD.', 'body': 'Dear Agha,\\\\n\\\\xa0\\\\nPlease issue policy for EEI as per payment instrument attached.\\\\n\\\\xa0\\\\n\\\\xa0 Afzal Qadir\\\\nTeam Member,\\\\nMiscellaneous Underwriting\\\\nP\\\\xa0\\\\n:\\\\n\\\\xa0\\\\xa0+92 21 32412623\\\\xa0\\\\n\\\\xa0Ext \\\\n1370 , \\\\nM\\\\xa0\\\\n: +92\",\n",
      "        \"Choice 2\": \"\\\\n\\\\xa0\\\\xa0\\\\xa0\\\\xa0\\\\xa0\\\\n\\\\xa0\\\\xa0\\\\xa0\\\\xa0\\\\xa0\\\\xa0\\\\n\\\\xa0\\\\xa0\\\\xa0\\\\xa0\\\\xa0\\\\n\\\\xa0\\\\xa0\\\\n\\\\xa0\\\\xa0\\\\nISO 9001:2015\\\\n\\\\xa0\\\\nCERTIFIED\\\\xa0\\\\xa0\\\\n|\\\\xa0\\\\xa0\\\\nAA+\\\\n\\\\xa0\\\\nPACRA\\\\n\\\\xa0\\\\n\\\\xa0\\\\n'}]\",\n",
      "        \"Choice 3\": \"Underwriting\\\\nP\\\\xa0\\\\n:\\\\n\\\\xa0\\\\xa0+92 21 32412623\\\\xa0\\\\n\\\\xa0Ext \\\\n1370 , \\\\nM\\\\xa0\\\\n: +92 3350203993\\\\xa0\\\\xa0\\\\nE\\\\xa0\\\\n:\\\\xa0\\\\nafzal.qadir\\\\n@adamjeeinsurance.com\\\\nAdamjee Insurance Company Limited\\\\nAdamjee House Division, 5th Floor, \\\\nAdamjee House, I.I.Chundrigar Road, Karachi,\\\\n\\\\xa0\\\\xa0\\\\xa0\\\\xa0\\\\xa0\\\\xa0\\\\xa0\\\\xa0\\\\xa0\\\\xa0\\\\xa0\\\\xa0\\\\xa0\\\\xa0\\\\xa0\\\\xa0\\\\xa0\\\\xa0\\\\xa0\\\\xa0\\\\xa0\\\\xa0 Pakistan.\\\\xa0\\\\xa0\\\\xa0\\\\xa0 \\\\n\\\\xa0\\\\xa0\\\\xa0\\\\xa0\\\\xa0\\\\n\\\\xa0\\\\xa0\\\\xa0\\\\xa0\\\\xa0\\\\xa0\\\\n\\\\xa0\\\\xa0\\\\xa0\\\\xa0\\\\xa0\\\\n\\\\xa0\\\\xa0\\\\n\\\\xa0\\\\xa0\\\\nISO\"\n",
      "    },\n",
      "    \"sum_insured\": {\n",
      "        \"Choice 1\": \"[{'from': 'afzal.qadir@adamjeeinsurance.com', 'to': ['mufzal.agha@adamjeeinsurance.com'], 'date': 'February 19, 2024, 6:33 AM', 'subject': 'ISSUE POLICY FOR EEI | M/S SIKA PAKISTAN (PVT.) LTD.', 'body': 'Dear Agha,\\\\n\\\\xa0\\\\nPlease issue policy for EEI as per payment instrument attached.\\\\n\\\\xa0\\\\n\\\\xa0 Afzal Qadir\\\\nTeam Member,\\\\nMiscellaneous Underwriting\\\\nP\\\\xa0\\\\n:\\\\n\\\\xa0\\\\xa0+92 21 32412623\\\\xa0\\\\n\\\\xa0Ext \\\\n1370 , \\\\nM\\\\xa0\\\\n: +92\",\n",
      "        \"Choice 2\": \"Underwriting\\\\nP\\\\xa0\\\\n:\\\\n\\\\xa0\\\\xa0+92 21 32412623\\\\xa0\\\\n\\\\xa0Ext \\\\n1370 , \\\\nM\\\\xa0\\\\n: +92 3350203993\\\\xa0\\\\xa0\\\\nE\\\\xa0\\\\n:\\\\xa0\\\\nafzal.qadir\\\\n@adamjeeinsurance.com\\\\nAdamjee Insurance Company Limited\\\\nAdamjee House Division, 5th Floor, \\\\nAdamjee House, I.I.Chundrigar Road, Karachi,\\\\n\\\\xa0\\\\xa0\\\\xa0\\\\xa0\\\\xa0\\\\xa0\\\\xa0\\\\xa0\\\\xa0\\\\xa0\\\\xa0\\\\xa0\\\\xa0\\\\xa0\\\\xa0\\\\xa0\\\\xa0\\\\xa0\\\\xa0\\\\xa0\\\\xa0\\\\xa0 Pakistan.\\\\xa0\\\\xa0\\\\xa0\\\\xa0 \\\\n\\\\xa0\\\\xa0\\\\xa0\\\\xa0\\\\xa0\\\\n\\\\xa0\\\\xa0\\\\xa0\\\\xa0\\\\xa0\\\\xa0\\\\n\\\\xa0\\\\xa0\\\\xa0\\\\xa0\\\\xa0\\\\n\\\\xa0\\\\xa0\\\\n\\\\xa0\\\\xa0\\\\nISO\",\n",
      "        \"Choice 3\": \"\\\\n\\\\xa0\\\\xa0\\\\xa0\\\\xa0\\\\xa0\\\\n\\\\xa0\\\\xa0\\\\xa0\\\\xa0\\\\xa0\\\\xa0\\\\n\\\\xa0\\\\xa0\\\\xa0\\\\xa0\\\\xa0\\\\n\\\\xa0\\\\xa0\\\\n\\\\xa0\\\\xa0\\\\nISO 9001:2015\\\\n\\\\xa0\\\\nCERTIFIED\\\\xa0\\\\xa0\\\\n|\\\\xa0\\\\xa0\\\\nAA+\\\\n\\\\xa0\\\\nPACRA\\\\n\\\\xa0\\\\n\\\\xa0\\\\n'}]\"\n",
      "    },\n",
      "    \"premium_paid_amount\": {\n",
      "        \"Choice 1\": \"[{'from': 'afzal.qadir@adamjeeinsurance.com', 'to': ['mufzal.agha@adamjeeinsurance.com'], 'date': 'February 19, 2024, 6:33 AM', 'subject': 'ISSUE POLICY FOR EEI | M/S SIKA PAKISTAN (PVT.) LTD.', 'body': 'Dear Agha,\\\\n\\\\xa0\\\\nPlease issue policy for EEI as per payment instrument attached.\\\\n\\\\xa0\\\\n\\\\xa0 Afzal Qadir\\\\nTeam Member,\\\\nMiscellaneous Underwriting\\\\nP\\\\xa0\\\\n:\\\\n\\\\xa0\\\\xa0+92 21 32412623\\\\xa0\\\\n\\\\xa0Ext \\\\n1370 , \\\\nM\\\\xa0\\\\n: +92\",\n",
      "        \"Choice 2\": \"Underwriting\\\\nP\\\\xa0\\\\n:\\\\n\\\\xa0\\\\xa0+92 21 32412623\\\\xa0\\\\n\\\\xa0Ext \\\\n1370 , \\\\nM\\\\xa0\\\\n: +92 3350203993\\\\xa0\\\\xa0\\\\nE\\\\xa0\\\\n:\\\\xa0\\\\nafzal.qadir\\\\n@adamjeeinsurance.com\\\\nAdamjee Insurance Company Limited\\\\nAdamjee House Division, 5th Floor, \\\\nAdamjee House, I.I.Chundrigar Road, Karachi,\\\\n\\\\xa0\\\\xa0\\\\xa0\\\\xa0\\\\xa0\\\\xa0\\\\xa0\\\\xa0\\\\xa0\\\\xa0\\\\xa0\\\\xa0\\\\xa0\\\\xa0\\\\xa0\\\\xa0\\\\xa0\\\\xa0\\\\xa0\\\\xa0\\\\xa0\\\\xa0 Pakistan.\\\\xa0\\\\xa0\\\\xa0\\\\xa0 \\\\n\\\\xa0\\\\xa0\\\\xa0\\\\xa0\\\\xa0\\\\n\\\\xa0\\\\xa0\\\\xa0\\\\xa0\\\\xa0\\\\xa0\\\\n\\\\xa0\\\\xa0\\\\xa0\\\\xa0\\\\xa0\\\\n\\\\xa0\\\\xa0\\\\n\\\\xa0\\\\xa0\\\\nISO\",\n",
      "        \"Choice 3\": \"\\\\n\\\\xa0\\\\xa0\\\\xa0\\\\xa0\\\\xa0\\\\n\\\\xa0\\\\xa0\\\\xa0\\\\xa0\\\\xa0\\\\xa0\\\\n\\\\xa0\\\\xa0\\\\xa0\\\\xa0\\\\xa0\\\\n\\\\xa0\\\\xa0\\\\n\\\\xa0\\\\xa0\\\\nISO 9001:2015\\\\n\\\\xa0\\\\nCERTIFIED\\\\xa0\\\\xa0\\\\n|\\\\xa0\\\\xa0\\\\nAA+\\\\n\\\\xa0\\\\nPACRA\\\\n\\\\xa0\\\\n\\\\xa0\\\\n'}]\"\n",
      "    },\n",
      "    \"claim_intimation_amount\": {\n",
      "        \"Choice 1\": \"[{'from': 'afzal.qadir@adamjeeinsurance.com', 'to': ['mufzal.agha@adamjeeinsurance.com'], 'date': 'February 19, 2024, 6:33 AM', 'subject': 'ISSUE POLICY FOR EEI | M/S SIKA PAKISTAN (PVT.) LTD.', 'body': 'Dear Agha,\\\\n\\\\xa0\\\\nPlease issue policy for EEI as per payment instrument attached.\\\\n\\\\xa0\\\\n\\\\xa0 Afzal Qadir\\\\nTeam Member,\\\\nMiscellaneous Underwriting\\\\nP\\\\xa0\\\\n:\\\\n\\\\xa0\\\\xa0+92 21 32412623\\\\xa0\\\\n\\\\xa0Ext \\\\n1370 , \\\\nM\\\\xa0\\\\n: +92\",\n",
      "        \"Choice 2\": \"Underwriting\\\\nP\\\\xa0\\\\n:\\\\n\\\\xa0\\\\xa0+92 21 32412623\\\\xa0\\\\n\\\\xa0Ext \\\\n1370 , \\\\nM\\\\xa0\\\\n: +92 3350203993\\\\xa0\\\\xa0\\\\nE\\\\xa0\\\\n:\\\\xa0\\\\nafzal.qadir\\\\n@adamjeeinsurance.com\\\\nAdamjee Insurance Company Limited\\\\nAdamjee House Division, 5th Floor, \\\\nAdamjee House, I.I.Chundrigar Road, Karachi,\\\\n\\\\xa0\\\\xa0\\\\xa0\\\\xa0\\\\xa0\\\\xa0\\\\xa0\\\\xa0\\\\xa0\\\\xa0\\\\xa0\\\\xa0\\\\xa0\\\\xa0\\\\xa0\\\\xa0\\\\xa0\\\\xa0\\\\xa0\\\\xa0\\\\xa0\\\\xa0 Pakistan.\\\\xa0\\\\xa0\\\\xa0\\\\xa0 \\\\n\\\\xa0\\\\xa0\\\\xa0\\\\xa0\\\\xa0\\\\n\\\\xa0\\\\xa0\\\\xa0\\\\xa0\\\\xa0\\\\xa0\\\\n\\\\xa0\\\\xa0\\\\xa0\\\\xa0\\\\xa0\\\\n\\\\xa0\\\\xa0\\\\n\\\\xa0\\\\xa0\\\\nISO\",\n",
      "        \"Choice 3\": \"\\\\n\\\\xa0\\\\xa0\\\\xa0\\\\xa0\\\\xa0\\\\n\\\\xa0\\\\xa0\\\\xa0\\\\xa0\\\\xa0\\\\xa0\\\\n\\\\xa0\\\\xa0\\\\xa0\\\\xa0\\\\xa0\\\\n\\\\xa0\\\\xa0\\\\n\\\\xa0\\\\xa0\\\\nISO 9001:2015\\\\n\\\\xa0\\\\nCERTIFIED\\\\xa0\\\\xa0\\\\n|\\\\xa0\\\\xa0\\\\nAA+\\\\n\\\\xa0\\\\nPACRA\\\\n\\\\xa0\\\\n\\\\xa0\\\\n'}]\"\n",
      "    },\n",
      "    \"claim_paid_amount\": {\n",
      "        \"Choice 1\": \"[{'from': 'afzal.qadir@adamjeeinsurance.com', 'to': ['mufzal.agha@adamjeeinsurance.com'], 'date': 'February 19, 2024, 6:33 AM', 'subject': 'ISSUE POLICY FOR EEI | M/S SIKA PAKISTAN (PVT.) LTD.', 'body': 'Dear Agha,\\\\n\\\\xa0\\\\nPlease issue policy for EEI as per payment instrument attached.\\\\n\\\\xa0\\\\n\\\\xa0 Afzal Qadir\\\\nTeam Member,\\\\nMiscellaneous Underwriting\\\\nP\\\\xa0\\\\n:\\\\n\\\\xa0\\\\xa0+92 21 32412623\\\\xa0\\\\n\\\\xa0Ext \\\\n1370 , \\\\nM\\\\xa0\\\\n: +92\",\n",
      "        \"Choice 2\": \"Underwriting\\\\nP\\\\xa0\\\\n:\\\\n\\\\xa0\\\\xa0+92 21 32412623\\\\xa0\\\\n\\\\xa0Ext \\\\n1370 , \\\\nM\\\\xa0\\\\n: +92 3350203993\\\\xa0\\\\xa0\\\\nE\\\\xa0\\\\n:\\\\xa0\\\\nafzal.qadir\\\\n@adamjeeinsurance.com\\\\nAdamjee Insurance Company Limited\\\\nAdamjee House Division, 5th Floor, \\\\nAdamjee House, I.I.Chundrigar Road, Karachi,\\\\n\\\\xa0\\\\xa0\\\\xa0\\\\xa0\\\\xa0\\\\xa0\\\\xa0\\\\xa0\\\\xa0\\\\xa0\\\\xa0\\\\xa0\\\\xa0\\\\xa0\\\\xa0\\\\xa0\\\\xa0\\\\xa0\\\\xa0\\\\xa0\\\\xa0\\\\xa0 Pakistan.\\\\xa0\\\\xa0\\\\xa0\\\\xa0 \\\\n\\\\xa0\\\\xa0\\\\xa0\\\\xa0\\\\xa0\\\\n\\\\xa0\\\\xa0\\\\xa0\\\\xa0\\\\xa0\\\\xa0\\\\n\\\\xa0\\\\xa0\\\\xa0\\\\xa0\\\\xa0\\\\n\\\\xa0\\\\xa0\\\\n\\\\xa0\\\\xa0\\\\nISO\",\n",
      "        \"Choice 3\": \"\\\\n\\\\xa0\\\\xa0\\\\xa0\\\\xa0\\\\xa0\\\\n\\\\xa0\\\\xa0\\\\xa0\\\\xa0\\\\xa0\\\\xa0\\\\n\\\\xa0\\\\xa0\\\\xa0\\\\xa0\\\\xa0\\\\n\\\\xa0\\\\xa0\\\\n\\\\xa0\\\\xa0\\\\nISO 9001:2015\\\\n\\\\xa0\\\\nCERTIFIED\\\\xa0\\\\xa0\\\\n|\\\\xa0\\\\xa0\\\\nAA+\\\\n\\\\xa0\\\\nPACRA\\\\n\\\\xa0\\\\n\\\\xa0\\\\n'}]\"\n",
      "    },\n",
      "    \"premium_paid_date\": {\n",
      "        \"Choice 1\": \"[{'from': 'afzal.qadir@adamjeeinsurance.com', 'to': ['mufzal.agha@adamjeeinsurance.com'], 'date': 'February 19, 2024, 6:33 AM', 'subject': 'ISSUE POLICY FOR EEI | M/S SIKA PAKISTAN (PVT.) LTD.', 'body': 'Dear Agha,\\\\n\\\\xa0\\\\nPlease issue policy for EEI as per payment instrument attached.\\\\n\\\\xa0\\\\n\\\\xa0 Afzal Qadir\\\\nTeam Member,\\\\nMiscellaneous Underwriting\\\\nP\\\\xa0\\\\n:\\\\n\\\\xa0\\\\xa0+92 21 32412623\\\\xa0\\\\n\\\\xa0Ext \\\\n1370 , \\\\nM\\\\xa0\\\\n: +92\",\n",
      "        \"Choice 2\": \"Underwriting\\\\nP\\\\xa0\\\\n:\\\\n\\\\xa0\\\\xa0+92 21 32412623\\\\xa0\\\\n\\\\xa0Ext \\\\n1370 , \\\\nM\\\\xa0\\\\n: +92 3350203993\\\\xa0\\\\xa0\\\\nE\\\\xa0\\\\n:\\\\xa0\\\\nafzal.qadir\\\\n@adamjeeinsurance.com\\\\nAdamjee Insurance Company Limited\\\\nAdamjee House Division, 5th Floor, \\\\nAdamjee House, I.I.Chundrigar Road, Karachi,\\\\n\\\\xa0\\\\xa0\\\\xa0\\\\xa0\\\\xa0\\\\xa0\\\\xa0\\\\xa0\\\\xa0\\\\xa0\\\\xa0\\\\xa0\\\\xa0\\\\xa0\\\\xa0\\\\xa0\\\\xa0\\\\xa0\\\\xa0\\\\xa0\\\\xa0\\\\xa0 Pakistan.\\\\xa0\\\\xa0\\\\xa0\\\\xa0 \\\\n\\\\xa0\\\\xa0\\\\xa0\\\\xa0\\\\xa0\\\\n\\\\xa0\\\\xa0\\\\xa0\\\\xa0\\\\xa0\\\\xa0\\\\n\\\\xa0\\\\xa0\\\\xa0\\\\xa0\\\\xa0\\\\n\\\\xa0\\\\xa0\\\\n\\\\xa0\\\\xa0\\\\nISO\",\n",
      "        \"Choice 3\": \"\\\\n\\\\xa0\\\\xa0\\\\xa0\\\\xa0\\\\xa0\\\\n\\\\xa0\\\\xa0\\\\xa0\\\\xa0\\\\xa0\\\\xa0\\\\n\\\\xa0\\\\xa0\\\\xa0\\\\xa0\\\\xa0\\\\n\\\\xa0\\\\xa0\\\\n\\\\xa0\\\\xa0\\\\nISO 9001:2015\\\\n\\\\xa0\\\\nCERTIFIED\\\\xa0\\\\xa0\\\\n|\\\\xa0\\\\xa0\\\\nAA+\\\\n\\\\xa0\\\\nPACRA\\\\n\\\\xa0\\\\n\\\\xa0\\\\n'}]\"\n",
      "    },\n",
      "    \"claim_intimation_date\": {\n",
      "        \"Choice 1\": \"[{'from': 'afzal.qadir@adamjeeinsurance.com', 'to': ['mufzal.agha@adamjeeinsurance.com'], 'date': 'February 19, 2024, 6:33 AM', 'subject': 'ISSUE POLICY FOR EEI | M/S SIKA PAKISTAN (PVT.) LTD.', 'body': 'Dear Agha,\\\\n\\\\xa0\\\\nPlease issue policy for EEI as per payment instrument attached.\\\\n\\\\xa0\\\\n\\\\xa0 Afzal Qadir\\\\nTeam Member,\\\\nMiscellaneous Underwriting\\\\nP\\\\xa0\\\\n:\\\\n\\\\xa0\\\\xa0+92 21 32412623\\\\xa0\\\\n\\\\xa0Ext \\\\n1370 , \\\\nM\\\\xa0\\\\n: +92\",\n",
      "        \"Choice 2\": \"Underwriting\\\\nP\\\\xa0\\\\n:\\\\n\\\\xa0\\\\xa0+92 21 32412623\\\\xa0\\\\n\\\\xa0Ext \\\\n1370 , \\\\nM\\\\xa0\\\\n: +92 3350203993\\\\xa0\\\\xa0\\\\nE\\\\xa0\\\\n:\\\\xa0\\\\nafzal.qadir\\\\n@adamjeeinsurance.com\\\\nAdamjee Insurance Company Limited\\\\nAdamjee House Division, 5th Floor, \\\\nAdamjee House, I.I.Chundrigar Road, Karachi,\\\\n\\\\xa0\\\\xa0\\\\xa0\\\\xa0\\\\xa0\\\\xa0\\\\xa0\\\\xa0\\\\xa0\\\\xa0\\\\xa0\\\\xa0\\\\xa0\\\\xa0\\\\xa0\\\\xa0\\\\xa0\\\\xa0\\\\xa0\\\\xa0\\\\xa0\\\\xa0 Pakistan.\\\\xa0\\\\xa0\\\\xa0\\\\xa0 \\\\n\\\\xa0\\\\xa0\\\\xa0\\\\xa0\\\\xa0\\\\n\\\\xa0\\\\xa0\\\\xa0\\\\xa0\\\\xa0\\\\xa0\\\\n\\\\xa0\\\\xa0\\\\xa0\\\\xa0\\\\xa0\\\\n\\\\xa0\\\\xa0\\\\n\\\\xa0\\\\xa0\\\\nISO\",\n",
      "        \"Choice 3\": \"\\\\n\\\\xa0\\\\xa0\\\\xa0\\\\xa0\\\\xa0\\\\n\\\\xa0\\\\xa0\\\\xa0\\\\xa0\\\\xa0\\\\xa0\\\\n\\\\xa0\\\\xa0\\\\xa0\\\\xa0\\\\xa0\\\\n\\\\xa0\\\\xa0\\\\n\\\\xa0\\\\xa0\\\\nISO 9001:2015\\\\n\\\\xa0\\\\nCERTIFIED\\\\xa0\\\\xa0\\\\n|\\\\xa0\\\\xa0\\\\nAA+\\\\n\\\\xa0\\\\nPACRA\\\\n\\\\xa0\\\\n\\\\xa0\\\\n'}]\"\n",
      "    },\n",
      "    \"claim_paid_date\": {\n",
      "        \"Choice 1\": \"[{'from': 'afzal.qadir@adamjeeinsurance.com', 'to': ['mufzal.agha@adamjeeinsurance.com'], 'date': 'February 19, 2024, 6:33 AM', 'subject': 'ISSUE POLICY FOR EEI | M/S SIKA PAKISTAN (PVT.) LTD.', 'body': 'Dear Agha,\\\\n\\\\xa0\\\\nPlease issue policy for EEI as per payment instrument attached.\\\\n\\\\xa0\\\\n\\\\xa0 Afzal Qadir\\\\nTeam Member,\\\\nMiscellaneous Underwriting\\\\nP\\\\xa0\\\\n:\\\\n\\\\xa0\\\\xa0+92 21 32412623\\\\xa0\\\\n\\\\xa0Ext \\\\n1370 , \\\\nM\\\\xa0\\\\n: +92\",\n",
      "        \"Choice 2\": \"Underwriting\\\\nP\\\\xa0\\\\n:\\\\n\\\\xa0\\\\xa0+92 21 32412623\\\\xa0\\\\n\\\\xa0Ext \\\\n1370 , \\\\nM\\\\xa0\\\\n: +92 3350203993\\\\xa0\\\\xa0\\\\nE\\\\xa0\\\\n:\\\\xa0\\\\nafzal.qadir\\\\n@adamjeeinsurance.com\\\\nAdamjee Insurance Company Limited\\\\nAdamjee House Division, 5th Floor, \\\\nAdamjee House, I.I.Chundrigar Road, Karachi,\\\\n\\\\xa0\\\\xa0\\\\xa0\\\\xa0\\\\xa0\\\\xa0\\\\xa0\\\\xa0\\\\xa0\\\\xa0\\\\xa0\\\\xa0\\\\xa0\\\\xa0\\\\xa0\\\\xa0\\\\xa0\\\\xa0\\\\xa0\\\\xa0\\\\xa0\\\\xa0 Pakistan.\\\\xa0\\\\xa0\\\\xa0\\\\xa0 \\\\n\\\\xa0\\\\xa0\\\\xa0\\\\xa0\\\\xa0\\\\n\\\\xa0\\\\xa0\\\\xa0\\\\xa0\\\\xa0\\\\xa0\\\\n\\\\xa0\\\\xa0\\\\xa0\\\\xa0\\\\xa0\\\\n\\\\xa0\\\\xa0\\\\n\\\\xa0\\\\xa0\\\\nISO\",\n",
      "        \"Choice 3\": \"\\\\n\\\\xa0\\\\xa0\\\\xa0\\\\xa0\\\\xa0\\\\n\\\\xa0\\\\xa0\\\\xa0\\\\xa0\\\\xa0\\\\xa0\\\\n\\\\xa0\\\\xa0\\\\xa0\\\\xa0\\\\xa0\\\\n\\\\xa0\\\\xa0\\\\n\\\\xa0\\\\xa0\\\\nISO 9001:2015\\\\n\\\\xa0\\\\nCERTIFIED\\\\xa0\\\\xa0\\\\n|\\\\xa0\\\\xa0\\\\nAA+\\\\n\\\\xa0\\\\nPACRA\\\\n\\\\xa0\\\\n\\\\xa0\\\\n'}]\"\n",
      "    }\n",
      "}\n",
      "Number of tokens: 1110\n"
     ]
    },
    {
     "name": "stderr",
     "output_type": "stream",
     "text": [
      "/Users/mirbilal/Desktop/minsir/minsirenv/lib/python3.12/site-packages/langchain_core/_api/deprecation.py:139: LangChainDeprecationWarning: The class `ChatOpenAI` was deprecated in LangChain 0.0.10 and will be removed in 0.3.0. An updated version of the class exists in the langchain-openai package and should be used instead. To use it run `pip install -U langchain-openai` and import as `from langchain_openai import ChatOpenAI`.\n",
      "  warn_deprecated(\n",
      "/Users/mirbilal/Desktop/minsir/minsirenv/lib/python3.12/site-packages/langchain_core/_api/deprecation.py:139: LangChainDeprecationWarning: The method `BaseChatModel.__call__` was deprecated in langchain-core 0.1.7 and will be removed in 0.3.0. Use invoke instead.\n",
      "  warn_deprecated(\n",
      "huggingface/tokenizers: The current process just got forked, after parallelism has already been used. Disabling parallelism to avoid deadlocks...\n",
      "To disable this warning, you can either:\n",
      "\t- Avoid using `tokenizers` before the fork if possible\n",
      "\t- Explicitly set the environment variable TOKENIZERS_PARALLELISM=(true | false)\n"
     ]
    },
    {
     "name": "stdout",
     "output_type": "stream",
     "text": [
      "policy_issued\n",
      "policy_issued\n",
      "-----\n",
      "net_premium 404 Not Found\n",
      "policy_issued\n",
      "-----\n",
      "issue_date =2024-02-19\n",
      "policy_issued\n",
      "-----\n",
      "policy_number =404 Not Found\n",
      "policy_issued\n",
      "-----\n",
      "customer_name =afzal Qadir\n",
      "policy_issued\n",
      "-----\n",
      "risk_type =Electronic Equipment Insurance\n",
      "policy_issued\n",
      "-----\n",
      "sum_insured 404 Not Found\n",
      "policy_issued\n",
      "-----\n",
      "\n",
      "------------------------------------\n",
      "\n"
     ]
    }
   ],
   "source": [
    "for a_convo_str, a_convo_data in convo_reader.conversations.items():\n",
    "    if 'ISSUE POLICY FOR EEI | M/S SIKA PAKISTAN ' in a_convo_str:\n",
    "        (full_convo, attachments) = a_convo_data.get_full_convo()\n",
    "        attachments: list[EmailAttachment] = attachments\n",
    "        insLLM = InsuranceERPLLM()\n",
    "        # insLLM.store_documents_in_vector_store(attachments)\n",
    "        # insLLM.search_documents_vector_store()\n",
    "        # insLLM.query_from_final_results(insLLM.document_query_results)\n",
    "        insLLM.store_convo_in_vector_store(f\"{full_convo}\")\n",
    "        insLLM.search_convo_vector_store()\n",
    "        insLLM.query_from_final_results(insLLM.convo_query_results)\n",
    "        # for attchmnt in attachments:\n",
    "        #     print(attchmnt)\n",
    "        # for a_msg in full_convo:\n",
    "        #     print(json.dumps(a_msg, indent=4))\n",
    "        print(\"\")\n",
    "        print(\"------------------------------------\")\n",
    "        print(\"\")\n",
    "        break\n"
   ]
  },
  {
   "cell_type": "code",
   "execution_count": 4,
   "metadata": {},
   "outputs": [
    {
     "name": "stdout",
     "output_type": "stream",
     "text": [
      "/Users/mirbilal/Desktop/minsir/media/email_attachments/ADAMJEE_INSURANCE_PAYMENT_SWIFT_16.02.2024-2_ZrruCMA.pdf\n",
      "/Users/mirbilal/Desktop/minsir/media/email_attachments/PL-0123-202504-E12-000001_-_LAPTOPS_5PTg6tE.pdf\n",
      "{\n",
      "    \"from\": \"afzal.qadir@adamjeeinsurance.com\",\n",
      "    \"to\": [\n",
      "        \"mufzal.agha@adamjeeinsurance.com\"\n",
      "    ],\n",
      "    \"date\": \"February 19, 2024, 6:33 AM\",\n",
      "    \"subject\": \"ISSUE POLICY FOR EEI | M/S SIKA PAKISTAN (PVT.) LTD.\",\n",
      "    \"body\": \"Dear Agha,\\n\\u00a0\\nPlease issue policy for EEI as per payment instrument attached.\\n\\u00a0\\n\\u00a0 Afzal Qadir\\nTeam Member,\\nMiscellaneous Underwriting\\nP\\u00a0\\n:\\n\\u00a0\\u00a0+92 21 32412623\\u00a0\\n\\u00a0Ext \\n1370 , \\nM\\u00a0\\n: +92 3350203993\\u00a0\\u00a0\\nE\\u00a0\\n:\\u00a0\\nafzal.qadir\\n@adamjeeinsurance.com\\nAdamjee Insurance Company Limited\\nAdamjee House Division, 5th Floor, \\nAdamjee House, I.I.Chundrigar Road, Karachi,\\n\\u00a0\\u00a0\\u00a0\\u00a0\\u00a0\\u00a0\\u00a0\\u00a0\\u00a0\\u00a0\\u00a0\\u00a0\\u00a0\\u00a0\\u00a0\\u00a0\\u00a0\\u00a0\\u00a0\\u00a0\\u00a0\\u00a0 Pakistan.\\u00a0\\u00a0\\u00a0\\u00a0 \\n\\u00a0\\u00a0\\u00a0\\u00a0\\u00a0\\n\\u00a0\\u00a0\\u00a0\\u00a0\\u00a0\\u00a0\\n\\u00a0\\u00a0\\u00a0\\u00a0\\u00a0\\n\\u00a0\\u00a0\\n\\u00a0\\u00a0\\nISO 9001:2015\\n\\u00a0\\nCERTIFIED\\u00a0\\u00a0\\n|\\u00a0\\u00a0\\nAA+\\n\\u00a0\\nPACRA\\n\\u00a0\\n\\u00a0\\n\"\n",
      "}\n",
      "\n",
      "------------------------------------\n",
      "\n"
     ]
    }
   ],
   "source": [
    "for a_convo_str, a_convo_data in convo_reader.conversations.items():\n",
    "    if 'ISSUE POLICY FOR EEI | M/S SIKA PAKISTAN ' in a_convo_str:\n",
    "        (full_convo, attachments) = a_convo_data.get_full_convo()\n",
    "        attachments: list[EmailAttachment] = attachments\n",
    "        # insLLM = InsuranceERPLLM()\n",
    "        # insLLM.store_documents_in_vector_store(attachments)\n",
    "        # insLLM.search_documents_vector_store()\n",
    "        # insLLM.query_from_final_results(insLLM.document_query_results)\n",
    "        for attchmnt in attachments:\n",
    "            print(attchmnt)\n",
    "        for a_msg in full_convo:\n",
    "            print(json.dumps(a_msg, indent=4))\n",
    "        print(\"\")\n",
    "        print(\"------------------------------------\")\n",
    "        print(\"\")\n",
    "        break"
   ]
  },
  {
   "cell_type": "code",
   "execution_count": null,
   "metadata": {},
   "outputs": [],
   "source": [
    "insLLM = InsuranceERPLLM()\n",
    "insLLM.store_convo_in_vector_store(f\"{dummy_convo}\")\n",
    "insLLM.search_convo_vector_store()\n",
    "insLLM.query_from_final_results(insLLM.convo_query_results)"
   ]
  }
 ],
 "metadata": {
  "kernelspec": {
   "display_name": "minsirenv",
   "language": "python",
   "name": "python3"
  },
  "language_info": {
   "codemirror_mode": {
    "name": "ipython",
    "version": 3
   },
   "file_extension": ".py",
   "mimetype": "text/x-python",
   "name": "python",
   "nbconvert_exporter": "python",
   "pygments_lexer": "ipython3",
   "version": "3.12.4"
  },
  "orig_nbformat": 4
 },
 "nbformat": 4,
 "nbformat_minor": 2
}
