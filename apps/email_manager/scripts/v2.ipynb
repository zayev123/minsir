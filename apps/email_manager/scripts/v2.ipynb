{
 "cells": [
  {
   "cell_type": "code",
   "execution_count": 1,
   "metadata": {},
   "outputs": [
    {
     "name": "stderr",
     "output_type": "stream",
     "text": [
      "/Users/mirbilal/Desktop/minsir/minsirenv/lib/python3.12/site-packages/threadpoolctl.py:1214: RuntimeWarning: \n",
      "Found Intel OpenMP ('libiomp') and LLVM OpenMP ('libomp') loaded at\n",
      "the same time. Both libraries are known to be incompatible and this\n",
      "can cause random crashes or deadlocks on Linux when loaded in the\n",
      "same Python program.\n",
      "Using threadpoolctl may cause crashes or deadlocks. For more\n",
      "information and possible workarounds, please see\n",
      "    https://github.com/joblib/threadpoolctl/blob/master/multiple_openmp.md\n",
      "\n",
      "  warnings.warn(msg, RuntimeWarning)\n"
     ]
    }
   ],
   "source": [
    "import sys\n",
    "import django\n",
    "import os\n",
    "file_dir = \"/Users/mirbilal/Desktop/minsir/\"\n",
    "if file_dir not in sys.path:\n",
    "    sys.path.insert(0, file_dir)\n",
    "\n",
    "os.environ[\"DJANGO_SETTINGS_MODULE\"] = \"minsirx.settings\"\n",
    "os.environ[\"DJANGO_ALLOW_ASYNC_UNSAFE\"] = \"true\" \n",
    "os.environ[\"OPENAI_API_KEY\"] = \"sk-proj-FZ2v2sIScsxguqHnuT4VT3BlbkFJEgAuDrqMx91v7PG2fhDu\"\n",
    "django.setup()\n",
    "from apps.email_manager.service_layer.email_linker import ConversationReader\n",
    "import json\n",
    "from datetime import datetime\n",
    "from apps.email_manager.service_layer.insurance_erp_llm import InsuranceERPLLM\n",
    "from apps.email_manager.models.email import EmailAttachment\n",
    "\n"
   ]
  },
  {
   "cell_type": "code",
   "execution_count": 2,
   "metadata": {},
   "outputs": [
    {
     "name": "stderr",
     "output_type": "stream",
     "text": [
      "/Users/mirbilal/Desktop/minsir/minsirenv/lib/python3.12/site-packages/django/db/models/fields/__init__.py:1659: RuntimeWarning: DateTimeField EmailData.date received a naive datetime (2024-03-11 00:00:00) while time zone support is active.\n",
      "  warnings.warn(\n",
      "/Users/mirbilal/Desktop/minsir/minsirenv/lib/python3.12/site-packages/django/db/models/fields/__init__.py:1659: RuntimeWarning: DateTimeField EmailData.date received a naive datetime (2024-03-12 00:00:00) while time zone support is active.\n",
      "  warnings.warn(\n"
     ]
    }
   ],
   "source": [
    "convo_reader = ConversationReader(\n",
    "    start_date=datetime(year=2024, month=3, day=11),\n",
    "    end_date=datetime(year=2024, month=3, day=12),\n",
    ")\n",
    "convo_reader.extract_conversation()\n"
   ]
  },
  {
   "cell_type": "code",
   "execution_count": 3,
   "metadata": {},
   "outputs": [
    {
     "name": "stderr",
     "output_type": "stream",
     "text": [
      "/Users/mirbilal/Desktop/minsir/minsirenv/lib/python3.12/site-packages/huggingface_hub/file_download.py:1132: FutureWarning: `resume_download` is deprecated and will be removed in version 1.0.0. Downloads always resume when possible. If you want to force a new download, use `force_download=True`.\n",
      "  warnings.warn(\n",
      "/Users/mirbilal/Desktop/minsir/minsirenv/lib/python3.12/site-packages/langchain_core/_api/deprecation.py:139: LangChainDeprecationWarning: The class `ChatOpenAI` was deprecated in LangChain 0.0.10 and will be removed in 0.3.0. An updated version of the class exists in the langchain-openai package and should be used instead. To use it run `pip install -U langchain-openai` and import as `from langchain_openai import ChatOpenAI`.\n",
      "  warn_deprecated(\n",
      "/Users/mirbilal/Desktop/minsir/minsirenv/lib/python3.12/site-packages/langchain_core/_api/deprecation.py:139: LangChainDeprecationWarning: The method `BaseChatModel.__call__` was deprecated in langchain-core 0.1.7 and will be removed in 0.3.0. Use invoke instead.\n",
      "  warn_deprecated(\n",
      "huggingface/tokenizers: The current process just got forked, after parallelism has already been used. Disabling parallelism to avoid deadlocks...\n",
      "To disable this warning, you can either:\n",
      "\t- Avoid using `tokenizers` before the fork if possible\n",
      "\t- Explicitly set the environment variable TOKENIZERS_PARALLELISM=(true | false)\n"
     ]
    },
    {
     "name": "stdout",
     "output_type": "stream",
     "text": [
      "------------------------------------\n",
      "list index out of range\n",
      "\n",
      "------------------------------------\n",
      "\n"
     ]
    },
    {
     "name": "stderr",
     "output_type": "stream",
     "text": [
      "/Users/mirbilal/Desktop/minsir/minsirenv/lib/python3.12/site-packages/huggingface_hub/file_download.py:1132: FutureWarning: `resume_download` is deprecated and will be removed in version 1.0.0. Downloads always resume when possible. If you want to force a new download, use `force_download=True`.\n",
      "  warnings.warn(\n"
     ]
    },
    {
     "name": "stdout",
     "output_type": "stream",
     "text": [
      "------------------------------------\n",
      "/Users/mirbilal/Desktop/minsir/media/email_attachments/MEPL_CLAIM_DOC_OF_VEHICLE_REG_BTU-987._xlrBINv.pdf\n",
      "/Users/mirbilal/Desktop/minsir/media/email_attachments/CLAIM_FORM_SATISFACTION_NOTE_urIygGa.pdf\n",
      "/Users/mirbilal/Desktop/minsir/media/email_attachments/INS_PLR_G_WMWtxlQ.pdf\n",
      "\n",
      "------------------------------------\n",
      "\n"
     ]
    },
    {
     "name": "stderr",
     "output_type": "stream",
     "text": [
      "/Users/mirbilal/Desktop/minsir/minsirenv/lib/python3.12/site-packages/huggingface_hub/file_download.py:1132: FutureWarning: `resume_download` is deprecated and will be removed in version 1.0.0. Downloads always resume when possible. If you want to force a new download, use `force_download=True`.\n",
      "  warnings.warn(\n"
     ]
    },
    {
     "name": "stdout",
     "output_type": "stream",
     "text": [
      "------------------------------------\n",
      "/Users/mirbilal/Desktop/minsir/media/email_attachments/rwservlet1_M6IfgWj.pdf\n",
      "\n",
      "------------------------------------\n",
      "\n"
     ]
    },
    {
     "name": "stderr",
     "output_type": "stream",
     "text": [
      "/Users/mirbilal/Desktop/minsir/minsirenv/lib/python3.12/site-packages/huggingface_hub/file_download.py:1132: FutureWarning: `resume_download` is deprecated and will be removed in version 1.0.0. Downloads always resume when possible. If you want to force a new download, use `force_download=True`.\n",
      "  warnings.warn(\n"
     ]
    },
    {
     "name": "stdout",
     "output_type": "stream",
     "text": [
      "------------------------------------\n",
      "list index out of range\n",
      "\n",
      "------------------------------------\n",
      "\n"
     ]
    },
    {
     "name": "stderr",
     "output_type": "stream",
     "text": [
      "/Users/mirbilal/Desktop/minsir/minsirenv/lib/python3.12/site-packages/huggingface_hub/file_download.py:1132: FutureWarning: `resume_download` is deprecated and will be removed in version 1.0.0. Downloads always resume when possible. If you want to force a new download, use `force_download=True`.\n",
      "  warnings.warn(\n"
     ]
    },
    {
     "name": "stdout",
     "output_type": "stream",
     "text": [
      "------------------------------------\n",
      "/Users/mirbilal/Desktop/minsir/media/email_attachments/PL-0423-202504-V01-000319_Hiq23WB.pdf\n",
      "/Users/mirbilal/Desktop/minsir/media/email_attachments/PL-0423-202504-V01-000329_x9UeuHg.pdf\n",
      "/Users/mirbilal/Desktop/minsir/media/email_attachments/PL-0423-202504-V01-000333_xhgMncc.pdf\n",
      "/Users/mirbilal/Desktop/minsir/media/email_attachments/PL-0423-202504-V01-000345_121_JPQws9y.pdf\n",
      "/Users/mirbilal/Desktop/minsir/media/email_attachments/PL-0423-202504-V01-000362_LBi7LBS.pdf\n",
      "/Users/mirbilal/Desktop/minsir/media/email_attachments/PL-0423-202504-V01-000366_zupVVg4.pdf\n",
      "/Users/mirbilal/Desktop/minsir/media/email_attachments/PL-0423-202504-V01-000380_2SgcAbC.pdf\n",
      "/Users/mirbilal/Desktop/minsir/media/email_attachments/PL-0423-202504-V01-000384_KgsDuGf.pdf\n",
      "/Users/mirbilal/Desktop/minsir/media/email_attachments/PL-0423-202504-V02-000318_E9s1JTw.pdf\n",
      "/Users/mirbilal/Desktop/minsir/media/email_attachments/PL-0423-202504-V03-000309_uTcdiAr.pdf\n",
      "/Users/mirbilal/Desktop/minsir/media/email_attachments/PL-0423-202504-V03-000358_d0Oznyp.pdf\n",
      "/Users/mirbilal/Desktop/minsir/media/email_attachments/PL-0523-202504-V01-000387_XZDwNFK.pdf\n",
      "\n",
      "------------------------------------\n",
      "\n"
     ]
    },
    {
     "name": "stderr",
     "output_type": "stream",
     "text": [
      "/Users/mirbilal/Desktop/minsir/minsirenv/lib/python3.12/site-packages/huggingface_hub/file_download.py:1132: FutureWarning: `resume_download` is deprecated and will be removed in version 1.0.0. Downloads always resume when possible. If you want to force a new download, use `force_download=True`.\n",
      "  warnings.warn(\n"
     ]
    },
    {
     "name": "stdout",
     "output_type": "stream",
     "text": [
      "------------------------------------\n",
      "/Users/mirbilal/Desktop/minsir/media/email_attachments/1935047_1058253690_38FmsOp.pdf\n",
      "/Users/mirbilal/Desktop/minsir/media/email_attachments/PL-0324-202504-M05-000214_ZIthmYS.pdf\n",
      "/Users/mirbilal/Desktop/minsir/media/email_attachments/PL-0324-202504-M05-000214-BILL_gbsCpcx.pdf\n",
      "\n",
      "------------------------------------\n",
      "\n"
     ]
    },
    {
     "name": "stderr",
     "output_type": "stream",
     "text": [
      "/Users/mirbilal/Desktop/minsir/minsirenv/lib/python3.12/site-packages/django/db/models/fields/__init__.py:1659: RuntimeWarning: DateTimeField Policy.issue_date received a naive datetime (2023-10-26 00:00:00) while time zone support is active.\n",
      "  warnings.warn(\n",
      "/Users/mirbilal/Desktop/minsir/minsirenv/lib/python3.12/site-packages/huggingface_hub/file_download.py:1132: FutureWarning: `resume_download` is deprecated and will be removed in version 1.0.0. Downloads always resume when possible. If you want to force a new download, use `force_download=True`.\n",
      "  warnings.warn(\n"
     ]
    },
    {
     "name": "stdout",
     "output_type": "stream",
     "text": [
      "------------------------------------\n",
      "/Users/mirbilal/Desktop/minsir/media/email_attachments/PL-0523-202504-F01-000023_GsKEq3B.pdf\n",
      "/Users/mirbilal/Desktop/minsir/media/email_attachments/PL-0523-202504-F01-000021_2bmgBVh.pdf\n",
      "/Users/mirbilal/Desktop/minsir/media/email_attachments/PL-0523-202504-F01-000022_pz7gzkC.pdf\n"
     ]
    },
    {
     "name": "stderr",
     "output_type": "stream",
     "text": [
      "/Users/mirbilal/Desktop/minsir/minsirenv/lib/python3.12/site-packages/django/db/models/fields/__init__.py:1659: RuntimeWarning: DateTimeField Policy.issue_date received a naive datetime (2025-04-23 00:00:00) while time zone support is active.\n",
      "  warnings.warn(\n"
     ]
    },
    {
     "name": "stdout",
     "output_type": "stream",
     "text": [
      "\n",
      "------------------------------------\n",
      "\n"
     ]
    },
    {
     "name": "stderr",
     "output_type": "stream",
     "text": [
      "/Users/mirbilal/Desktop/minsir/minsirenv/lib/python3.12/site-packages/huggingface_hub/file_download.py:1132: FutureWarning: `resume_download` is deprecated and will be removed in version 1.0.0. Downloads always resume when possible. If you want to force a new download, use `force_download=True`.\n",
      "  warnings.warn(\n"
     ]
    },
    {
     "name": "stdout",
     "output_type": "stream",
     "text": [
      "------------------------------------\n",
      "/Users/mirbilal/Desktop/minsir/media/email_attachments/SYED_MURTAZA_ABBAS_BOKHAREE_EJLGo3x.pdf\n",
      "\n",
      "------------------------------------\n",
      "\n"
     ]
    },
    {
     "name": "stderr",
     "output_type": "stream",
     "text": [
      "/Users/mirbilal/Desktop/minsir/minsirenv/lib/python3.12/site-packages/huggingface_hub/file_download.py:1132: FutureWarning: `resume_download` is deprecated and will be removed in version 1.0.0. Downloads always resume when possible. If you want to force a new download, use `force_download=True`.\n",
      "  warnings.warn(\n"
     ]
    },
    {
     "name": "stdout",
     "output_type": "stream",
     "text": [
      "------------------------------------\n",
      "list index out of range\n",
      "/Users/mirbilal/Desktop/minsir/media/email_attachments/RECIPT_2016001753_R.T_6Pr5Uzs.pdf\n",
      "\n",
      "------------------------------------\n",
      "\n"
     ]
    },
    {
     "name": "stderr",
     "output_type": "stream",
     "text": [
      "/Users/mirbilal/Desktop/minsir/minsirenv/lib/python3.12/site-packages/huggingface_hub/file_download.py:1132: FutureWarning: `resume_download` is deprecated and will be removed in version 1.0.0. Downloads always resume when possible. If you want to force a new download, use `force_download=True`.\n",
      "  warnings.warn(\n"
     ]
    },
    {
     "name": "stdout",
     "output_type": "stream",
     "text": [
      "------------------------------------\n",
      "list index out of range\n",
      "\n",
      "------------------------------------\n",
      "\n"
     ]
    },
    {
     "name": "stderr",
     "output_type": "stream",
     "text": [
      "/Users/mirbilal/Desktop/minsir/minsirenv/lib/python3.12/site-packages/huggingface_hub/file_download.py:1132: FutureWarning: `resume_download` is deprecated and will be removed in version 1.0.0. Downloads always resume when possible. If you want to force a new download, use `force_download=True`.\n",
      "  warnings.warn(\n"
     ]
    },
    {
     "name": "stdout",
     "output_type": "stream",
     "text": [
      "------------------------------------\n",
      "/Users/mirbilal/Desktop/minsir/media/email_attachments/PL-0523-202504-S07-000019_VDPy7q6.pdf\n",
      "/Users/mirbilal/Desktop/minsir/media/email_attachments/PL-0523-202504-S06-000018_m9YEgSZ.pdf\n",
      "\n",
      "------------------------------------\n",
      "\n"
     ]
    },
    {
     "name": "stderr",
     "output_type": "stream",
     "text": [
      "/Users/mirbilal/Desktop/minsir/minsirenv/lib/python3.12/site-packages/django/db/models/fields/__init__.py:1659: RuntimeWarning: DateTimeField Policy.issue_date received a naive datetime (2023-05-31 00:00:00) while time zone support is active.\n",
      "  warnings.warn(\n",
      "/Users/mirbilal/Desktop/minsir/minsirenv/lib/python3.12/site-packages/huggingface_hub/file_download.py:1132: FutureWarning: `resume_download` is deprecated and will be removed in version 1.0.0. Downloads always resume when possible. If you want to force a new download, use `force_download=True`.\n",
      "  warnings.warn(\n"
     ]
    },
    {
     "name": "stdout",
     "output_type": "stream",
     "text": [
      "------------------------------------\n",
      "list index out of range\n",
      "\n",
      "------------------------------------\n",
      "\n"
     ]
    },
    {
     "name": "stderr",
     "output_type": "stream",
     "text": [
      "/Users/mirbilal/Desktop/minsir/minsirenv/lib/python3.12/site-packages/huggingface_hub/file_download.py:1132: FutureWarning: `resume_download` is deprecated and will be removed in version 1.0.0. Downloads always resume when possible. If you want to force a new download, use `force_download=True`.\n",
      "  warnings.warn(\n"
     ]
    },
    {
     "name": "stdout",
     "output_type": "stream",
     "text": [
      "------------------------------------\n",
      "/Users/mirbilal/Desktop/minsir/media/email_attachments/PL-0324-205003-S44-001462__SYED_MURTAZA_ABBAS_BOKHAREE_NMtHF7g.pdf\n",
      "/Users/mirbilal/Desktop/minsir/media/email_attachments/11-03-2503000282_kHVssxc.pdf\n",
      "\n",
      "------------------------------------\n",
      "\n"
     ]
    },
    {
     "name": "stderr",
     "output_type": "stream",
     "text": [
      "/Users/mirbilal/Desktop/minsir/minsirenv/lib/python3.12/site-packages/huggingface_hub/file_download.py:1132: FutureWarning: `resume_download` is deprecated and will be removed in version 1.0.0. Downloads always resume when possible. If you want to force a new download, use `force_download=True`.\n",
      "  warnings.warn(\n"
     ]
    },
    {
     "name": "stdout",
     "output_type": "stream",
     "text": [
      "------------------------------------\n",
      "list index out of range\n",
      "\n",
      "------------------------------------\n",
      "\n"
     ]
    },
    {
     "name": "stderr",
     "output_type": "stream",
     "text": [
      "/Users/mirbilal/Desktop/minsir/minsirenv/lib/python3.12/site-packages/huggingface_hub/file_download.py:1132: FutureWarning: `resume_download` is deprecated and will be removed in version 1.0.0. Downloads always resume when possible. If you want to force a new download, use `force_download=True`.\n",
      "  warnings.warn(\n"
     ]
    },
    {
     "name": "stdout",
     "output_type": "stream",
     "text": [
      "------------------------------------\n",
      "list index out of range\n",
      "\n",
      "------------------------------------\n",
      "\n"
     ]
    },
    {
     "name": "stderr",
     "output_type": "stream",
     "text": [
      "/Users/mirbilal/Desktop/minsir/minsirenv/lib/python3.12/site-packages/huggingface_hub/file_download.py:1132: FutureWarning: `resume_download` is deprecated and will be removed in version 1.0.0. Downloads always resume when possible. If you want to force a new download, use `force_download=True`.\n",
      "  warnings.warn(\n"
     ]
    },
    {
     "name": "stdout",
     "output_type": "stream",
     "text": [
      "------------------------------------\n",
      "list index out of range\n",
      "\n",
      "------------------------------------\n",
      "\n"
     ]
    },
    {
     "name": "stderr",
     "output_type": "stream",
     "text": [
      "/Users/mirbilal/Desktop/minsir/minsirenv/lib/python3.12/site-packages/huggingface_hub/file_download.py:1132: FutureWarning: `resume_download` is deprecated and will be removed in version 1.0.0. Downloads always resume when possible. If you want to force a new download, use `force_download=True`.\n",
      "  warnings.warn(\n"
     ]
    },
    {
     "name": "stdout",
     "output_type": "stream",
     "text": [
      "------------------------------------\n",
      "/Users/mirbilal/Desktop/minsir/media/email_attachments/PK-5679_s1OtUWB.pdf\n",
      "/Users/mirbilal/Desktop/minsir/media/email_attachments/PR-0324-202504-M03-000218_64j09hz.pdf\n",
      "\n",
      "------------------------------------\n",
      "\n"
     ]
    },
    {
     "name": "stderr",
     "output_type": "stream",
     "text": [
      "/Users/mirbilal/Desktop/minsir/minsirenv/lib/python3.12/site-packages/huggingface_hub/file_download.py:1132: FutureWarning: `resume_download` is deprecated and will be removed in version 1.0.0. Downloads always resume when possible. If you want to force a new download, use `force_download=True`.\n",
      "  warnings.warn(\n"
     ]
    },
    {
     "name": "stdout",
     "output_type": "stream",
     "text": [
      "------------------------------------\n",
      "/Users/mirbilal/Desktop/minsir/media/email_attachments/Lolc_Microfinance_Bank_Limited_Pak_Oman_-_2024_uhBdwdD.pdf\n",
      "/Users/mirbilal/Desktop/minsir/media/email_attachments/101264_loss_ratio_ffGWnED.pdf\n",
      "/Users/mirbilal/Desktop/minsir/media/email_attachments/Lolc_Microfinance_Bank_Limited_Pak_Oman_-_2024_gVEbXpJ.pdf\n",
      "/Users/mirbilal/Desktop/minsir/media/email_attachments/101264_loss_ratio_gU2xXOM.pdf\n",
      "/Users/mirbilal/Desktop/minsir/media/email_attachments/Lolc_Microfinance_Bank_Limited_Pak_Oman_-_2024_S2pl438.pdf\n",
      "/Users/mirbilal/Desktop/minsir/media/email_attachments/101264_loss_ratio_5O0lCKr.pdf\n",
      "\n",
      "------------------------------------\n",
      "\n"
     ]
    },
    {
     "name": "stderr",
     "output_type": "stream",
     "text": [
      "/Users/mirbilal/Desktop/minsir/minsirenv/lib/python3.12/site-packages/huggingface_hub/file_download.py:1132: FutureWarning: `resume_download` is deprecated and will be removed in version 1.0.0. Downloads always resume when possible. If you want to force a new download, use `force_download=True`.\n",
      "  warnings.warn(\n"
     ]
    },
    {
     "name": "stdout",
     "output_type": "stream",
     "text": [
      "------------------------------------\n",
      "list index out of range\n",
      "\n",
      "------------------------------------\n",
      "\n"
     ]
    },
    {
     "name": "stderr",
     "output_type": "stream",
     "text": [
      "/Users/mirbilal/Desktop/minsir/minsirenv/lib/python3.12/site-packages/huggingface_hub/file_download.py:1132: FutureWarning: `resume_download` is deprecated and will be removed in version 1.0.0. Downloads always resume when possible. If you want to force a new download, use `force_download=True`.\n",
      "  warnings.warn(\n"
     ]
    },
    {
     "name": "stdout",
     "output_type": "stream",
     "text": [
      "------------------------------------\n",
      "/Users/mirbilal/Desktop/minsir/media/email_attachments/PLI-368_TLC_wx5L07W.pdf\n",
      "/Users/mirbilal/Desktop/minsir/media/email_attachments/PLI-368_TLC_g3qsFE2.pdf\n",
      "\n",
      "------------------------------------\n",
      "\n"
     ]
    },
    {
     "name": "stderr",
     "output_type": "stream",
     "text": [
      "/Users/mirbilal/Desktop/minsir/minsirenv/lib/python3.12/site-packages/django/db/models/fields/__init__.py:1659: RuntimeWarning: DateTimeField Policy.issue_date received a naive datetime (2024-03-11 00:00:00) while time zone support is active.\n",
      "  warnings.warn(\n",
      "/Users/mirbilal/Desktop/minsir/minsirenv/lib/python3.12/site-packages/huggingface_hub/file_download.py:1132: FutureWarning: `resume_download` is deprecated and will be removed in version 1.0.0. Downloads always resume when possible. If you want to force a new download, use `force_download=True`.\n",
      "  warnings.warn(\n"
     ]
    },
    {
     "name": "stdout",
     "output_type": "stream",
     "text": [
      "------------------------------------\n",
      "list index out of range\n",
      "\n",
      "------------------------------------\n",
      "\n"
     ]
    },
    {
     "name": "stderr",
     "output_type": "stream",
     "text": [
      "/Users/mirbilal/Desktop/minsir/minsirenv/lib/python3.12/site-packages/huggingface_hub/file_download.py:1132: FutureWarning: `resume_download` is deprecated and will be removed in version 1.0.0. Downloads always resume when possible. If you want to force a new download, use `force_download=True`.\n",
      "  warnings.warn(\n"
     ]
    },
    {
     "name": "stdout",
     "output_type": "stream",
     "text": [
      "------------------------------------\n",
      "list index out of range\n",
      "/Users/mirbilal/Desktop/minsir/media/email_attachments/scan0019_8Txv0yX.pdf\n",
      "\n",
      "------------------------------------\n",
      "\n"
     ]
    },
    {
     "name": "stderr",
     "output_type": "stream",
     "text": [
      "/Users/mirbilal/Desktop/minsir/minsirenv/lib/python3.12/site-packages/huggingface_hub/file_download.py:1132: FutureWarning: `resume_download` is deprecated and will be removed in version 1.0.0. Downloads always resume when possible. If you want to force a new download, use `force_download=True`.\n",
      "  warnings.warn(\n"
     ]
    },
    {
     "name": "stdout",
     "output_type": "stream",
     "text": [
      "------------------------------------\n",
      "/Users/mirbilal/Desktop/minsir/media/email_attachments/EL-M03-23_tJpuHFY.pdf\n",
      "/Users/mirbilal/Desktop/minsir/media/email_attachments/22442_11.10.2023_tsgCBNR.pdf\n",
      "/Users/mirbilal/Desktop/minsir/media/email_attachments/22442_11.10.2023_ZQZbjrg.pdf\n",
      "/Users/mirbilal/Desktop/minsir/media/email_attachments/22442_11.10.2023_wz7OzXM.pdf\n",
      "/Users/mirbilal/Desktop/minsir/media/email_attachments/EL-M03-23_oItQviZ.pdf\n",
      "\n",
      "------------------------------------\n",
      "\n"
     ]
    },
    {
     "name": "stderr",
     "output_type": "stream",
     "text": [
      "/Users/mirbilal/Desktop/minsir/minsirenv/lib/python3.12/site-packages/huggingface_hub/file_download.py:1132: FutureWarning: `resume_download` is deprecated and will be removed in version 1.0.0. Downloads always resume when possible. If you want to force a new download, use `force_download=True`.\n",
      "  warnings.warn(\n"
     ]
    },
    {
     "name": "stdout",
     "output_type": "stream",
     "text": [
      "------------------------------------\n",
      "list index out of range\n",
      "/Users/mirbilal/Desktop/minsir/media/email_attachments/INSURANCE_OMNI_COTTON_DKYeIsN.pdf\n",
      "/Users/mirbilal/Desktop/minsir/media/email_attachments/Copy_Docs_EcR1ZHE.pdf\n",
      "\n",
      "------------------------------------\n",
      "\n"
     ]
    },
    {
     "name": "stderr",
     "output_type": "stream",
     "text": [
      "/Users/mirbilal/Desktop/minsir/minsirenv/lib/python3.12/site-packages/huggingface_hub/file_download.py:1132: FutureWarning: `resume_download` is deprecated and will be removed in version 1.0.0. Downloads always resume when possible. If you want to force a new download, use `force_download=True`.\n",
      "  warnings.warn(\n"
     ]
    },
    {
     "name": "stdout",
     "output_type": "stream",
     "text": [
      "------------------------------------\n",
      "list index out of range\n",
      "\n",
      "------------------------------------\n",
      "\n"
     ]
    },
    {
     "name": "stderr",
     "output_type": "stream",
     "text": [
      "/Users/mirbilal/Desktop/minsir/minsirenv/lib/python3.12/site-packages/huggingface_hub/file_download.py:1132: FutureWarning: `resume_download` is deprecated and will be removed in version 1.0.0. Downloads always resume when possible. If you want to force a new download, use `force_download=True`.\n",
      "  warnings.warn(\n"
     ]
    },
    {
     "name": "stdout",
     "output_type": "stream",
     "text": [
      "------------------------------------\n",
      "list index out of range\n",
      "\n",
      "------------------------------------\n",
      "\n"
     ]
    },
    {
     "name": "stderr",
     "output_type": "stream",
     "text": [
      "/Users/mirbilal/Desktop/minsir/minsirenv/lib/python3.12/site-packages/huggingface_hub/file_download.py:1132: FutureWarning: `resume_download` is deprecated and will be removed in version 1.0.0. Downloads always resume when possible. If you want to force a new download, use `force_download=True`.\n",
      "  warnings.warn(\n"
     ]
    },
    {
     "name": "stdout",
     "output_type": "stream",
     "text": [
      "------------------------------------\n",
      "/Users/mirbilal/Desktop/minsir/media/email_attachments/CN-30_5bUyYok.pdf\n",
      "/Users/mirbilal/Desktop/minsir/media/email_attachments/CN-29_HUkyBCa.pdf\n",
      "\n",
      "------------------------------------\n",
      "\n"
     ]
    },
    {
     "name": "stderr",
     "output_type": "stream",
     "text": [
      "/Users/mirbilal/Desktop/minsir/minsirenv/lib/python3.12/site-packages/django/db/models/fields/__init__.py:1659: RuntimeWarning: DateTimeField Policy.issue_date received a naive datetime (2024-03-09 00:00:00) while time zone support is active.\n",
      "  warnings.warn(\n",
      "/Users/mirbilal/Desktop/minsir/minsirenv/lib/python3.12/site-packages/huggingface_hub/file_download.py:1132: FutureWarning: `resume_download` is deprecated and will be removed in version 1.0.0. Downloads always resume when possible. If you want to force a new download, use `force_download=True`.\n",
      "  warnings.warn(\n"
     ]
    },
    {
     "name": "stdout",
     "output_type": "stream",
     "text": [
      "------------------------------------\n",
      "list index out of range\n",
      "\n",
      "------------------------------------\n",
      "\n"
     ]
    },
    {
     "name": "stderr",
     "output_type": "stream",
     "text": [
      "/Users/mirbilal/Desktop/minsir/minsirenv/lib/python3.12/site-packages/huggingface_hub/file_download.py:1132: FutureWarning: `resume_download` is deprecated and will be removed in version 1.0.0. Downloads always resume when possible. If you want to force a new download, use `force_download=True`.\n",
      "  warnings.warn(\n"
     ]
    },
    {
     "name": "stdout",
     "output_type": "stream",
     "text": [
      "------------------------------------\n",
      "/Users/mirbilal/Desktop/minsir/media/email_attachments/Pak_Oman_21_loss_ratio_YfZQcCm.pdf\n",
      "/Users/mirbilal/Desktop/minsir/media/email_attachments/101264_Claim_History_SRUj4r9.pdf\n",
      "/Users/mirbilal/Desktop/minsir/media/email_attachments/Pak_Oman_21_loss_ratio_PXlat7G.pdf\n",
      "/Users/mirbilal/Desktop/minsir/media/email_attachments/101264_Claim_History_TdU97K0.pdf\n",
      "\n",
      "------------------------------------\n",
      "\n"
     ]
    },
    {
     "name": "stderr",
     "output_type": "stream",
     "text": [
      "/Users/mirbilal/Desktop/minsir/minsirenv/lib/python3.12/site-packages/huggingface_hub/file_download.py:1132: FutureWarning: `resume_download` is deprecated and will be removed in version 1.0.0. Downloads always resume when possible. If you want to force a new download, use `force_download=True`.\n",
      "  warnings.warn(\n"
     ]
    },
    {
     "name": "stdout",
     "output_type": "stream",
     "text": [
      "------------------------------------\n",
      "list index out of range\n",
      "\n",
      "------------------------------------\n",
      "\n"
     ]
    },
    {
     "name": "stderr",
     "output_type": "stream",
     "text": [
      "/Users/mirbilal/Desktop/minsir/minsirenv/lib/python3.12/site-packages/huggingface_hub/file_download.py:1132: FutureWarning: `resume_download` is deprecated and will be removed in version 1.0.0. Downloads always resume when possible. If you want to force a new download, use `force_download=True`.\n",
      "  warnings.warn(\n"
     ]
    },
    {
     "name": "stdout",
     "output_type": "stream",
     "text": [
      "------------------------------------\n",
      "list index out of range\n",
      "\n",
      "------------------------------------\n",
      "\n"
     ]
    },
    {
     "name": "stderr",
     "output_type": "stream",
     "text": [
      "/Users/mirbilal/Desktop/minsir/minsirenv/lib/python3.12/site-packages/huggingface_hub/file_download.py:1132: FutureWarning: `resume_download` is deprecated and will be removed in version 1.0.0. Downloads always resume when possible. If you want to force a new download, use `force_download=True`.\n",
      "  warnings.warn(\n"
     ]
    },
    {
     "name": "stdout",
     "output_type": "stream",
     "text": [
      "------------------------------------\n",
      "/Users/mirbilal/Desktop/minsir/media/email_attachments/PK-5683_623FGU4.pdf\n",
      "/Users/mirbilal/Desktop/minsir/media/email_attachments/PK-5672_l4YQFUp.pdf\n",
      "/Users/mirbilal/Desktop/minsir/media/email_attachments/PK-5640-2_OxGLm7P.pdf\n",
      "\n",
      "------------------------------------\n",
      "\n"
     ]
    },
    {
     "name": "stderr",
     "output_type": "stream",
     "text": [
      "/Users/mirbilal/Desktop/minsir/minsirenv/lib/python3.12/site-packages/django/db/models/fields/__init__.py:1659: RuntimeWarning: DateTimeField Policy.issue_date received a naive datetime (2024-03-11 00:00:00) while time zone support is active.\n",
      "  warnings.warn(\n",
      "/Users/mirbilal/Desktop/minsir/minsirenv/lib/python3.12/site-packages/huggingface_hub/file_download.py:1132: FutureWarning: `resume_download` is deprecated and will be removed in version 1.0.0. Downloads always resume when possible. If you want to force a new download, use `force_download=True`.\n",
      "  warnings.warn(\n"
     ]
    },
    {
     "name": "stdout",
     "output_type": "stream",
     "text": [
      "------------------------------------\n",
      "/Users/mirbilal/Desktop/minsir/media/email_attachments/3726_ryduZ5Y.pdf\n",
      "/Users/mirbilal/Desktop/minsir/media/email_attachments/FARAZ-0223-PK_OhLYFTU.pdf\n",
      "/Users/mirbilal/Desktop/minsir/media/email_attachments/FARAZ-0223-IV_fMFUHLf.pdf\n",
      "\n",
      "------------------------------------\n",
      "\n"
     ]
    },
    {
     "name": "stderr",
     "output_type": "stream",
     "text": [
      "/Users/mirbilal/Desktop/minsir/minsirenv/lib/python3.12/site-packages/django/db/models/fields/__init__.py:1659: RuntimeWarning: DateTimeField Policy.issue_date received a naive datetime (2024-03-01 00:00:00) while time zone support is active.\n",
      "  warnings.warn(\n",
      "/Users/mirbilal/Desktop/minsir/minsirenv/lib/python3.12/site-packages/huggingface_hub/file_download.py:1132: FutureWarning: `resume_download` is deprecated and will be removed in version 1.0.0. Downloads always resume when possible. If you want to force a new download, use `force_download=True`.\n",
      "  warnings.warn(\n"
     ]
    },
    {
     "name": "stdout",
     "output_type": "stream",
     "text": [
      "------------------------------------\n",
      "list index out of range\n",
      "\n",
      "------------------------------------\n",
      "\n"
     ]
    },
    {
     "name": "stderr",
     "output_type": "stream",
     "text": [
      "/Users/mirbilal/Desktop/minsir/minsirenv/lib/python3.12/site-packages/huggingface_hub/file_download.py:1132: FutureWarning: `resume_download` is deprecated and will be removed in version 1.0.0. Downloads always resume when possible. If you want to force a new download, use `force_download=True`.\n",
      "  warnings.warn(\n"
     ]
    },
    {
     "name": "stdout",
     "output_type": "stream",
     "text": [
      "------------------------------------\n",
      "list index out of range\n",
      "\n",
      "------------------------------------\n",
      "\n"
     ]
    },
    {
     "name": "stderr",
     "output_type": "stream",
     "text": [
      "/Users/mirbilal/Desktop/minsir/minsirenv/lib/python3.12/site-packages/huggingface_hub/file_download.py:1132: FutureWarning: `resume_download` is deprecated and will be removed in version 1.0.0. Downloads always resume when possible. If you want to force a new download, use `force_download=True`.\n",
      "  warnings.warn(\n"
     ]
    },
    {
     "name": "stdout",
     "output_type": "stream",
     "text": [
      "------------------------------------\n",
      "list index out of range\n",
      "\n",
      "------------------------------------\n",
      "\n"
     ]
    }
   ],
   "source": [
    "for a_convo_str, a_convo_data in convo_reader.conversations.items():\n",
    "    # if 'Surveyor Appointed for Ticket No:' in a_convo_str:\n",
    "        (full_convo, attachments, all_files) = a_convo_data.get_full_convo()\n",
    "        attachments: list[EmailAttachment] = attachments\n",
    "        insLLM = InsuranceERPLLM()\n",
    "        insLLM.store_convo_in_vector_store(f\"{full_convo}\")\n",
    "        insLLM.search_convo_vector_store()\n",
    "        insLLM.query_from_final_results(insLLM.convo_query_results)\n",
    "        print(\"------------------------------------\")\n",
    "        insLLM.store_documents_in_vector_store(attachments)\n",
    "        if insLLM.all_documents:\n",
    "            insLLM.search_documents_vector_store()\n",
    "            insLLM.query_from_final_results(insLLM.document_query_results)\n",
    "        # print(json.dumps(insLLM.queries_results, indent=4))\n",
    "        insLLM.clean_query_results()\n",
    "        for attchmnt in attachments:\n",
    "            print(attchmnt)\n",
    "        # for a_msg in full_convo:\n",
    "        #     print(json.dumps(a_msg, indent=4))\n",
    "        insLLM.record_data(all_files)\n",
    "        print(\"\")\n",
    "        print(\"------------------------------------\")\n",
    "        print(\"\")\n",
    "        # break\n"
   ]
  },
  {
   "cell_type": "code",
   "execution_count": 4,
   "metadata": {},
   "outputs": [
    {
     "name": "stdout",
     "output_type": "stream",
     "text": [
      "{'net_premium': {'value': None, 'type': 'double'}, 'issue_date': {'value': None, 'type': 'datetime'}, 'covernote_number': {'value': None, 'type': 'string'}, 'policy_number': {'value': 'GSAPL/24792/2024', 'type': 'string'}, 'claim_number': {'value': None, 'type': 'string'}, 'customer_name': {'value': 'GS Associates (PVT) Limited', 'type': 'string'}, 'company_name': {'value': 'MILLENIUM ENGINEERING (PVT) LTD', 'type': 'string'}, 'risk_type': {'value': 'Auto Insurance', 'type': 'string'}, 'event_type': {'value': 'claim_intimated', 'type': 'string'}, 'sum_insured': {'value': 3800000.0, 'type': 'double'}, 'premium_paid_amount': {'value': None, 'type': 'double'}, 'claim_intimation_amount': {'value': 26000.0, 'type': 'double'}, 'claim_paid_amount': {'value': None, 'type': 'double'}, 'premium_paid_date': {'value': None, 'type': 'datetime'}, 'claim_intimation_date': {'value': None, 'type': 'datetime'}, 'claim_paid_date': {'value': None, 'type': 'datetime'}}\n"
     ]
    }
   ],
   "source": [
    "print(insLLM.queries_results)"
   ]
  },
  {
   "cell_type": "code",
   "execution_count": null,
   "metadata": {},
   "outputs": [],
   "source": [
    "{'net_premium': {'value': None, 'type': 'double'}, 'issue_date': {'value': None, 'type': 'datetime'}, 'covernote_number': {'value': None, 'type': 'string'}, 'policy_number': {'value': None, 'type': 'string'}, 'claim_number': {'value': None, 'type': 'string'}, 'customer_name': {'value': 'Minah Babar', 'type': 'string'}, 'risk_type': {'value': 'Electronic Equipment Insurance', 'type': 'string'}, 'event_type': {'value': 'policy_issued', 'type': 'string'}, 'sum_insured': {'value': None, 'type': 'double'}, 'premium_paid_amount': {'value': None, 'type': 'double'}, 'claim_intimation_amount': {'value': None, 'type': 'double'}, 'claim_paid_amount': {'value': None, 'type': 'double'}, 'premium_paid_date': {'value': None, 'type': 'datetime'}, 'claim_intimation_date': {'value': None, 'type': 'datetime'}, 'claim_paid_date': {'value': None, 'type': 'datetime'}}\n"
   ]
  },
  {
   "cell_type": "code",
   "execution_count": null,
   "metadata": {},
   "outputs": [],
   "source": [
    "from datetime import datetime\n",
    "import re\n",
    "\n",
    "\n",
    "for key, value_dict in insLLM.queries_results.items():\n",
    "    data_type = value_dict[\"type\"]\n",
    "    data_value = value_dict[\"value\"]\n",
    "    # value_dict[\"value\"] = insLLM.raw_results[key]\n",
    "    # continue\n",
    "    if data_value is not None and type(data_value) is str and \"404 Not Found\" not in data_value:\n",
    "        # Clean the data value\n",
    "        data_values = data_value.split(\"=\")\n",
    "        cleaned_value = data_values[-1].strip().replace(\"'\", \"\")\n",
    "\n",
    "        # Convert the cleaned data value to the specified type\n",
    "        if data_type == \"double\":\n",
    "            try:\n",
    "                # Extract numbers from the string using regex\n",
    "                cleaned_value = re.sub(r'[^\\d.]', '', cleaned_value)\n",
    "                cleaned_value = float(cleaned_value)\n",
    "            except ValueError:\n",
    "                cleaned_value = None\n",
    "                raise Exception\n",
    "        elif data_type == \"datetime\":\n",
    "            try:\n",
    "                # Extract date in the format YYYY-MM-DD using regex\n",
    "                match = re.search(r'\\d{4}-\\d{2}-\\d{2}', cleaned_value)\n",
    "                if match:\n",
    "                    cleaned_value = datetime.strptime(match.group(), \"%Y-%m-%d\")\n",
    "                else:\n",
    "                    cleaned_value = None\n",
    "            except ValueError:\n",
    "                cleaned_value = None\n",
    "                raise Exception\n",
    "        elif data_type == \"string\":\n",
    "            cleaned_value = str(cleaned_value)\n",
    "        \n",
    "        # Update the value in the dictionary\n",
    "        value_dict[\"value\"] = cleaned_value\n",
    "\n",
    "print(insLLM.queries_results)"
   ]
  },
  {
   "cell_type": "code",
   "execution_count": null,
   "metadata": {},
   "outputs": [],
   "source": [
    "for a_convo_str, a_convo_data in convo_reader.conversations.items():\n",
    "    if 'Remaining Claim Amount' in a_convo_str:\n",
    "        (full_convo, attachments, all_files) = a_convo_data.get_full_convo()\n",
    "        attachments: list[EmailAttachment] = attachments\n",
    "        # insLLM = InsuranceERPLLM()\n",
    "        # insLLM.store_documents_in_vector_store(attachments)\n",
    "        # insLLM.search_documents_vector_store()\n",
    "        # insLLM.query_from_final_results(insLLM.document_query_results)\n",
    "        for attchmnt in attachments:\n",
    "            print(attchmnt)\n",
    "        for a_msg in full_convo:\n",
    "            print(json.dumps(a_msg, indent=4))\n",
    "        print(\"\")\n",
    "        print(\"------------------------------------\")\n",
    "        print(\"\")\n",
    "        break"
   ]
  },
  {
   "cell_type": "code",
   "execution_count": null,
   "metadata": {},
   "outputs": [],
   "source": [
    "insLLM = InsuranceERPLLM()\n",
    "insLLM.store_convo_in_vector_store(f\"{dummy_convo}\")\n",
    "insLLM.search_convo_vector_store()\n",
    "insLLM.query_from_final_results(insLLM.convo_query_results)"
   ]
  }
 ],
 "metadata": {
  "kernelspec": {
   "display_name": "minsirenv",
   "language": "python",
   "name": "python3"
  },
  "language_info": {
   "codemirror_mode": {
    "name": "ipython",
    "version": 3
   },
   "file_extension": ".py",
   "mimetype": "text/x-python",
   "name": "python",
   "nbconvert_exporter": "python",
   "pygments_lexer": "ipython3",
   "version": "3.12.4"
  },
  "orig_nbformat": 4
 },
 "nbformat": 4,
 "nbformat_minor": 2
}
