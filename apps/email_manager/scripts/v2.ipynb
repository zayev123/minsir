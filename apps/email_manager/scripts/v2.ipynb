{
 "cells": [
  {
   "cell_type": "code",
   "execution_count": 1,
   "metadata": {},
   "outputs": [
    {
     "name": "stderr",
     "output_type": "stream",
     "text": [
      "/Users/mirbilal/Desktop/minsir/minsirenv/lib/python3.12/site-packages/threadpoolctl.py:1214: RuntimeWarning: \n",
      "Found Intel OpenMP ('libiomp') and LLVM OpenMP ('libomp') loaded at\n",
      "the same time. Both libraries are known to be incompatible and this\n",
      "can cause random crashes or deadlocks on Linux when loaded in the\n",
      "same Python program.\n",
      "Using threadpoolctl may cause crashes or deadlocks. For more\n",
      "information and possible workarounds, please see\n",
      "    https://github.com/joblib/threadpoolctl/blob/master/multiple_openmp.md\n",
      "\n",
      "  warnings.warn(msg, RuntimeWarning)\n"
     ]
    }
   ],
   "source": [
    "import sys\n",
    "import django\n",
    "import os\n",
    "file_dir = \"/Users/mirbilal/Desktop/minsir/\"\n",
    "if file_dir not in sys.path:\n",
    "    sys.path.insert(0, file_dir)\n",
    "\n",
    "os.environ[\"DJANGO_SETTINGS_MODULE\"] = \"minsirx.settings\"\n",
    "os.environ[\"DJANGO_ALLOW_ASYNC_UNSAFE\"] = \"true\" \n",
    "django.setup()\n",
    "from apps.email_manager.service_layer.email_linker import ConversationReader\n",
    "import json\n",
    "from datetime import datetime\n",
    "from apps.email_manager.service_layer.insurance_erp_llm import InsuranceERPLLM\n",
    "from apps.email_manager.models.email import EmailAttachment\n",
    "\n"
   ]
  },
  {
   "cell_type": "code",
   "execution_count": 2,
   "metadata": {},
   "outputs": [
    {
     "name": "stdout",
     "output_type": "stream",
     "text": [
      "dict_items([('July 08, 2024, 12:34 PM@CVG  |1997704  |1060575709  |10-Jul-24', <apps.email_manager.service_layer.email_linker.EmailConvo object at 0x1788ffd40>), ('July 08, 2024, 12:37 PM@CVG  |1997705  |1060575010  |10-Jul-24', <apps.email_manager.service_layer.email_linker.EmailConvo object at 0x178943170>), ('July 08, 2024, 12:42 PM@Neurovascular  |1997703  |1060572722', <apps.email_manager.service_layer.email_linker.EmailConvo object at 0x178942f90>), ('July 08, 2024, 12:46 PM@Structural Heart  |1998720 | 1060591749 | 10-Jul-24', <apps.email_manager.service_layer.email_linker.EmailConvo object at 0x1789b9e20>), ('July 08, 2024, 12:52 PM@Quote ID: 01926-07-2024 CANOPUS (PVT.) LTD', <apps.email_manager.service_layer.email_linker.EmailConvo object at 0x1789b9f70>), ('July 08, 2024, 1:36 PM@Medtronic, Inc. sent a new Purchase Order 4201087855', <apps.email_manager.service_layer.email_linker.EmailConvo object at 0x1789ba000>), ('July 08, 2024, 8:01 PM@ADAMJEE INSURANCE DEPOSIT SLIP ALONG WITH OUTSTANDING SHEET JAN-JUNE,2024', <apps.email_manager.service_layer.email_linker.EmailConvo object at 0x1789ba090>)])\n"
     ]
    },
    {
     "name": "stderr",
     "output_type": "stream",
     "text": [
      "/Users/mirbilal/Desktop/minsir/minsirenv/lib/python3.12/site-packages/django/db/models/fields/__init__.py:1659: RuntimeWarning: DateTimeField EmailData.date received a naive datetime (2024-07-08 00:00:00) while time zone support is active.\n",
      "  warnings.warn(\n",
      "/Users/mirbilal/Desktop/minsir/minsirenv/lib/python3.12/site-packages/django/db/models/fields/__init__.py:1659: RuntimeWarning: DateTimeField EmailData.date received a naive datetime (2024-07-09 00:00:00) while time zone support is active.\n",
      "  warnings.warn(\n"
     ]
    }
   ],
   "source": [
    "convo_reader = ConversationReader(\n",
    "    start_date=datetime(year=2024, month=7, day=8),\n",
    "    end_date=datetime(year=2024, month=7, day=9),\n",
    ")\n",
    "convo_reader.extract_conversation()\n",
    "print(convo_reader.conversations.items())"
   ]
  },
  {
   "cell_type": "code",
   "execution_count": 3,
   "metadata": {},
   "outputs": [
    {
     "name": "stderr",
     "output_type": "stream",
     "text": [
      "/Users/mirbilal/Desktop/minsir/minsirenv/lib/python3.12/site-packages/huggingface_hub/file_download.py:1132: FutureWarning: `resume_download` is deprecated and will be removed in version 1.0.0. Downloads always resume when possible. If you want to force a new download, use `force_download=True`.\n",
      "  warnings.warn(\n",
      "/Users/mirbilal/Desktop/minsir/minsirenv/lib/python3.12/site-packages/langchain_core/_api/deprecation.py:139: LangChainDeprecationWarning: The class `ChatOpenAI` was deprecated in LangChain 0.0.10 and will be removed in 0.3.0. An updated version of the class exists in the langchain-openai package and should be used instead. To use it run `pip install -U langchain-openai` and import as `from langchain_openai import ChatOpenAI`.\n",
      "  warn_deprecated(\n",
      "/Users/mirbilal/Desktop/minsir/minsirenv/lib/python3.12/site-packages/langchain_core/_api/deprecation.py:139: LangChainDeprecationWarning: The method `BaseChatModel.__call__` was deprecated in langchain-core 0.1.7 and will be removed in 0.3.0. Use invoke instead.\n",
      "  warn_deprecated(\n",
      "huggingface/tokenizers: The current process just got forked, after parallelism has already been used. Disabling parallelism to avoid deadlocks...\n",
      "To disable this warning, you can either:\n",
      "\t- Avoid using `tokenizers` before the fork if possible\n",
      "\t- Explicitly set the environment variable TOKENIZERS_PARALLELISM=(true | false)\n"
     ]
    },
    {
     "name": "stdout",
     "output_type": "stream",
     "text": [
      "------------------------------------\n",
      "{'net_premium': {'value': None, 'type': 'double'}, 'issue_date': {'value': datetime.datetime(2024, 7, 4, 0, 0), 'type': 'datetime'}, 'covernote_number': {'value': None, 'type': 'string'}, 'policy_number': {'value': None, 'type': 'string'}, 'claim_number': {'value': None, 'type': 'string'}, 'customer_name': {'value': 'MEDTRONIC PAKISTAN (PRIVATE) LIMITED', 'type': 'string'}, 'company_name': {'value': 'Adamjee Insurance Company Limited', 'type': 'string'}, 'risk_type': {'value': 'Marine Insurance', 'type': 'string'}, 'event_type': {'value': 'policy_issued', 'type': 'string'}, 'sum_insured': {'value': None, 'type': 'double'}, 'premium_paid_amount': {'value': None, 'type': 'double'}, 'claim_intimation_amount': {'value': None, 'type': 'double'}, 'claim_paid_amount': {'value': None, 'type': 'double'}, 'premium_paid_date': {'value': None, 'type': 'datetime'}, 'claim_intimation_date': {'value': None, 'type': 'datetime'}, 'claim_paid_date': {'value': None, 'type': 'datetime'}}\n"
     ]
    },
    {
     "name": "stderr",
     "output_type": "stream",
     "text": [
      "/Users/mirbilal/Desktop/minsir/minsirenv/lib/python3.12/site-packages/django/db/models/fields/__init__.py:1659: RuntimeWarning: DateTimeField Policy.issue_date received a naive datetime (2024-07-04 00:00:00) while time zone support is active.\n",
      "  warnings.warn(\n"
     ]
    },
    {
     "name": "stdout",
     "output_type": "stream",
     "text": [
      "\n",
      "------------------------------------\n",
      "\n"
     ]
    },
    {
     "name": "stderr",
     "output_type": "stream",
     "text": [
      "/Users/mirbilal/Desktop/minsir/minsirenv/lib/python3.12/site-packages/huggingface_hub/file_download.py:1132: FutureWarning: `resume_download` is deprecated and will be removed in version 1.0.0. Downloads always resume when possible. If you want to force a new download, use `force_download=True`.\n",
      "  warnings.warn(\n"
     ]
    },
    {
     "name": "stdout",
     "output_type": "stream",
     "text": [
      "------------------------------------\n",
      "MPS backend out of memory (MPS allocated: 1.52 GB, other allocations: 5.24 GB, max allowed: 6.77 GB). Tried to allocate 24.75 MB on private pool. Use PYTORCH_MPS_HIGH_WATERMARK_RATIO=0.0 to disable upper limit for memory allocations (may cause system failure).\n",
      "{'net_premium': {'value': None, 'type': 'double'}, 'issue_date': {'value': None, 'type': 'datetime'}, 'covernote_number': {'value': None, 'type': 'string'}, 'policy_number': {'value': None, 'type': 'string'}, 'claim_number': {'value': None, 'type': 'string'}, 'customer_name': {'value': 'shaista.malik@adamjeeinsurance.com', 'type': 'string'}, 'company_name': {'value': 'Adamjee Insurance Company Limited', 'type': 'string'}, 'risk_type': {'value': 'Marine Insurance', 'type': 'string'}, 'event_type': {'value': 'policy_issued', 'type': 'string'}, 'sum_insured': {'value': None, 'type': 'double'}, 'premium_paid_amount': {'value': None, 'type': 'double'}, 'claim_intimation_amount': {'value': None, 'type': 'double'}, 'claim_paid_amount': {'value': None, 'type': 'double'}, 'premium_paid_date': {'value': None, 'type': 'datetime'}, 'claim_intimation_date': {'value': None, 'type': 'datetime'}, 'claim_paid_date': {'value': None, 'type': 'datetime'}}\n",
      "\n",
      "------------------------------------\n",
      "\n"
     ]
    },
    {
     "name": "stderr",
     "output_type": "stream",
     "text": [
      "/Users/mirbilal/Desktop/minsir/minsirenv/lib/python3.12/site-packages/huggingface_hub/file_download.py:1132: FutureWarning: `resume_download` is deprecated and will be removed in version 1.0.0. Downloads always resume when possible. If you want to force a new download, use `force_download=True`.\n",
      "  warnings.warn(\n"
     ]
    },
    {
     "name": "stdout",
     "output_type": "stream",
     "text": [
      "------------------------------------\n",
      "{'net_premium': {'value': None, 'type': 'double'}, 'issue_date': {'value': datetime.datetime(2024, 7, 4, 0, 0), 'type': 'datetime'}, 'covernote_number': {'value': None, 'type': 'string'}, 'policy_number': {'value': None, 'type': 'string'}, 'claim_number': {'value': None, 'type': 'string'}, 'customer_name': {'value': 'MEDTRONIC PAKISTAN (PRIVATE) LIMITED', 'type': 'string'}, 'company_name': {'value': 'Adamjee Insurance Company Limited', 'type': 'string'}, 'risk_type': {'value': 'Marine Insurance', 'type': 'string'}, 'event_type': {'value': 'policy_issued', 'type': 'string'}, 'sum_insured': {'value': None, 'type': 'double'}, 'premium_paid_amount': {'value': None, 'type': 'double'}, 'claim_intimation_amount': {'value': None, 'type': 'double'}, 'claim_paid_amount': {'value': None, 'type': 'double'}, 'premium_paid_date': {'value': None, 'type': 'datetime'}, 'claim_intimation_date': {'value': None, 'type': 'datetime'}, 'claim_paid_date': {'value': None, 'type': 'datetime'}}\n",
      "\n",
      "------------------------------------\n",
      "\n"
     ]
    },
    {
     "name": "stderr",
     "output_type": "stream",
     "text": [
      "/Users/mirbilal/Desktop/minsir/minsirenv/lib/python3.12/site-packages/django/db/models/fields/__init__.py:1659: RuntimeWarning: DateTimeField Policy.issue_date received a naive datetime (2024-07-04 00:00:00) while time zone support is active.\n",
      "  warnings.warn(\n",
      "/Users/mirbilal/Desktop/minsir/minsirenv/lib/python3.12/site-packages/huggingface_hub/file_download.py:1132: FutureWarning: `resume_download` is deprecated and will be removed in version 1.0.0. Downloads always resume when possible. If you want to force a new download, use `force_download=True`.\n",
      "  warnings.warn(\n"
     ]
    },
    {
     "name": "stdout",
     "output_type": "stream",
     "text": [
      "------------------------------------\n",
      "{'net_premium': {'value': 5888.0, 'type': 'double'}, 'issue_date': {'value': None, 'type': 'datetime'}, 'covernote_number': {'value': None, 'type': 'string'}, 'policy_number': {'value': None, 'type': 'string'}, 'claim_number': {'value': None, 'type': 'string'}, 'customer_name': {'value': 'MEDTRONIC PAKISTAN (PRIVATE) LIMITED', 'type': 'string'}, 'company_name': {'value': 'Insurance Company Limited', 'type': 'string'}, 'risk_type': {'value': 'Marine Insurance', 'type': 'string'}, 'event_type': {'value': 'policy_issued', 'type': 'string'}, 'sum_insured': {'value': 15047.24, 'type': 'double'}, 'premium_paid_amount': {'value': None, 'type': 'double'}, 'claim_intimation_amount': {'value': None, 'type': 'double'}, 'claim_paid_amount': {'value': None, 'type': 'double'}, 'premium_paid_date': {'value': None, 'type': 'datetime'}, 'claim_intimation_date': {'value': None, 'type': 'datetime'}, 'claim_paid_date': {'value': None, 'type': 'datetime'}}\n",
      "\n",
      "------------------------------------\n",
      "\n"
     ]
    },
    {
     "name": "stderr",
     "output_type": "stream",
     "text": [
      "/Users/mirbilal/Desktop/minsir/minsirenv/lib/python3.12/site-packages/huggingface_hub/file_download.py:1132: FutureWarning: `resume_download` is deprecated and will be removed in version 1.0.0. Downloads always resume when possible. If you want to force a new download, use `force_download=True`.\n",
      "  warnings.warn(\n"
     ]
    },
    {
     "name": "stdout",
     "output_type": "stream",
     "text": [
      "------------------------------------\n",
      "{'net_premium': {'value': None, 'type': 'double'}, 'issue_date': {'value': datetime.datetime(2010, 1, 1, 0, 0), 'type': 'datetime'}, 'covernote_number': {'value': None, 'type': 'string'}, 'policy_number': {'value': None, 'type': 'string'}, 'claim_number': {'value': None, 'type': 'string'}, 'customer_name': {'value': 'Canopus (Private) Limited', 'type': 'string'}, 'company_name': {'value': 'CANOPUS (PVT.) LTD', 'type': 'string'}, 'risk_type': {'value': 'Commercial Property Insurance', 'type': 'string'}, 'event_type': {'value': 'policy_issued', 'type': 'string'}, 'sum_insured': {'value': None, 'type': 'double'}, 'premium_paid_amount': {'value': None, 'type': 'double'}, 'claim_intimation_amount': {'value': None, 'type': 'double'}, 'claim_paid_amount': {'value': None, 'type': 'double'}, 'premium_paid_date': {'value': None, 'type': 'datetime'}, 'claim_intimation_date': {'value': None, 'type': 'datetime'}, 'claim_paid_date': {'value': None, 'type': 'datetime'}}\n",
      "\n",
      "------------------------------------\n",
      "\n"
     ]
    },
    {
     "name": "stderr",
     "output_type": "stream",
     "text": [
      "/Users/mirbilal/Desktop/minsir/minsirenv/lib/python3.12/site-packages/django/db/models/fields/__init__.py:1659: RuntimeWarning: DateTimeField Policy.issue_date received a naive datetime (2010-01-01 00:00:00) while time zone support is active.\n",
      "  warnings.warn(\n",
      "/Users/mirbilal/Desktop/minsir/minsirenv/lib/python3.12/site-packages/huggingface_hub/file_download.py:1132: FutureWarning: `resume_download` is deprecated and will be removed in version 1.0.0. Downloads always resume when possible. If you want to force a new download, use `force_download=True`.\n",
      "  warnings.warn(\n"
     ]
    },
    {
     "name": "stdout",
     "output_type": "stream",
     "text": [
      "------------------------------------\n",
      "list index out of range\n",
      "{'net_premium': {'value': None, 'type': 'double'}, 'issue_date': {'value': None, 'type': 'datetime'}, 'covernote_number': {'value': None, 'type': 'string'}, 'policy_number': {'value': None, 'type': 'string'}, 'claim_number': {'value': None, 'type': 'string'}, 'customer_name': {'value': 'mir.babarali', 'type': 'string'}, 'company_name': {'value': 'Medtronic, Inc.', 'type': 'string'}, 'risk_type': {'value': 'Electronic Equipment Insurance', 'type': 'string'}, 'event_type': {'value': 'policy_issued', 'type': 'string'}, 'sum_insured': {'value': None, 'type': 'double'}, 'premium_paid_amount': {'value': None, 'type': 'double'}, 'claim_intimation_amount': {'value': None, 'type': 'double'}, 'claim_paid_amount': {'value': None, 'type': 'double'}, 'premium_paid_date': {'value': None, 'type': 'datetime'}, 'claim_intimation_date': {'value': None, 'type': 'datetime'}, 'claim_paid_date': {'value': None, 'type': 'datetime'}}\n",
      "\n",
      "------------------------------------\n",
      "\n"
     ]
    },
    {
     "name": "stderr",
     "output_type": "stream",
     "text": [
      "/Users/mirbilal/Desktop/minsir/minsirenv/lib/python3.12/site-packages/huggingface_hub/file_download.py:1132: FutureWarning: `resume_download` is deprecated and will be removed in version 1.0.0. Downloads always resume when possible. If you want to force a new download, use `force_download=True`.\n",
      "  warnings.warn(\n",
      "Multiple definitions in dictionary at byte 0x9d0a0 for key /Info\n",
      "Multiple definitions in dictionary at byte 0x9d0ac for key /Info\n",
      "Multiple definitions in dictionary at byte 0x9d0b8 for key /Info\n"
     ]
    },
    {
     "name": "stdout",
     "output_type": "stream",
     "text": [
      "------------------------------------\n",
      "list index out of range\n",
      "{'net_premium': {'value': None, 'type': 'double'}, 'issue_date': {'value': None, 'type': 'datetime'}, 'covernote_number': {'value': None, 'type': 'string'}, 'policy_number': {'value': None, 'type': 'string'}, 'claim_number': {'value': None, 'type': 'string'}, 'customer_name': {'value': 'mir babar ali', 'type': 'string'}, 'company_name': {'value': 'adamjeeinsurance', 'type': 'string'}, 'risk_type': {'value': 'Electronic Equipment Insurance', 'type': 'string'}, 'event_type': {'value': 'policy_issued', 'type': 'string'}, 'sum_insured': {'value': None, 'type': 'double'}, 'premium_paid_amount': {'value': None, 'type': 'double'}, 'claim_intimation_amount': {'value': None, 'type': 'double'}, 'claim_paid_amount': {'value': None, 'type': 'double'}, 'premium_paid_date': {'value': None, 'type': 'datetime'}, 'claim_intimation_date': {'value': None, 'type': 'datetime'}, 'claim_paid_date': {'value': None, 'type': 'datetime'}}\n",
      "\n",
      "------------------------------------\n",
      "\n"
     ]
    }
   ],
   "source": [
    "for a_convo_str, a_convo_data in convo_reader.conversations.items():\n",
    "    # if 'Surveyor Appointed for Ticket No:' in a_convo_str:\n",
    "        (full_convo, attachments, all_files) = a_convo_data.get_full_convo()\n",
    "        attachments: list[EmailAttachment] = attachments\n",
    "        insLLM = InsuranceERPLLM()\n",
    "        insLLM.store_convo_in_vector_store(f\"{full_convo}\")\n",
    "        insLLM.search_convo_vector_store()\n",
    "        insLLM.query_from_final_results(insLLM.convo_query_results)\n",
    "        print(\"------------------------------------\")\n",
    "        insLLM.store_documents_in_vector_store(attachments)\n",
    "        if insLLM.all_documents:\n",
    "            insLLM.search_documents_vector_store()\n",
    "            insLLM.query_from_final_results(insLLM.document_query_results)\n",
    "        # print(json.dumps(insLLM.queries_results, indent=4))\n",
    "        insLLM.clean_query_results()\n",
    "        # for attchmnt in attachments:\n",
    "        #     print(attchmnt)\n",
    "        # for a_msg in full_convo:\n",
    "        #     print(json.dumps(a_msg, indent=4))\n",
    "        print(insLLM.queries_results)\n",
    "        insLLM.record_data(all_files)\n",
    "        print(\"\")\n",
    "        print(\"------------------------------------\")\n",
    "        print(\"\")\n",
    "        # break\n"
   ]
  },
  {
   "cell_type": "code",
   "execution_count": 4,
   "metadata": {},
   "outputs": [
    {
     "name": "stdout",
     "output_type": "stream",
     "text": [
      "{'net_premium': {'value': None, 'type': 'double'}, 'issue_date': {'value': None, 'type': 'datetime'}, 'covernote_number': {'value': None, 'type': 'string'}, 'policy_number': {'value': None, 'type': 'string'}, 'claim_number': {'value': None, 'type': 'string'}, 'customer_name': {'value': 'mir babarali', 'type': 'string'}, 'company_name': {'value': 'adamjeeinsurance', 'type': 'string'}, 'risk_type': {'value': 'Electronic Equipment Insurance', 'type': 'string'}, 'event_type': {'value': 'policy_issued', 'type': 'string'}, 'sum_insured': {'value': None, 'type': 'double'}, 'premium_paid_amount': {'value': None, 'type': 'double'}, 'claim_intimation_amount': {'value': None, 'type': 'double'}, 'claim_paid_amount': {'value': None, 'type': 'double'}, 'premium_paid_date': {'value': None, 'type': 'datetime'}, 'claim_intimation_date': {'value': None, 'type': 'datetime'}, 'claim_paid_date': {'value': None, 'type': 'datetime'}}\n"
     ]
    }
   ],
   "source": [
    "print(insLLM.queries_results)"
   ]
  },
  {
   "cell_type": "code",
   "execution_count": null,
   "metadata": {},
   "outputs": [],
   "source": [
    "{'net_premium': {'value': None, 'type': 'double'}, 'issue_date': {'value': None, 'type': 'datetime'}, 'covernote_number': {'value': None, 'type': 'string'}, 'policy_number': {'value': None, 'type': 'string'}, 'claim_number': {'value': None, 'type': 'string'}, 'customer_name': {'value': 'Minah Babar', 'type': 'string'}, 'risk_type': {'value': 'Electronic Equipment Insurance', 'type': 'string'}, 'event_type': {'value': 'policy_issued', 'type': 'string'}, 'sum_insured': {'value': None, 'type': 'double'}, 'premium_paid_amount': {'value': None, 'type': 'double'}, 'claim_intimation_amount': {'value': None, 'type': 'double'}, 'claim_paid_amount': {'value': None, 'type': 'double'}, 'premium_paid_date': {'value': None, 'type': 'datetime'}, 'claim_intimation_date': {'value': None, 'type': 'datetime'}, 'claim_paid_date': {'value': None, 'type': 'datetime'}}\n"
   ]
  },
  {
   "cell_type": "code",
   "execution_count": null,
   "metadata": {},
   "outputs": [],
   "source": [
    "from datetime import datetime\n",
    "import re\n",
    "\n",
    "\n",
    "for key, value_dict in insLLM.queries_results.items():\n",
    "    data_type = value_dict[\"type\"]\n",
    "    data_value = value_dict[\"value\"]\n",
    "    # value_dict[\"value\"] = insLLM.raw_results[key]\n",
    "    # continue\n",
    "    if data_value is not None and type(data_value) is str and \"404 Not Found\" not in data_value:\n",
    "        # Clean the data value\n",
    "        data_values = data_value.split(\"=\")\n",
    "        cleaned_value = data_values[-1].strip().replace(\"'\", \"\")\n",
    "\n",
    "        # Convert the cleaned data value to the specified type\n",
    "        if data_type == \"double\":\n",
    "            try:\n",
    "                # Extract numbers from the string using regex\n",
    "                cleaned_value = re.sub(r'[^\\d.]', '', cleaned_value)\n",
    "                cleaned_value = float(cleaned_value)\n",
    "            except ValueError:\n",
    "                cleaned_value = None\n",
    "                raise Exception\n",
    "        elif data_type == \"datetime\":\n",
    "            try:\n",
    "                # Extract date in the format YYYY-MM-DD using regex\n",
    "                match = re.search(r'\\d{4}-\\d{2}-\\d{2}', cleaned_value)\n",
    "                if match:\n",
    "                    cleaned_value = datetime.strptime(match.group(), \"%Y-%m-%d\")\n",
    "                else:\n",
    "                    cleaned_value = None\n",
    "            except ValueError:\n",
    "                cleaned_value = None\n",
    "                raise Exception\n",
    "        elif data_type == \"string\":\n",
    "            cleaned_value = str(cleaned_value)\n",
    "        \n",
    "        # Update the value in the dictionary\n",
    "        value_dict[\"value\"] = cleaned_value\n",
    "\n",
    "print(insLLM.queries_results)"
   ]
  },
  {
   "cell_type": "code",
   "execution_count": null,
   "metadata": {},
   "outputs": [],
   "source": [
    "for a_convo_str, a_convo_data in convo_reader.conversations.items():\n",
    "    if 'Remaining Claim Amount' in a_convo_str:\n",
    "        (full_convo, attachments, all_files) = a_convo_data.get_full_convo()\n",
    "        attachments: list[EmailAttachment] = attachments\n",
    "        # insLLM = InsuranceERPLLM()\n",
    "        # insLLM.store_documents_in_vector_store(attachments)\n",
    "        # insLLM.search_documents_vector_store()\n",
    "        # insLLM.query_from_final_results(insLLM.document_query_results)\n",
    "        for attchmnt in attachments:\n",
    "            print(attchmnt)\n",
    "        for a_msg in full_convo:\n",
    "            print(json.dumps(a_msg, indent=4))\n",
    "        print(\"\")\n",
    "        print(\"------------------------------------\")\n",
    "        print(\"\")\n",
    "        break"
   ]
  },
  {
   "cell_type": "code",
   "execution_count": null,
   "metadata": {},
   "outputs": [],
   "source": [
    "insLLM = InsuranceERPLLM()\n",
    "insLLM.store_convo_in_vector_store(f\"{dummy_convo}\")\n",
    "insLLM.search_convo_vector_store()\n",
    "insLLM.query_from_final_results(insLLM.convo_query_results)"
   ]
  }
 ],
 "metadata": {
  "kernelspec": {
   "display_name": "minsirenv",
   "language": "python",
   "name": "python3"
  },
  "language_info": {
   "codemirror_mode": {
    "name": "ipython",
    "version": 3
   },
   "file_extension": ".py",
   "mimetype": "text/x-python",
   "name": "python",
   "nbconvert_exporter": "python",
   "pygments_lexer": "ipython3",
   "version": "3.12.4"
  },
  "orig_nbformat": 4
 },
 "nbformat": 4,
 "nbformat_minor": 2
}
