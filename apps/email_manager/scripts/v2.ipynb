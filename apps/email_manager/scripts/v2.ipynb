{
 "cells": [
  {
   "cell_type": "code",
   "execution_count": 1,
   "metadata": {},
   "outputs": [],
   "source": [
    "import sys\n",
    "import django\n",
    "import os\n",
    "file_dir = \"/Users/mirbilal/Desktop/minsir/\"\n",
    "if file_dir not in sys.path:\n",
    "    sys.path.insert(0, file_dir)\n",
    "\n",
    "os.environ[\"DJANGO_SETTINGS_MODULE\"] = \"minsirx.settings\"\n",
    "os.environ[\"DJANGO_ALLOW_ASYNC_UNSAFE\"] = \"true\" \n",
    "os.environ[\"OPENAI_API_KEY\"] = \"sk-proj-FZ2v2sIScsxguqHnuT4VT3BlbkFJEgAuDrqMx91v7PG2fhDu\"\n",
    "django.setup()\n",
    "from apps.email_manager.service_layer.email_linker import ConversationReader\n",
    "import json\n",
    "from datetime import datetime\n",
    "from apps.email_manager.service_layer.insurance_erp_llm import InsuranceERPLLM\n",
    "from apps.email_manager.models.email import EmailAttachment\n",
    "\n"
   ]
  },
  {
   "cell_type": "code",
   "execution_count": 2,
   "metadata": {},
   "outputs": [
    {
     "name": "stderr",
     "output_type": "stream",
     "text": [
      "/Users/mirbilal/Desktop/minsir/minsirenv/lib/python3.12/site-packages/django/db/models/fields/__init__.py:1659: RuntimeWarning: DateTimeField EmailData.date received a naive datetime (2024-02-10 00:00:00) while time zone support is active.\n",
      "  warnings.warn(\n",
      "/Users/mirbilal/Desktop/minsir/minsirenv/lib/python3.12/site-packages/django/db/models/fields/__init__.py:1659: RuntimeWarning: DateTimeField EmailData.date received a naive datetime (2024-02-20 00:00:00) while time zone support is active.\n",
      "  warnings.warn(\n"
     ]
    }
   ],
   "source": [
    "convo_reader = ConversationReader(\n",
    "    start_date=datetime(year=2024, month=2, day=10),\n",
    "    end_date=datetime(year=2024, month=2, day=20),\n",
    ")\n",
    "convo_reader.extract_conversation()\n"
   ]
  },
  {
   "cell_type": "code",
   "execution_count": 3,
   "metadata": {},
   "outputs": [
    {
     "name": "stderr",
     "output_type": "stream",
     "text": [
      "/Users/mirbilal/Desktop/minsir/minsirenv/lib/python3.12/site-packages/sentence_transformers/cross_encoder/CrossEncoder.py:11: TqdmExperimentalWarning: Using `tqdm.autonotebook.tqdm` in notebook mode. Use `tqdm.tqdm` instead to force console mode (e.g. in jupyter console)\n",
      "  from tqdm.autonotebook import tqdm, trange\n",
      "/Users/mirbilal/Desktop/minsir/minsirenv/lib/python3.12/site-packages/threadpoolctl.py:1214: RuntimeWarning: \n",
      "Found Intel OpenMP ('libiomp') and LLVM OpenMP ('libomp') loaded at\n",
      "the same time. Both libraries are known to be incompatible and this\n",
      "can cause random crashes or deadlocks on Linux when loaded in the\n",
      "same Python program.\n",
      "Using threadpoolctl may cause crashes or deadlocks. For more\n",
      "information and possible workarounds, please see\n",
      "    https://github.com/joblib/threadpoolctl/blob/master/multiple_openmp.md\n",
      "\n",
      "  warnings.warn(msg, RuntimeWarning)\n",
      "/Users/mirbilal/Desktop/minsir/minsirenv/lib/python3.12/site-packages/huggingface_hub/file_download.py:1132: FutureWarning: `resume_download` is deprecated and will be removed in version 1.0.0. Downloads always resume when possible. If you want to force a new download, use `force_download=True`.\n",
      "  warnings.warn(\n"
     ]
    },
    {
     "name": "stdout",
     "output_type": "stream",
     "text": [
      "{\n",
      "    \"net_premium\": {\n",
      "        \"Choice 1\": \"INVOICE NO. AMT -995-2024-02 \\nINSURANCE POLICY / CERTIFICATE IN  1 ORIGINAL AND 1 COP Y \\nFOR 1 10% INVOICE VALUE, BLANK ENDORSED SHOWING \\nCLAIMS PAYABLE  AT DESTINATION IN CURRENCY OF TH E L/C, \\nCOVERING ALL RISKS AS PER ICC (A) AND WAR RISKS FROM \\nLOADING PORT TO DISCHARGE PORT , INDICATING THE NAME \\nAND ADDRESS OF INSURANCE COMPANY\\u2019S SURVAY IN CHINA .\",\n",
      "        \"Choice 2\": \"INVOICE NO. AMT -995-2024-02 \\nINSURANCE POLICY / CERTIFICATE IN  1 ORIGINAL AND 1 COP Y \\nFOR 1 10% INVOICE VALUE, BLANK ENDORSED SHOWING \\nCLAIMS PAYABLE  AT DESTINATION IN CURRENCY OF TH E L/C, \\nCOVERING ALL RISKS AS PER ICC (A) AND WAR RISKS FROM \\nLOADING PORT TO DISCHARGE PORT , INDICATING THE NAME \\nAND ADDRESS OF INSURANCE COMPANY\\u2019S SURVAY IN CHINA .\",\n",
      "        \"Choice 3\": \"War Risk Rate Adjustment Clause,\\nInstitute War Cancellation Clause (Cargo)\\nInstitute Strikes Clauses (Cargo)\\nInstitute Classification Clause\\nSubject to Cargo Termination of Transit Clause (Terrorism)\\nCARRIER'S BREACH OF TRUST EXCLUSION CLAUSE (INLAND TRANSIT)\\nCommunicable Disease Exclusion (Cargo)\\nCovering All Risk From Karachi Port To Gaoming Warehouse China\\nExcluding losses resulting from moisture due to un-fitness of container &/or improper ventilation in container.\\nWarranted No claim for any loss or damage by a peril insured against or  otherwise which may have been sustained prior to attachment \\nof risk under the policy.\\nWarranted all six sides of the iron bound cotton bales must be protected by hessian cloth.\\nSubject to Premium Payment as per Rule - 58 of Insurance Rule 2017 - SRO 89(1)/2017 issued by SECP\\nWarranted that this insurance will not cover any shipment which is in breach of SRO 928(I)/2019 (with exception of therapeutic products)\"\n",
      "    },\n",
      "    \"issue_date\": {\n",
      "        \"Choice 1\": \"Warranted that this insurance will not cover any shipment which is in breach of SRO 928(I)/2019 (with exception of therapeutic products)\\nissued by Government of Pakistan on 9th August, 2019\\nINSURANCE POLICY / CERTIFICATE IN 1 ORIGINAL AND 1 COPY FOR 110% INVOICE VALUE, BLANK ENDORSED SHOWING CLAIMS THE ATTACHED TERMS, CLAUSES,  CONDITIONS, ENDORSEMENTS, WARRANTIES AND EXCLUSIONS FORM PART OF \\nTHE POLICY ::1: Business Type\\nAmount in Words: AMERICAN DOLLARS One hundred fifty-nine thousand eight hundred eighty-five onlyExcess & Deductible1.  Bank Al-Habib Limited     A/C AL-MUQEET TEXTILE (PVT) LIMITED Insured :\\nPAKISTAN RUPEES Forty-four millions seven hundred thirty-five\\nthousand eight hundred twenty-three only              22,368\\n              22,368\\n              44,736\\n               2,237\\n              46,973\\n                 470\\n               2,684\\n              50,127:? Voyage No CB0000016139: Customer Code\",\n",
      "        \"Choice 2\": \"INVOICE NO. AMT -995-2024-02 \\nINSURANCE POLICY / CERTIFICATE IN  1 ORIGINAL AND 1 COP Y \\nFOR 1 10% INVOICE VALUE, BLANK ENDORSED SHOWING \\nCLAIMS PAYABLE  AT DESTINATION IN CURRENCY OF TH E L/C, \\nCOVERING ALL RISKS AS PER ICC (A) AND WAR RISKS FROM \\nLOADING PORT TO DISCHARGE PORT , INDICATING THE NAME \\nAND ADDRESS OF INSURANCE COMPANY\\u2019S SURVAY IN CHINA .\",\n",
      "        \"Choice 3\": \"INVOICE NO. AMT -995-2024-02 \\nINSURANCE POLICY / CERTIFICATE IN  1 ORIGINAL AND 1 COP Y \\nFOR 1 10% INVOICE VALUE, BLANK ENDORSED SHOWING \\nCLAIMS PAYABLE  AT DESTINATION IN CURRENCY OF TH E L/C, \\nCOVERING ALL RISKS AS PER ICC (A) AND WAR RISKS FROM \\nLOADING PORT TO DISCHARGE PORT , INDICATING THE NAME \\nAND ADDRESS OF INSURANCE COMPANY\\u2019S SURVAY IN CHINA .\"\n",
      "    },\n",
      "    \"covernote_number\": {\n",
      "        \"Choice 1\": \"INVOICE NO. AMT -995-2024-02 \\nINSURANCE POLICY / CERTIFICATE IN  1 ORIGINAL AND 1 COP Y \\nFOR 1 10% INVOICE VALUE, BLANK ENDORSED SHOWING \\nCLAIMS PAYABLE  AT DESTINATION IN CURRENCY OF TH E L/C, \\nCOVERING ALL RISKS AS PER ICC (A) AND WAR RISKS FROM \\nLOADING PORT TO DISCHARGE PORT , INDICATING THE NAME \\nAND ADDRESS OF INSURANCE COMPANY\\u2019S SURVAY IN CHINA .\",\n",
      "        \"Choice 2\": \"INVOICE NO. AMT -995-2024-02 \\nINSURANCE POLICY / CERTIFICATE IN  1 ORIGINAL AND 1 COP Y \\nFOR 1 10% INVOICE VALUE, BLANK ENDORSED SHOWING \\nCLAIMS PAYABLE  AT DESTINATION IN CURRENCY OF TH E L/C, \\nCOVERING ALL RISKS AS PER ICC (A) AND WAR RISKS FROM \\nLOADING PORT TO DISCHARGE PORT , INDICATING THE NAME \\nAND ADDRESS OF INSURANCE COMPANY\\u2019S SURVAY IN CHINA .\",\n",
      "        \"Choice 3\": \"1,#03-02 Tampines Plaza,Singapore 529541Company\\nTelephone: +65 6222 6022 Phone No.\\nFax: +65 6225 0428 Fax No.\\nEmail: info@wkwebster.com.sg Email\\nWebsite: http://www.wkwebster.com Web SitePAYABLE AT DESTINATION IN CURRENCY OF THE L/C, COVERING ALL RISKS AS PER ICC (A) AND WAR RISKS FROM LOADING \\nPORT TO DISCHARGE PORT, INDICATING THE NAME AND ADDRESS OF INSURANCE COMPANY'S SURVAY IN CHINA.\\nMarine Cyber Endorsement  LMA 5403\\nInstitute Radioactive Contamination, Chemicals, Biological, Biochemical and Electromagnetic Weapons Exclusion Clause.\\nCargo ISM Forwarding Charges Clause\\nCARGO ISM ENDORSEMENT\\nContracts (Rights of Third Parties) Act 1999 Clarification Clause (Cargo)\\nIMPORTANT: Please follow the directions as overleaf.As per institute of London  Under-writer's clause current on the date of sailing. Warranted that the interest insured under the cover is \\nshipped in containers on deck.Five Powers War Exclusion Clause (amended to include triggering of NATO Agreement)\"\n",
      "    },\n",
      "    \"policy_number\": {\n",
      "        \"Choice 1\": \"INVOICE NO. AMT -995-2024-02 \\nINSURANCE POLICY / CERTIFICATE IN  1 ORIGINAL AND 1 COP Y \\nFOR 1 10% INVOICE VALUE, BLANK ENDORSED SHOWING \\nCLAIMS PAYABLE  AT DESTINATION IN CURRENCY OF TH E L/C, \\nCOVERING ALL RISKS AS PER ICC (A) AND WAR RISKS FROM \\nLOADING PORT TO DISCHARGE PORT , INDICATING THE NAME \\nAND ADDRESS OF INSURANCE COMPANY\\u2019S SURVAY IN CHINA .\",\n",
      "        \"Choice 2\": \"INVOICE NO. AMT -995-2024-02 \\nINSURANCE POLICY / CERTIFICATE IN  1 ORIGINAL AND 1 COP Y \\nFOR 1 10% INVOICE VALUE, BLANK ENDORSED SHOWING \\nCLAIMS PAYABLE  AT DESTINATION IN CURRENCY OF TH E L/C, \\nCOVERING ALL RISKS AS PER ICC (A) AND WAR RISKS FROM \\nLOADING PORT TO DISCHARGE PORT , INDICATING THE NAME \\nAND ADDRESS OF INSURANCE COMPANY\\u2019S SURVAY IN CHINA .\",\n",
      "        \"Choice 3\": \"1,#03-02 Tampines Plaza,Singapore 529541Company\\nTelephone: +65 6222 6022 Phone No.\\nFax: +65 6225 0428 Fax No.\\nEmail: info@wkwebster.com.sg Email\\nWebsite: http://www.wkwebster.com Web SitePAYABLE AT DESTINATION IN CURRENCY OF THE L/C, COVERING ALL RISKS AS PER ICC (A) AND WAR RISKS FROM LOADING \\nPORT TO DISCHARGE PORT, INDICATING THE NAME AND ADDRESS OF INSURANCE COMPANY'S SURVAY IN CHINA.\\nMarine Cyber Endorsement  LMA 5403\\nInstitute Radioactive Contamination, Chemicals, Biological, Biochemical and Electromagnetic Weapons Exclusion Clause.\\nCargo ISM Forwarding Charges Clause\\nCARGO ISM ENDORSEMENT\\nContracts (Rights of Third Parties) Act 1999 Clarification Clause (Cargo)\\nIMPORTANT: Please follow the directions as overleaf.As per institute of London  Under-writer's clause current on the date of sailing. Warranted that the interest insured under the cover is \\nshipped in containers on deck.Five Powers War Exclusion Clause (amended to include triggering of NATO Agreement)\"\n",
      "    }\n",
      "}\n",
      "Number of tokens: 1018\n"
     ]
    },
    {
     "name": "stderr",
     "output_type": "stream",
     "text": [
      "/Users/mirbilal/Desktop/minsir/minsirenv/lib/python3.12/site-packages/langchain_core/_api/deprecation.py:139: LangChainDeprecationWarning: The class `ChatOpenAI` was deprecated in LangChain 0.0.10 and will be removed in 0.3.0. An updated version of the class exists in the langchain-openai package and should be used instead. To use it run `pip install -U langchain-openai` and import as `from langchain_openai import ChatOpenAI`.\n",
      "  warn_deprecated(\n",
      "/Users/mirbilal/Desktop/minsir/minsirenv/lib/python3.12/site-packages/langchain_core/_api/deprecation.py:139: LangChainDeprecationWarning: The method `BaseChatModel.__call__` was deprecated in langchain-core 0.1.7 and will be removed in 0.3.0. Use invoke instead.\n",
      "  warn_deprecated(\n",
      "huggingface/tokenizers: The current process just got forked, after parallelism has already been used. Disabling parallelism to avoid deadlocks...\n",
      "To disable this warning, you can either:\n",
      "\t- Avoid using `tokenizers` before the fork if possible\n",
      "\t- Explicitly set the environment variable TOKENIZERS_PARALLELISM=(true | false)\n"
     ]
    },
    {
     "name": "stdout",
     "output_type": "stream",
     "text": [
      "=404 Not Found\n",
      "-----\n",
      "Answer: =2019-08-09\n",
      "-----\n",
      "=404 Not Found\n",
      "-----\n",
      "=404 Not Found\n",
      "-----\n",
      "\n",
      "------------------------------------\n",
      "\n"
     ]
    }
   ],
   "source": [
    "for a_convo_str, a_convo_data in convo_reader.conversations.items():\n",
    "    if 'INVOICE FOR INSURANCE COVER' in a_convo_str:\n",
    "        (full_convo, attachments) = a_convo_data.get_full_convo()\n",
    "        attachments: list[EmailAttachment] = attachments\n",
    "        insLLM = InsuranceERPLLM()\n",
    "        insLLM.store_documents_in_vector_store(attachments)\n",
    "        insLLM.search_documents_vector_store()\n",
    "        insLLM.query_from_final_results(insLLM.document_query_results)\n",
    "        # for attchmnt in attachments:\n",
    "        #     print(attchmnt)\n",
    "        # for a_msg in full_convo:\n",
    "        #     print(json.dumps(a_msg, indent=4))\n",
    "        print(\"\")\n",
    "        print(\"------------------------------------\")\n",
    "        print(\"\")\n",
    "        break\n"
   ]
  },
  {
   "cell_type": "code",
   "execution_count": 10,
   "metadata": {},
   "outputs": [
    {
     "name": "stdout",
     "output_type": "stream",
     "text": [
      "/Users/mirbilal/Desktop/minsir/media/email_attachments/AMT-994-2024-02_dBnocPv.pdf\n",
      "/Users/mirbilal/Desktop/minsir/media/email_attachments/AMT-995-2024-02_BTEPAPf.pdf\n",
      "/Users/mirbilal/Desktop/minsir/media/email_attachments/INSURANCE_POLICY_AMT-995-2024-02_So5tDAZ.pdf\n",
      "/Users/mirbilal/Desktop/minsir/media/email_attachments/PR-0224-202504-M03-000152_btLlCci.pdf\n",
      "/Users/mirbilal/Desktop/minsir/media/email_attachments/PR-0224-202504-M03-000153_1dspkR8.pdf\n",
      "/Users/mirbilal/Desktop/minsir/media/email_attachments/AMT-994-2024-02_jA5t25U.pdf\n",
      "/Users/mirbilal/Desktop/minsir/media/email_attachments/AMT-995-2024-02_DeHnYuQ.pdf\n",
      "/Users/mirbilal/Desktop/minsir/media/email_attachments/INSURANCE_POLICY_AMT-995-2024-02_EvCFqfS.pdf\n",
      "{\n",
      "    \"from\": \"waseem.shahzad@adamjeeinsurance.com\",\n",
      "    \"to\": [\n",
      "        \"shahzad@almuqeettextiles.com\"\n",
      "    ],\n",
      "    \"date\": \"February 19, 2024, 7:55 AM\",\n",
      "    \"subject\": \"FW: INVOICE FOR INSURANCE COVER\",\n",
      "    \"body\": \"Dear Mr. Shahzad\\n\\u00a0\\nPlease check attachment Initial draft of Marine Export Policies and share B/L, Vessel & Sailing date as soon as possible\\n\\u00a0\\nWaseem Shahzad\\n\\u00a0\\n\"\n",
      "}\n",
      "{\n",
      "    \"from\": \"shahzad@almuqeettextiles.com\",\n",
      "    \"to\": [\n",
      "        \"waseem.shahzad@adamjeeinsurance.com\"\n",
      "    ],\n",
      "    \"date\": \"February 19, 2024, 12:00 PM\",\n",
      "    \"subject\": \"INVOICE FOR INSURANCE COVER\",\n",
      "    \"body\": \"Dear Mir Babar,\\n\\u00a0\\nPlease make a cover and insurance Policy as per attached file. Other detail we will share you after sailing of vessel.\\n\\u00a0\\nBest Regards,\\nShahzad Khan \\n|\\n\\u00a0\\nAL-MUQEET TEXTILES (PVT.) LTD.\\nT\\n \\n+92 21 3563 8362-5\\n \\n|\\u00a0\\nF\\n \\n+92 21 3563 8366\\n \\n|\\n \\nC\\n \\n+92 323 3570114 \\nA\\n \\nM6, Mezzanine Floor, Beaumont Plaza, CL-10 ,Beaumont Road, Karachi - 75530 Pakistan.\\nE\\n \\nshahzad@almuqeettextiles.com\\n|\\n \\nW\\n \\nwww.almuqeettextiles.com\"\n",
      "}\n",
      "\n",
      "------------------------------------\n",
      "\n"
     ]
    }
   ],
   "source": [
    "for a_convo_str, a_convo_data in convo_reader.conversations.items():\n",
    "    if 'INVOICE FOR INSURANCE COVER' in a_convo_str:\n",
    "        (full_convo, attachments) = a_convo_data.get_full_convo()\n",
    "        attachments: list[EmailAttachment] = attachments\n",
    "        # insLLM = InsuranceERPLLM()\n",
    "        # insLLM.store_documents_in_vector_store(attachments)\n",
    "        # insLLM.search_documents_vector_store()\n",
    "        # insLLM.query_from_final_results(insLLM.document_query_results)\n",
    "        for attchmnt in attachments:\n",
    "            print(attchmnt)\n",
    "        for a_msg in full_convo:\n",
    "            print(json.dumps(a_msg, indent=4))\n",
    "        print(\"\")\n",
    "        print(\"------------------------------------\")\n",
    "        print(\"\")\n",
    "        break"
   ]
  },
  {
   "cell_type": "code",
   "execution_count": null,
   "metadata": {},
   "outputs": [],
   "source": [
    "insLLM = InsuranceERPLLM()\n",
    "insLLM.store_convo_in_vector_store(f\"{dummy_convo}\")\n",
    "insLLM.search_convo_vector_store()\n",
    "insLLM.query_from_final_results(insLLM.convo_query_results)"
   ]
  }
 ],
 "metadata": {
  "kernelspec": {
   "display_name": "minsirenv",
   "language": "python",
   "name": "python3"
  },
  "language_info": {
   "codemirror_mode": {
    "name": "ipython",
    "version": 3
   },
   "file_extension": ".py",
   "mimetype": "text/x-python",
   "name": "python",
   "nbconvert_exporter": "python",
   "pygments_lexer": "ipython3",
   "version": "3.12.4"
  },
  "orig_nbformat": 4
 },
 "nbformat": 4,
 "nbformat_minor": 2
}
