{
 "cells": [
  {
   "cell_type": "code",
   "execution_count": 1,
   "metadata": {},
   "outputs": [
    {
     "name": "stderr",
     "output_type": "stream",
     "text": [
      "/Users/mirbilal/Desktop/minsir/minsirenv/lib/python3.12/site-packages/threadpoolctl.py:1214: RuntimeWarning: \n",
      "Found Intel OpenMP ('libiomp') and LLVM OpenMP ('libomp') loaded at\n",
      "the same time. Both libraries are known to be incompatible and this\n",
      "can cause random crashes or deadlocks on Linux when loaded in the\n",
      "same Python program.\n",
      "Using threadpoolctl may cause crashes or deadlocks. For more\n",
      "information and possible workarounds, please see\n",
      "    https://github.com/joblib/threadpoolctl/blob/master/multiple_openmp.md\n",
      "\n",
      "  warnings.warn(msg, RuntimeWarning)\n"
     ]
    }
   ],
   "source": [
    "import sys\n",
    "import django\n",
    "import os\n",
    "file_dir = \"/Users/mirbilal/Desktop/minsir/\"\n",
    "if file_dir not in sys.path:\n",
    "    sys.path.insert(0, file_dir)\n",
    "\n",
    "os.environ[\"DJANGO_SETTINGS_MODULE\"] = \"minsirx.settings\"\n",
    "os.environ[\"DJANGO_ALLOW_ASYNC_UNSAFE\"] = \"true\" \n",
    "os.environ[\"OPENAI_API_KEY\"] = \"sk-proj-FZ2v2sIScsxguqHnuT4VT3BlbkFJEgAuDrqMx91v7PG2fhDu\"\n",
    "django.setup()\n",
    "from apps.email_manager.service_layer.email_linker import ConversationReader\n",
    "import json\n",
    "from datetime import datetime\n",
    "from apps.email_manager.service_layer.insurance_erp_llm import InsuranceERPLLM\n",
    "from apps.email_manager.models.email import EmailAttachment\n",
    "\n"
   ]
  },
  {
   "cell_type": "code",
   "execution_count": 2,
   "metadata": {},
   "outputs": [
    {
     "name": "stderr",
     "output_type": "stream",
     "text": [
      "/Users/mirbilal/Desktop/minsir/minsirenv/lib/python3.12/site-packages/django/db/models/fields/__init__.py:1659: RuntimeWarning: DateTimeField EmailData.date received a naive datetime (2024-03-13 00:00:00) while time zone support is active.\n",
      "  warnings.warn(\n",
      "/Users/mirbilal/Desktop/minsir/minsirenv/lib/python3.12/site-packages/django/db/models/fields/__init__.py:1659: RuntimeWarning: DateTimeField EmailData.date received a naive datetime (2024-03-17 00:00:00) while time zone support is active.\n",
      "  warnings.warn(\n"
     ]
    }
   ],
   "source": [
    "convo_reader = ConversationReader(\n",
    "    start_date=datetime(year=2024, month=3, day=13),\n",
    "    end_date=datetime(year=2024, month=3, day=17),\n",
    ")\n",
    "convo_reader.extract_conversation()\n"
   ]
  },
  {
   "cell_type": "code",
   "execution_count": 3,
   "metadata": {},
   "outputs": [
    {
     "name": "stderr",
     "output_type": "stream",
     "text": [
      "/Users/mirbilal/Desktop/minsir/minsirenv/lib/python3.12/site-packages/huggingface_hub/file_download.py:1132: FutureWarning: `resume_download` is deprecated and will be removed in version 1.0.0. Downloads always resume when possible. If you want to force a new download, use `force_download=True`.\n",
      "  warnings.warn(\n",
      "/Users/mirbilal/Desktop/minsir/minsirenv/lib/python3.12/site-packages/langchain_core/_api/deprecation.py:139: LangChainDeprecationWarning: The class `ChatOpenAI` was deprecated in LangChain 0.0.10 and will be removed in 0.3.0. An updated version of the class exists in the langchain-openai package and should be used instead. To use it run `pip install -U langchain-openai` and import as `from langchain_openai import ChatOpenAI`.\n",
      "  warn_deprecated(\n",
      "/Users/mirbilal/Desktop/minsir/minsirenv/lib/python3.12/site-packages/langchain_core/_api/deprecation.py:139: LangChainDeprecationWarning: The method `BaseChatModel.__call__` was deprecated in langchain-core 0.1.7 and will be removed in 0.3.0. Use invoke instead.\n",
      "  warn_deprecated(\n",
      "huggingface/tokenizers: The current process just got forked, after parallelism has already been used. Disabling parallelism to avoid deadlocks...\n",
      "To disable this warning, you can either:\n",
      "\t- Avoid using `tokenizers` before the fork if possible\n",
      "\t- Explicitly set the environment variable TOKENIZERS_PARALLELISM=(true | false)\n"
     ]
    },
    {
     "name": "stdout",
     "output_type": "stream",
     "text": [
      "------------------------------------\n",
      "list index out of range\n",
      "{\n",
      "    \"net_premium\": {\n",
      "        \"value\": null,\n",
      "        \"type\": \"double\"\n",
      "    },\n",
      "    \"issue_date\": {\n",
      "        \"value\": null,\n",
      "        \"type\": \"datetime\"\n",
      "    },\n",
      "    \"covernote_number\": {\n",
      "        \"value\": null,\n",
      "        \"type\": \"string\"\n",
      "    },\n",
      "    \"policy_number\": {\n",
      "        \"value\": null,\n",
      "        \"type\": \"string\"\n",
      "    },\n",
      "    \"claim_number\": {\n",
      "        \"value\": null,\n",
      "        \"type\": \"string\"\n",
      "    },\n",
      "    \"customer_name\": {\n",
      "        \"value\": \"insured=Muhammad Adnan\",\n",
      "        \"type\": \"string\"\n",
      "    },\n",
      "    \"risk_type\": {\n",
      "        \"value\": \"=Workers' Compensation Insurance\",\n",
      "        \"type\": \"string\"\n",
      "    },\n",
      "    \"event_type\": {\n",
      "        \"value\": \"claim_intimated\",\n",
      "        \"type\": \"string\"\n",
      "    },\n",
      "    \"sum_insured\": {\n",
      "        \"value\": \"=56,877\",\n",
      "        \"type\": \"double\"\n",
      "    },\n",
      "    \"premium_paid_amount\": {\n",
      "        \"value\": null,\n",
      "        \"type\": \"double\"\n",
      "    },\n",
      "    \"claim_intimation_amount\": {\n",
      "        \"value\": \"=Rs. 56,877\",\n",
      "        \"type\": \"double\"\n",
      "    },\n",
      "    \"claim_paid_amount\": {\n",
      "        \"value\": null,\n",
      "        \"type\": \"double\"\n",
      "    },\n",
      "    \"premium_paid_date\": {\n",
      "        \"value\": null,\n",
      "        \"type\": \"datetime\"\n",
      "    },\n",
      "    \"claim_intimation_date\": {\n",
      "        \"value\": \"=2024-03-15\",\n",
      "        \"type\": \"datetime\"\n",
      "    },\n",
      "    \"claim_paid_date\": {\n",
      "        \"value\": null,\n",
      "        \"type\": \"datetime\"\n",
      "    }\n",
      "}\n",
      "/Users/mirbilal/Desktop/minsir/media/email_attachments/Syed_konain_18077_Lhvqtgb.pdf\n",
      "/Users/mirbilal/Desktop/minsir/media/email_attachments/Syed_konain_38800_i7zEuSr.pdf\n",
      "\n",
      "------------------------------------\n",
      "\n"
     ]
    },
    {
     "name": "stderr",
     "output_type": "stream",
     "text": [
      "/Users/mirbilal/Desktop/minsir/minsirenv/lib/python3.12/site-packages/django/db/models/fields/__init__.py:1659: RuntimeWarning: DateTimeField Claim.date_of_intimation received a naive datetime (2024-03-15 00:00:00) while time zone support is active.\n",
      "  warnings.warn(\n"
     ]
    }
   ],
   "source": [
    "for a_convo_str, a_convo_data in convo_reader.conversations.items():\n",
    "    if 'Remaining Claim Amount' in a_convo_str:\n",
    "        (full_convo, attachments, all_files) = a_convo_data.get_full_convo()\n",
    "        attachments: list[EmailAttachment] = attachments\n",
    "        insLLM = InsuranceERPLLM()\n",
    "        insLLM.store_convo_in_vector_store(f\"{full_convo}\")\n",
    "        insLLM.search_convo_vector_store()\n",
    "        insLLM.query_from_final_results(insLLM.convo_query_results)\n",
    "        print(\"------------------------------------\")\n",
    "        insLLM.store_documents_in_vector_store(attachments)\n",
    "        if insLLM.all_documents:\n",
    "            insLLM.search_documents_vector_store()\n",
    "            insLLM.query_from_final_results(insLLM.document_query_results)\n",
    "        print(json.dumps(insLLM.queries_results, indent=4))\n",
    "        insLLM.clean_query_results()\n",
    "        for attchmnt in attachments:\n",
    "            print(attchmnt)\n",
    "        # for a_msg in full_convo:\n",
    "        #     print(json.dumps(a_msg, indent=4))\n",
    "        insLLM.record_data(all_files)\n",
    "        print(\"\")\n",
    "        print(\"------------------------------------\")\n",
    "        print(\"\")\n",
    "        break\n"
   ]
  },
  {
   "cell_type": "code",
   "execution_count": null,
   "metadata": {},
   "outputs": [],
   "source": [
    "from datetime import datetime\n",
    "from os import environ\n",
    "import re\n",
    "from langchain.document_loaders import PyPDFLoader\n",
    "from langchain.text_splitter import CharacterTextSplitter\n",
    "from langchain.vectorstores import FAISS\n",
    "from langchain_huggingface import HuggingFaceEmbeddings\n",
    "from langchain_community.chat_models import ChatOpenAI\n",
    "from langchain.schema import (\n",
    "    HumanMessage,\n",
    "    SystemMessage,\n",
    "    AIMessage\n",
    ")\n",
    "import json\n",
    "import torch\n",
    "from transformers import pipeline\n",
    "from statistics import mode\n",
    "\n",
    "from apps.risk_manager.models.policy import Policy, PolicyFile\n",
    "from sqlalchemy.orm import sessionmaker\n",
    "from sqlalchemy import create_engine\n",
    "\n",
    "from db_tables import Base, SQLPolicyFile"
   ]
  },
  {
   "cell_type": "code",
   "execution_count": null,
   "metadata": {},
   "outputs": [],
   "source": [
    "print(environ.get(\"DB_HOST\"))\n",
    "DATABASE_URL = f'postgresql://{environ.get(\"POSTGRES_USER\")}:{environ.get(\"POSTGRES_PASSWORD\")}@{environ.get(\"DB_HOST\")}:{environ.get(\"DB_PORT\")}/{environ.get(\"POSTGRES_DB\")}'\n",
    "\n",
    "engine = create_engine(DATABASE_URL)\n",
    "\n",
    "Session = sessionmaker(bind=engine)\n",
    "session = Session()\n",
    "if insLLM.event_type == 'policy_issued':\n",
    "    new_policy = Policy.objects.create(\n",
    "        issue_date=insLLM.queries_results[\"issue_date\"][\"value\"],\n",
    "        number=insLLM.queries_results[\"policy_number\"][\"value\"],\n",
    "        net_premium=insLLM.queries_results[\"net_premium\"][\"value\"],\n",
    "    )\n",
    "    # /Users/mirbilal/Desktop/minsir/media/email_attachments/ADAMJEE_INSURANCE_PAYMENT_SWIFT_16.02.2024-2_ZrruCMA.pdf\n",
    "    for file_path in attachments:\n",
    "        final_path = file_path.replace(\"/Users/mirbilal/Desktop/minsir/media/\", \"\")\n",
    "        name = final_path.replace(\"email_attachments/\", \"\")\n",
    "        file = SQLPolicyFile(\n",
    "            policy_id=new_policy.id,\n",
    "            name = name,\n",
    "            file = final_path\n",
    "        )\n",
    "        session.add(file)\n",
    "    session.commit()"
   ]
  },
  {
   "cell_type": "code",
   "execution_count": 4,
   "metadata": {},
   "outputs": [
    {
     "name": "stdout",
     "output_type": "stream",
     "text": [
      "--------\n",
      "--------\n"
     ]
    },
    {
     "ename": "TypeError",
     "evalue": "Object of type datetime is not JSON serializable",
     "output_type": "error",
     "traceback": [
      "\u001b[0;31m---------------------------------------------------------------------------\u001b[0m",
      "\u001b[0;31mTypeError\u001b[0m                                 Traceback (most recent call last)",
      "\u001b[1;32m/Users/mirbilal/Desktop/minsir/apps/email_manager/scripts/v2.ipynb Cell 6\u001b[0m line \u001b[0;36m7\n\u001b[1;32m      <a href='vscode-notebook-cell:/Users/mirbilal/Desktop/minsir/apps/email_manager/scripts/v2.ipynb#W6sZmlsZQ%3D%3D?line=3'>4</a>\u001b[0m \u001b[39mprint\u001b[39m(\u001b[39m\"\u001b[39m\u001b[39m--------\u001b[39m\u001b[39m\"\u001b[39m)\n\u001b[1;32m      <a href='vscode-notebook-cell:/Users/mirbilal/Desktop/minsir/apps/email_manager/scripts/v2.ipynb#W6sZmlsZQ%3D%3D?line=4'>5</a>\u001b[0m \u001b[39m# print(json.dumps(insLLM.raw_results, indent=4))\u001b[39;00m\n\u001b[1;32m      <a href='vscode-notebook-cell:/Users/mirbilal/Desktop/minsir/apps/email_manager/scripts/v2.ipynb#W6sZmlsZQ%3D%3D?line=5'>6</a>\u001b[0m \u001b[39m# print(\"--------\")\u001b[39;00m\n\u001b[0;32m----> <a href='vscode-notebook-cell:/Users/mirbilal/Desktop/minsir/apps/email_manager/scripts/v2.ipynb#W6sZmlsZQ%3D%3D?line=6'>7</a>\u001b[0m \u001b[39mprint\u001b[39m(json\u001b[39m.\u001b[39;49mdumps(insLLM\u001b[39m.\u001b[39;49mqueries_results, indent\u001b[39m=\u001b[39;49m\u001b[39m4\u001b[39;49m))\n",
      "File \u001b[0;32m/usr/local/Cellar/python@3.12/3.12.4/Frameworks/Python.framework/Versions/3.12/lib/python3.12/json/__init__.py:238\u001b[0m, in \u001b[0;36mdumps\u001b[0;34m(obj, skipkeys, ensure_ascii, check_circular, allow_nan, cls, indent, separators, default, sort_keys, **kw)\u001b[0m\n\u001b[1;32m    232\u001b[0m \u001b[39mif\u001b[39;00m \u001b[39mcls\u001b[39m \u001b[39mis\u001b[39;00m \u001b[39mNone\u001b[39;00m:\n\u001b[1;32m    233\u001b[0m     \u001b[39mcls\u001b[39m \u001b[39m=\u001b[39m JSONEncoder\n\u001b[1;32m    234\u001b[0m \u001b[39mreturn\u001b[39;00m \u001b[39mcls\u001b[39;49m(\n\u001b[1;32m    235\u001b[0m     skipkeys\u001b[39m=\u001b[39;49mskipkeys, ensure_ascii\u001b[39m=\u001b[39;49mensure_ascii,\n\u001b[1;32m    236\u001b[0m     check_circular\u001b[39m=\u001b[39;49mcheck_circular, allow_nan\u001b[39m=\u001b[39;49mallow_nan, indent\u001b[39m=\u001b[39;49mindent,\n\u001b[1;32m    237\u001b[0m     separators\u001b[39m=\u001b[39;49mseparators, default\u001b[39m=\u001b[39;49mdefault, sort_keys\u001b[39m=\u001b[39;49msort_keys,\n\u001b[0;32m--> 238\u001b[0m     \u001b[39m*\u001b[39;49m\u001b[39m*\u001b[39;49mkw)\u001b[39m.\u001b[39;49mencode(obj)\n",
      "File \u001b[0;32m/usr/local/Cellar/python@3.12/3.12.4/Frameworks/Python.framework/Versions/3.12/lib/python3.12/json/encoder.py:202\u001b[0m, in \u001b[0;36mJSONEncoder.encode\u001b[0;34m(self, o)\u001b[0m\n\u001b[1;32m    200\u001b[0m chunks \u001b[39m=\u001b[39m \u001b[39mself\u001b[39m\u001b[39m.\u001b[39miterencode(o, _one_shot\u001b[39m=\u001b[39m\u001b[39mTrue\u001b[39;00m)\n\u001b[1;32m    201\u001b[0m \u001b[39mif\u001b[39;00m \u001b[39mnot\u001b[39;00m \u001b[39misinstance\u001b[39m(chunks, (\u001b[39mlist\u001b[39m, \u001b[39mtuple\u001b[39m)):\n\u001b[0;32m--> 202\u001b[0m     chunks \u001b[39m=\u001b[39m \u001b[39mlist\u001b[39;49m(chunks)\n\u001b[1;32m    203\u001b[0m \u001b[39mreturn\u001b[39;00m \u001b[39m'\u001b[39m\u001b[39m'\u001b[39m\u001b[39m.\u001b[39mjoin(chunks)\n",
      "File \u001b[0;32m/usr/local/Cellar/python@3.12/3.12.4/Frameworks/Python.framework/Versions/3.12/lib/python3.12/json/encoder.py:432\u001b[0m, in \u001b[0;36m_make_iterencode.<locals>._iterencode\u001b[0;34m(o, _current_indent_level)\u001b[0m\n\u001b[1;32m    430\u001b[0m     \u001b[39myield from\u001b[39;00m _iterencode_list(o, _current_indent_level)\n\u001b[1;32m    431\u001b[0m \u001b[39melif\u001b[39;00m \u001b[39misinstance\u001b[39m(o, \u001b[39mdict\u001b[39m):\n\u001b[0;32m--> 432\u001b[0m     \u001b[39myield from\u001b[39;00m _iterencode_dict(o, _current_indent_level)\n\u001b[1;32m    433\u001b[0m \u001b[39melse\u001b[39;00m:\n\u001b[1;32m    434\u001b[0m     \u001b[39mif\u001b[39;00m markers \u001b[39mis\u001b[39;00m \u001b[39mnot\u001b[39;00m \u001b[39mNone\u001b[39;00m:\n",
      "File \u001b[0;32m/usr/local/Cellar/python@3.12/3.12.4/Frameworks/Python.framework/Versions/3.12/lib/python3.12/json/encoder.py:406\u001b[0m, in \u001b[0;36m_make_iterencode.<locals>._iterencode_dict\u001b[0;34m(dct, _current_indent_level)\u001b[0m\n\u001b[1;32m    404\u001b[0m         \u001b[39melse\u001b[39;00m:\n\u001b[1;32m    405\u001b[0m             chunks \u001b[39m=\u001b[39m _iterencode(value, _current_indent_level)\n\u001b[0;32m--> 406\u001b[0m         \u001b[39myield from\u001b[39;00m chunks\n\u001b[1;32m    407\u001b[0m \u001b[39mif\u001b[39;00m newline_indent \u001b[39mis\u001b[39;00m \u001b[39mnot\u001b[39;00m \u001b[39mNone\u001b[39;00m:\n\u001b[1;32m    408\u001b[0m     _current_indent_level \u001b[39m-\u001b[39m\u001b[39m=\u001b[39m \u001b[39m1\u001b[39m\n",
      "File \u001b[0;32m/usr/local/Cellar/python@3.12/3.12.4/Frameworks/Python.framework/Versions/3.12/lib/python3.12/json/encoder.py:406\u001b[0m, in \u001b[0;36m_make_iterencode.<locals>._iterencode_dict\u001b[0;34m(dct, _current_indent_level)\u001b[0m\n\u001b[1;32m    404\u001b[0m         \u001b[39melse\u001b[39;00m:\n\u001b[1;32m    405\u001b[0m             chunks \u001b[39m=\u001b[39m _iterencode(value, _current_indent_level)\n\u001b[0;32m--> 406\u001b[0m         \u001b[39myield from\u001b[39;00m chunks\n\u001b[1;32m    407\u001b[0m \u001b[39mif\u001b[39;00m newline_indent \u001b[39mis\u001b[39;00m \u001b[39mnot\u001b[39;00m \u001b[39mNone\u001b[39;00m:\n\u001b[1;32m    408\u001b[0m     _current_indent_level \u001b[39m-\u001b[39m\u001b[39m=\u001b[39m \u001b[39m1\u001b[39m\n",
      "File \u001b[0;32m/usr/local/Cellar/python@3.12/3.12.4/Frameworks/Python.framework/Versions/3.12/lib/python3.12/json/encoder.py:439\u001b[0m, in \u001b[0;36m_make_iterencode.<locals>._iterencode\u001b[0;34m(o, _current_indent_level)\u001b[0m\n\u001b[1;32m    437\u001b[0m         \u001b[39mraise\u001b[39;00m \u001b[39mValueError\u001b[39;00m(\u001b[39m\"\u001b[39m\u001b[39mCircular reference detected\u001b[39m\u001b[39m\"\u001b[39m)\n\u001b[1;32m    438\u001b[0m     markers[markerid] \u001b[39m=\u001b[39m o\n\u001b[0;32m--> 439\u001b[0m o \u001b[39m=\u001b[39m _default(o)\n\u001b[1;32m    440\u001b[0m \u001b[39myield from\u001b[39;00m _iterencode(o, _current_indent_level)\n\u001b[1;32m    441\u001b[0m \u001b[39mif\u001b[39;00m markers \u001b[39mis\u001b[39;00m \u001b[39mnot\u001b[39;00m \u001b[39mNone\u001b[39;00m:\n",
      "File \u001b[0;32m/usr/local/Cellar/python@3.12/3.12.4/Frameworks/Python.framework/Versions/3.12/lib/python3.12/json/encoder.py:180\u001b[0m, in \u001b[0;36mJSONEncoder.default\u001b[0;34m(self, o)\u001b[0m\n\u001b[1;32m    161\u001b[0m \u001b[39mdef\u001b[39;00m \u001b[39mdefault\u001b[39m(\u001b[39mself\u001b[39m, o):\n\u001b[1;32m    162\u001b[0m \u001b[39m    \u001b[39m\u001b[39m\"\"\"Implement this method in a subclass such that it returns\u001b[39;00m\n\u001b[1;32m    163\u001b[0m \u001b[39m    a serializable object for ``o``, or calls the base implementation\u001b[39;00m\n\u001b[1;32m    164\u001b[0m \u001b[39m    (to raise a ``TypeError``).\u001b[39;00m\n\u001b[0;32m   (...)\u001b[0m\n\u001b[1;32m    178\u001b[0m \n\u001b[1;32m    179\u001b[0m \u001b[39m    \"\"\"\u001b[39;00m\n\u001b[0;32m--> 180\u001b[0m     \u001b[39mraise\u001b[39;00m \u001b[39mTypeError\u001b[39;00m(\u001b[39mf\u001b[39m\u001b[39m'\u001b[39m\u001b[39mObject of type \u001b[39m\u001b[39m{\u001b[39;00mo\u001b[39m.\u001b[39m\u001b[39m__class__\u001b[39m\u001b[39m.\u001b[39m\u001b[39m__name__\u001b[39m\u001b[39m}\u001b[39;00m\u001b[39m \u001b[39m\u001b[39m'\u001b[39m\n\u001b[1;32m    181\u001b[0m                     \u001b[39mf\u001b[39m\u001b[39m'\u001b[39m\u001b[39mis not JSON serializable\u001b[39m\u001b[39m'\u001b[39m)\n",
      "\u001b[0;31mTypeError\u001b[0m: Object of type datetime is not JSON serializable"
     ]
    }
   ],
   "source": [
    "# print(json.dumps(insLLM.convo_query_results, indent=4))\n",
    "print(\"--------\")\n",
    "# print(json.dumps(insLLM.document_query_results, indent=4))\n",
    "print(\"--------\")\n",
    "# print(json.dumps(insLLM.raw_results, indent=4))\n",
    "# print(\"--------\")\n",
    "print(json.dumps(insLLM.queries_results, indent=4))"
   ]
  },
  {
   "cell_type": "code",
   "execution_count": 5,
   "metadata": {},
   "outputs": [
    {
     "name": "stdout",
     "output_type": "stream",
     "text": [
      "{'net_premium': {'value': None, 'type': 'double'}, 'issue_date': {'value': None, 'type': 'datetime'}, 'covernote_number': {'value': None, 'type': 'string'}, 'policy_number': {'value': None, 'type': 'string'}, 'claim_number': {'value': None, 'type': 'string'}, 'customer_name': {'value': 'Muhammad Adnan', 'type': 'string'}, 'risk_type': {'value': 'Workers Compensation Insurance', 'type': 'string'}, 'event_type': {'value': 'claim_intimated', 'type': 'string'}, 'sum_insured': {'value': 56877.0, 'type': 'double'}, 'premium_paid_amount': {'value': None, 'type': 'double'}, 'claim_intimation_amount': {'value': 56877.0, 'type': 'double'}, 'claim_paid_amount': {'value': None, 'type': 'double'}, 'premium_paid_date': {'value': None, 'type': 'datetime'}, 'claim_intimation_date': {'value': datetime.datetime(2024, 3, 15, 0, 0), 'type': 'datetime'}, 'claim_paid_date': {'value': None, 'type': 'datetime'}}\n"
     ]
    }
   ],
   "source": [
    "print(insLLM.queries_results)"
   ]
  },
  {
   "cell_type": "code",
   "execution_count": null,
   "metadata": {},
   "outputs": [],
   "source": []
  },
  {
   "cell_type": "code",
   "execution_count": null,
   "metadata": {},
   "outputs": [],
   "source": [
    "from datetime import datetime\n",
    "import re\n",
    "\n",
    "\n",
    "for key, value_dict in insLLM.queries_results.items():\n",
    "    data_type = value_dict[\"type\"]\n",
    "    data_value = value_dict[\"value\"]\n",
    "    # value_dict[\"value\"] = insLLM.raw_results[key]\n",
    "    # continue\n",
    "    if data_value is not None and type(data_value) is str and \"404 Not Found\" not in data_value:\n",
    "        # Clean the data value\n",
    "        data_values = data_value.split(\"=\")\n",
    "        cleaned_value = data_values[-1].strip().replace(\"'\", \"\")\n",
    "\n",
    "        # Convert the cleaned data value to the specified type\n",
    "        if data_type == \"double\":\n",
    "            try:\n",
    "                # Extract numbers from the string using regex\n",
    "                cleaned_value = re.sub(r'[^\\d.]', '', cleaned_value)\n",
    "                cleaned_value = float(cleaned_value)\n",
    "            except ValueError:\n",
    "                cleaned_value = None\n",
    "                raise Exception\n",
    "        elif data_type == \"datetime\":\n",
    "            try:\n",
    "                # Extract date in the format YYYY-MM-DD using regex\n",
    "                match = re.search(r'\\d{4}-\\d{2}-\\d{2}', cleaned_value)\n",
    "                if match:\n",
    "                    cleaned_value = datetime.strptime(match.group(), \"%Y-%m-%d\")\n",
    "                else:\n",
    "                    cleaned_value = None\n",
    "            except ValueError:\n",
    "                cleaned_value = None\n",
    "                raise Exception\n",
    "        elif data_type == \"string\":\n",
    "            cleaned_value = str(cleaned_value)\n",
    "        \n",
    "        # Update the value in the dictionary\n",
    "        value_dict[\"value\"] = cleaned_value\n",
    "\n",
    "print(insLLM.queries_results)"
   ]
  },
  {
   "cell_type": "code",
   "execution_count": null,
   "metadata": {},
   "outputs": [],
   "source": [
    "for a_convo_str, a_convo_data in convo_reader.conversations.items():\n",
    "    if 'Remaining Claim Amount' in a_convo_str:\n",
    "        (full_convo, attachments, all_files) = a_convo_data.get_full_convo()\n",
    "        attachments: list[EmailAttachment] = attachments\n",
    "        # insLLM = InsuranceERPLLM()\n",
    "        # insLLM.store_documents_in_vector_store(attachments)\n",
    "        # insLLM.search_documents_vector_store()\n",
    "        # insLLM.query_from_final_results(insLLM.document_query_results)\n",
    "        for attchmnt in attachments:\n",
    "            print(attchmnt)\n",
    "        for a_msg in full_convo:\n",
    "            print(json.dumps(a_msg, indent=4))\n",
    "        print(\"\")\n",
    "        print(\"------------------------------------\")\n",
    "        print(\"\")\n",
    "        break"
   ]
  },
  {
   "cell_type": "code",
   "execution_count": null,
   "metadata": {},
   "outputs": [],
   "source": [
    "insLLM = InsuranceERPLLM()\n",
    "insLLM.store_convo_in_vector_store(f\"{dummy_convo}\")\n",
    "insLLM.search_convo_vector_store()\n",
    "insLLM.query_from_final_results(insLLM.convo_query_results)"
   ]
  }
 ],
 "metadata": {
  "kernelspec": {
   "display_name": "minsirenv",
   "language": "python",
   "name": "python3"
  },
  "language_info": {
   "codemirror_mode": {
    "name": "ipython",
    "version": 3
   },
   "file_extension": ".py",
   "mimetype": "text/x-python",
   "name": "python",
   "nbconvert_exporter": "python",
   "pygments_lexer": "ipython3",
   "version": "3.12.4"
  },
  "orig_nbformat": 4
 },
 "nbformat": 4,
 "nbformat_minor": 2
}
